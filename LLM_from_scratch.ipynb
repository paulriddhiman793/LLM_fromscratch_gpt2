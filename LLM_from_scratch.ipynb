{
  "nbformat": 4,
  "nbformat_minor": 0,
  "metadata": {
    "colab": {
      "provenance": [],
      "gpuType": "T4"
    },
    "kernelspec": {
      "name": "python3",
      "display_name": "Python 3"
    },
    "language_info": {
      "name": "python"
    },
    "accelerator": "GPU"
  },
  "cells": [
    {
      "cell_type": "code",
      "execution_count": 1,
      "metadata": {
        "id": "DOuQqQpNP87c"
      },
      "outputs": [],
      "source": [
        "import os\n",
        "import urllib.request"
      ]
    },
    {
      "cell_type": "code",
      "source": [
        "filepath = '/content/the-verdict.txt'"
      ],
      "metadata": {
        "id": "Hf1qlK-NQqN0"
      },
      "execution_count": 2,
      "outputs": []
    },
    {
      "cell_type": "code",
      "source": [
        "with open (\"/content/the-verdict.txt\", \"r\", encoding=\"utf-8\") as f:\n",
        "  raw_text = f.read()"
      ],
      "metadata": {
        "id": "9d-VszNIQ3yy"
      },
      "execution_count": 3,
      "outputs": []
    },
    {
      "cell_type": "code",
      "source": [
        "raw_text"
      ],
      "metadata": {
        "colab": {
          "base_uri": "https://localhost:8080/",
          "height": 227
        },
        "id": "9d2k5oeyRm0B",
        "outputId": "65ed63d7-23df-46fe-8e16-37c4de7a68cc"
      },
      "execution_count": 4,
      "outputs": [
        {
          "output_type": "execute_result",
          "data": {
            "text/plain": [
              "'I HAD always thought Jack Gisburn rather a cheap genius--though a good fellow enough--so it was no great surprise to me to hear that, in the height of his glory, he had dropped his painting, married a rich widow, and established himself in a villa on the Riviera. (Though I rather thought it would have been Rome or Florence.)\\n\\n\"The height of his glory\"--that was what the women called it. I can hear Mrs. Gideon Thwing--his last Chicago sitter--deploring his unaccountable abdication. \"Of course it\\'s going to send the value of my picture \\'way up; but I don\\'t think of that, Mr. Rickham--the loss to Arrt is all I think of.\" The word, on Mrs. Thwing\\'s lips, multiplied its _rs_ as though they were reflected in an endless vista of mirrors. And it was not only the Mrs. Thwings who mourned. Had not the exquisite Hermia Croft, at the last Grafton Gallery show, stopped me before Gisburn\\'s \"Moon-dancers\" to say, with tears in her eyes: \"We shall not look upon its like again\"?\\n\\nWell!--even through the prism of Hermia\\'s tears I felt able to face the fact with equanimity. Poor Jack Gisburn! The women had made him--it was fitting that they should mourn him. Among his own sex fewer regrets were heard, and in his own trade hardly a murmur. Professional jealousy? Perhaps. If it were, the honour of the craft was vindicated by little Claude Nutley, who, in all good faith, brought out in the Burlington a very handsome \"obituary\" on Jack--one of those showy articles stocked with random technicalities that I have heard (I won\\'t say by whom) compared to Gisburn\\'s painting. And so--his resolve being apparently irrevocable--the discussion gradually died out, and, as Mrs. Thwing had predicted, the price of \"Gisburns\" went up.\\n\\nIt was not till three years later that, in the course of a few weeks\\' idling on the Riviera, it suddenly occurred to me to wonder why Gisburn had given up his painting. On reflection, it really was a tempting problem. To accuse his wife would have been too easy--his fair sitters had been denied the solace of saying that Mrs. Gisburn had \"dragged him down.\" For Mrs. Gisburn--as such--had not existed till nearly a year after Jack\\'s resolve had been taken. It might be that he had married her--since he liked his ease--because he didn\\'t want to go on painting; but it would have been hard to prove that he had given up his painting because he had married her.\\n\\nOf course, if she had not dragged him down, she had equally, as Miss Croft contended, failed to \"lift him up\"--she had not led him back to the easel. To put the brush into his hand again--what a vocation for a wife! But Mrs. Gisburn appeared to have disdained it--and I felt it might be interesting to find out why.\\n\\nThe desultory life of the Riviera lends itself to such purely academic speculations; and having, on my way to Monte Carlo, caught a glimpse of Jack\\'s balustraded terraces between the pines, I had myself borne thither the next day.\\n\\nI found the couple at tea beneath their palm-trees; and Mrs. Gisburn\\'s welcome was so genial that, in the ensuing weeks, I claimed it frequently. It was not that my hostess was \"interesting\": on that point I could have given Miss Croft the fullest reassurance. It was just because she was _not_ interesting--if I may be pardoned the bull--that I found her so. For Jack, all his life, had been surrounded by interesting women: they had fostered his art, it had been reared in the hot-house of their adulation. And it was therefore instructive to note what effect the \"deadening atmosphere of mediocrity\" (I quote Miss Croft) was having on him.\\n\\nI have mentioned that Mrs. Gisburn was rich; and it was immediately perceptible that her husband was extracting from this circumstance a delicate but substantial satisfaction. It is, as a rule, the people who scorn money who get most out of it; and Jack\\'s elegant disdain of his wife\\'s big balance enabled him, with an appearance of perfect good-breeding, to transmute it into objects of art and luxury. To the latter, I must add, he remained relatively indifferent; but he was buying Renaissance bronzes and eighteenth-century pictures with a discrimination that bespoke the amplest resources.\\n\\n\"Money\\'s only excuse is to put beauty into circulation,\" was one of the axioms he laid down across the Sevres and silver of an exquisitely appointed luncheon-table, when, on a later day, I had again run over from Monte Carlo; and Mrs. Gisburn, beaming on him, added for my enlightenment: \"Jack is so morbidly sensitive to every form of beauty.\"\\n\\nPoor Jack! It had always been his fate to have women say such things of him: the fact should be set down in extenuation. What struck me now was that, for the first time, he resented the tone. I had seen him, so often, basking under similar tributes--was it the conjugal note that robbed them of their savour? No--for, oddly enough, it became apparent that he was fond of Mrs. Gisburn--fond enough not to see her absurdity. It was his own absurdity he seemed to be wincing under--his own attitude as an object for garlands and incense.\\n\\n\"My dear, since I\\'ve chucked painting people don\\'t say that stuff about me--they say it about Victor Grindle,\" was his only protest, as he rose from the table and strolled out onto the sunlit terrace.\\n\\nI glanced after him, struck by his last word. Victor Grindle was, in fact, becoming the man of the moment--as Jack himself, one might put it, had been the man of the hour. The younger artist was said to have formed himself at my friend\\'s feet, and I wondered if a tinge of jealousy underlay the latter\\'s mysterious abdication. But no--for it was not till after that event that the _rose Dubarry_ drawing-rooms had begun to display their \"Grindles.\"\\n\\nI turned to Mrs. Gisburn, who had lingered to give a lump of sugar to her spaniel in the dining-room.\\n\\n\"Why _has_ he chucked painting?\" I asked abruptly.\\n\\nShe raised her eyebrows with a hint of good-humoured surprise.\\n\\n\"Oh, he doesn\\'t _have_ to now, you know; and I want him to enjoy himself,\" she said quite simply.\\n\\nI looked about the spacious white-panelled room, with its _famille-verte_ vases repeating the tones of the pale damask curtains, and its eighteenth-century pastels in delicate faded frames.\\n\\n\"Has he chucked his pictures too? I haven\\'t seen a single one in the house.\"\\n\\nA slight shade of constraint crossed Mrs. Gisburn\\'s open countenance. \"It\\'s his ridiculous modesty, you know. He says they\\'re not fit to have about; he\\'s sent them all away except one--my portrait--and that I have to keep upstairs.\"\\n\\nHis ridiculous modesty--Jack\\'s modesty about his pictures? My curiosity was growing like the bean-stalk. I said persuasively to my hostess: \"I must really see your portrait, you know.\"\\n\\nShe glanced out almost timorously at the terrace where her husband, lounging in a hooded chair, had lit a cigar and drawn the Russian deerhound\\'s head between his knees.\\n\\n\"Well, come while he\\'s not looking,\" she said, with a laugh that tried to hide her nervousness; and I followed her between the marble Emperors of the hall, and up the wide stairs with terra-cotta nymphs poised among flowers at each landing.\\n\\nIn the dimmest corner of her boudoir, amid a profusion of delicate and distinguished objects, hung one of the familiar oval canvases, in the inevitable garlanded frame. The mere outline of the frame called up all Gisburn\\'s past!\\n\\nMrs. Gisburn drew back the window-curtains, moved aside a _jardiniere_ full of pink azaleas, pushed an arm-chair away, and said: \"If you stand here you can just manage to see it. I had it over the mantel-piece, but he wouldn\\'t let it stay.\"\\n\\nYes--I could just manage to see it--the first portrait of Jack\\'s I had ever had to strain my eyes over! Usually they had the place of honour--say the central panel in a pale yellow or _rose Dubarry_ drawing-room, or a monumental easel placed so that it took the light through curtains of old Venetian point. The more modest place became the picture better; yet, as my eyes grew accustomed to the half-light, all the characteristic qualities came out--all the hesitations disguised as audacities, the tricks of prestidigitation by which, with such consummate skill, he managed to divert attention from the real business of the picture to some pretty irrelevance of detail. Mrs. Gisburn, presenting a neutral surface to work on--forming, as it were, so inevitably the background of her own picture--had lent herself in an unusual degree to the display of this false virtuosity. The picture was one of Jack\\'s \"strongest,\" as his admirers would have put it--it represented, on his part, a swelling of muscles, a congesting of veins, a balancing, straddling and straining, that reminded one of the circus-clown\\'s ironic efforts to lift a feather. It met, in short, at every point the demand of lovely woman to be painted \"strongly\" because she was tired of being painted \"sweetly\"--and yet not to lose an atom of the sweetness.\\n\\n\"It\\'s the last he painted, you know,\" Mrs. Gisburn said with pardonable pride. \"The last but one,\" she corrected herself--\"but the other doesn\\'t count, because he destroyed it.\"\\n\\n\"Destroyed it?\" I was about to follow up this clue when I heard a footstep and saw Jack himself on the threshold.\\n\\nAs he stood there, his hands in the pockets of his velveteen coat, the thin brown waves of hair pushed back from his white forehead, his lean sunburnt cheeks furrowed by a smile that lifted the tips of a self-confident moustache, I felt to what a degree he had the same quality as his pictures--the quality of looking cleverer than he was.\\n\\nHis wife glanced at him deprecatingly, but his eyes travelled past her to the portrait.\\n\\n\"Mr. Rickham wanted to see it,\" she began, as if excusing herself. He shrugged his shoulders, still smiling.\\n\\n\"Oh, Rickham found me out long ago,\" he said lightly; then, passing his arm through mine: \"Come and see the rest of the house.\"\\n\\nHe showed it to me with a kind of naive suburban pride: the bath-rooms, the speaking-tubes, the dress-closets, the trouser-presses--all the complex simplifications of the millionaire\\'s domestic economy. And whenever my wonder paid the expected tribute he said, throwing out his chest a little: \"Yes, I really don\\'t see how people manage to live without that.\"\\n\\nWell--it was just the end one might have foreseen for him. Only he was, through it all and in spite of it all--as he had been through, and in spite of, his pictures--so handsome, so charming, so disarming, that one longed to cry out: \"Be dissatisfied with your leisure!\" as once one had longed to say: \"Be dissatisfied with your work!\"\\n\\nBut, with the cry on my lips, my diagnosis suffered an unexpected check.\\n\\n\"This is my own lair,\" he said, leading me into a dark plain room at the end of the florid vista. It was square and brown and leathery: no \"effects\"; no bric-a-brac, none of the air of posing for reproduction in a picture weekly--above all, no least sign of ever having been used as a studio.\\n\\nThe fact brought home to me the absolute finality of Jack\\'s break with his old life.\\n\\n\"Don\\'t you ever dabble with paint any more?\" I asked, still looking about for a trace of such activity.\\n\\n\"Never,\" he said briefly.\\n\\n\"Or water-colour--or etching?\"\\n\\nHis confident eyes grew dim, and his cheeks paled a little under their handsome sunburn.\\n\\n\"Never think of it, my dear fellow--any more than if I\\'d never touched a brush.\"\\n\\nAnd his tone told me in a flash that he never thought of anything else.\\n\\nI moved away, instinctively embarrassed by my unexpected discovery; and as I turned, my eye fell on a small picture above the mantel-piece--the only object breaking the plain oak panelling of the room.\\n\\n\"Oh, by Jove!\" I said.\\n\\nIt was a sketch of a donkey--an old tired donkey, standing in the rain under a wall.\\n\\n\"By Jove--a Stroud!\" I cried.\\n\\nHe was silent; but I felt him close behind me, breathing a little quickly.\\n\\n\"What a wonder! Made with a dozen lines--but on everlasting foundations. You lucky chap, where did you get it?\"\\n\\nHe answered slowly: \"Mrs. Stroud gave it to me.\"\\n\\n\"Ah--I didn\\'t know you even knew the Strouds. He was such an inflexible hermit.\"\\n\\n\"I didn\\'t--till after. . . . She sent for me to paint him when he was dead.\"\\n\\n\"When he was dead? You?\"\\n\\nI must have let a little too much amazement escape through my surprise, for he answered with a deprecating laugh: \"Yes--she\\'s an awful simpleton, you know, Mrs. Stroud. Her only idea was to have him done by a fashionable painter--ah, poor Stroud! She thought it the surest way of proclaiming his greatness--of forcing it on a purblind public. And at the moment I was _the_ fashionable painter.\"\\n\\n\"Ah, poor Stroud--as you say. Was _that_ his history?\"\\n\\n\"That was his history. She believed in him, gloried in him--or thought she did. But she couldn\\'t bear not to have all the drawing-rooms with her. She couldn\\'t bear the fact that, on varnishing days, one could always get near enough to see his pictures. Poor woman! She\\'s just a fragment groping for other fragments. Stroud is the only whole I ever knew.\"\\n\\n\"You ever knew? But you just said--\"\\n\\nGisburn had a curious smile in his eyes.\\n\\n\"Oh, I knew him, and he knew me--only it happened after he was dead.\"\\n\\nI dropped my voice instinctively. \"When she sent for you?\"\\n\\n\"Yes--quite insensible to the irony. She wanted him vindicated--and by me!\"\\n\\nHe laughed again, and threw back his head to look up at the sketch of the donkey. \"There were days when I couldn\\'t look at that thing--couldn\\'t face it. But I forced myself to put it here; and now it\\'s cured me--cured me. That\\'s the reason why I don\\'t dabble any more, my dear Rickham; or rather Stroud himself is the reason.\"\\n\\nFor the first time my idle curiosity about my companion turned into a serious desire to understand him better.\\n\\n\"I wish you\\'d tell me how it happened,\" I said.\\n\\nHe stood looking up at the sketch, and twirling between his fingers a cigarette he had forgotten to light. Suddenly he turned toward me.\\n\\n\"I\\'d rather like to tell you--because I\\'ve always suspected you of loathing my work.\"\\n\\nI made a deprecating gesture, which he negatived with a good-humoured shrug.\\n\\n\"Oh, I didn\\'t care a straw when I believed in myself--and now it\\'s an added tie between us!\"\\n\\nHe laughed slightly, without bitterness, and pushed one of the deep arm-chairs forward. \"There: make yourself comfortable--and here are the cigars you like.\"\\n\\nHe placed them at my elbow and continued to wander up and down the room, stopping now and then beneath the picture.\\n\\n\"How it happened? I can tell you in five minutes--and it didn\\'t take much longer to happen. . . . I can remember now how surprised and pleased I was when I got Mrs. Stroud\\'s note. Of course, deep down, I had always _felt_ there was no one like him--only I had gone with the stream, echoed the usual platitudes about him, till I half got to think he was a failure, one of the kind that are left behind. By Jove, and he _was_ left behind--because he had come to stay! The rest of us had to let ourselves be swept along or go under, but he was high above the current--on everlasting foundations, as you say.\\n\\n\"Well, I went off to the house in my most egregious mood--rather moved, Lord forgive me, at the pathos of poor Stroud\\'s career of failure being crowned by the glory of my painting him! Of course I meant to do the picture for nothing--I told Mrs. Stroud so when she began to stammer something about her poverty. I remember getting off a prodigious phrase about the honour being _mine_--oh, I was princely, my dear Rickham! I was posing to myself like one of my own sitters.\\n\\n\"Then I was taken up and left alone with him. I had sent all my traps in advance, and I had only to set up the easel and get to work. He had been dead only twenty-four hours, and he died suddenly, of heart disease, so that there had been no preliminary work of destruction--his face was clear and untouched. I had met him once or twice, years before, and thought him insignificant and dingy. Now I saw that he was superb.\\n\\n\"I was glad at first, with a merely aesthetic satisfaction: glad to have my hand on such a \\'subject.\\' Then his strange life-likeness began to affect me queerly--as I blocked the head in I felt as if he were watching me do it. The sensation was followed by the thought: if he _were_ watching me, what would he say to my way of working? My strokes began to go a little wild--I felt nervous and uncertain.\\n\\n\"Once, when I looked up, I seemed to see a smile behind his close grayish beard--as if he had the secret, and were amusing himself by holding it back from me. That exasperated me still more. The secret? Why, I had a secret worth twenty of his! I dashed at the canvas furiously, and tried some of my bravura tricks. But they failed me, they crumbled. I saw that he wasn\\'t watching the showy bits--I couldn\\'t distract his attention; he just kept his eyes on the hard passages between. Those were the ones I had always shirked, or covered up with some lying paint. And how he saw through my lies!\\n\\n\"I looked up again, and caught sight of that sketch of the donkey hanging on the wall near his bed. His wife told me afterward it was the last thing he had done--just a note taken with a shaking hand, when he was down in Devonshire recovering from a previous heart attack. Just a note! But it tells his whole history. There are years of patient scornful persistence in every line. A man who had swum with the current could never have learned that mighty up-stream stroke. . . .\\n\\n\"I turned back to my work, and went on groping and muddling; then I looked at the donkey again. I saw that, when Stroud laid in the first stroke, he knew just what the end would be. He had possessed his subject, absorbed it, recreated it. When had I done that with any of my things? They hadn\\'t been born of me--I had just adopted them. . . .\\n\\n\"Hang it, Rickham, with that face watching me I couldn\\'t do another stroke. The plain truth was, I didn\\'t know where to put it--_I had never known_. Only, with my sitters and my public, a showy splash of colour covered up the fact--I just threw paint into their faces. . . . Well, paint was the one medium those dead eyes could see through--see straight to the tottering foundations underneath. Don\\'t you know how, in talking a foreign language, even fluently, one says half the time not what one wants to but what one can? Well--that was the way I painted; and as he lay there and watched me, the thing they called my \\'technique\\' collapsed like a house of cards. He didn\\'t sneer, you understand, poor Stroud--he just lay there quietly watching, and on his lips, through the gray beard, I seemed to hear the question: \\'Are you sure you know where you\\'re coming out?\\'\\n\\n\"If I could have painted that face, with that question on it, I should have done a great thing. The next greatest thing was to see that I couldn\\'t--and that grace was given me. But, oh, at that minute, Rickham, was there anything on earth I wouldn\\'t have given to have Stroud alive before me, and to hear him say: \\'It\\'s not too late--I\\'ll show you how\\'?\\n\\n\"It _was_ too late--it would have been, even if he\\'d been alive. I packed up my traps, and went down and told Mrs. Stroud. Of course I didn\\'t tell her _that_--it would have been Greek to her. I simply said I couldn\\'t paint him, that I was too moved. She rather liked the idea--she\\'s so romantic! It was that that made her give me the donkey. But she was terribly upset at not getting the portrait--she did so want him \\'done\\' by some one showy! At first I was afraid she wouldn\\'t let me off--and at my wits\\' end I suggested Grindle. Yes, it was I who started Grindle: I told Mrs. Stroud he was the \\'coming\\' man, and she told somebody else, and so it got to be true. . . . And he painted Stroud without wincing; and she hung the picture among her husband\\'s things. . . .\"\\n\\nHe flung himself down in the arm-chair near mine, laid back his head, and clasping his arms beneath it, looked up at the picture above the chimney-piece.\\n\\n\"I like to fancy that Stroud himself would have given it to me, if he\\'d been able to say what he thought that day.\"\\n\\nAnd, in answer to a question I put half-mechanically--\"Begin again?\" he flashed out. \"When the one thing that brings me anywhere near him is that I knew enough to leave off?\"\\n\\nHe stood up and laid his hand on my shoulder with a laugh. \"Only the irony of it is that I _am_ still painting--since Grindle\\'s doing it for me! The Strouds stand alone, and happen once--but there\\'s no exterminating our kind of art.\"'"
            ],
            "application/vnd.google.colaboratory.intrinsic+json": {
              "type": "string"
            }
          },
          "metadata": {},
          "execution_count": 4
        }
      ]
    },
    {
      "cell_type": "code",
      "source": [
        "import re"
      ],
      "metadata": {
        "id": "T1j2bpQQRoOk"
      },
      "execution_count": 5,
      "outputs": []
    },
    {
      "cell_type": "code",
      "source": [
        "result = re.split(r'[!.,:;?_\"()\\']+|\\s+', raw_text)\n",
        "result = [item.strip() for item in result if item.strip()]\n",
        "print(result)\n"
      ],
      "metadata": {
        "colab": {
          "base_uri": "https://localhost:8080/"
        },
        "id": "AHoaz3OuR0k-",
        "outputId": "67e76338-8f30-44ee-d47b-fe33abcc7b3e"
      },
      "execution_count": 6,
      "outputs": [
        {
          "output_type": "stream",
          "name": "stdout",
          "text": [
            "['I', 'HAD', 'always', 'thought', 'Jack', 'Gisburn', 'rather', 'a', 'cheap', 'genius--though', 'a', 'good', 'fellow', 'enough--so', 'it', 'was', 'no', 'great', 'surprise', 'to', 'me', 'to', 'hear', 'that', 'in', 'the', 'height', 'of', 'his', 'glory', 'he', 'had', 'dropped', 'his', 'painting', 'married', 'a', 'rich', 'widow', 'and', 'established', 'himself', 'in', 'a', 'villa', 'on', 'the', 'Riviera', 'Though', 'I', 'rather', 'thought', 'it', 'would', 'have', 'been', 'Rome', 'or', 'Florence', 'The', 'height', 'of', 'his', 'glory', '--that', 'was', 'what', 'the', 'women', 'called', 'it', 'I', 'can', 'hear', 'Mrs', 'Gideon', 'Thwing--his', 'last', 'Chicago', 'sitter--deploring', 'his', 'unaccountable', 'abdication', 'Of', 'course', 'it', 's', 'going', 'to', 'send', 'the', 'value', 'of', 'my', 'picture', 'way', 'up', 'but', 'I', 'don', 't', 'think', 'of', 'that', 'Mr', 'Rickham--the', 'loss', 'to', 'Arrt', 'is', 'all', 'I', 'think', 'of', 'The', 'word', 'on', 'Mrs', 'Thwing', 's', 'lips', 'multiplied', 'its', 'rs', 'as', 'though', 'they', 'were', 'reflected', 'in', 'an', 'endless', 'vista', 'of', 'mirrors', 'And', 'it', 'was', 'not', 'only', 'the', 'Mrs', 'Thwings', 'who', 'mourned', 'Had', 'not', 'the', 'exquisite', 'Hermia', 'Croft', 'at', 'the', 'last', 'Grafton', 'Gallery', 'show', 'stopped', 'me', 'before', 'Gisburn', 's', 'Moon-dancers', 'to', 'say', 'with', 'tears', 'in', 'her', 'eyes', 'We', 'shall', 'not', 'look', 'upon', 'its', 'like', 'again', 'Well', '--even', 'through', 'the', 'prism', 'of', 'Hermia', 's', 'tears', 'I', 'felt', 'able', 'to', 'face', 'the', 'fact', 'with', 'equanimity', 'Poor', 'Jack', 'Gisburn', 'The', 'women', 'had', 'made', 'him--it', 'was', 'fitting', 'that', 'they', 'should', 'mourn', 'him', 'Among', 'his', 'own', 'sex', 'fewer', 'regrets', 'were', 'heard', 'and', 'in', 'his', 'own', 'trade', 'hardly', 'a', 'murmur', 'Professional', 'jealousy', 'Perhaps', 'If', 'it', 'were', 'the', 'honour', 'of', 'the', 'craft', 'was', 'vindicated', 'by', 'little', 'Claude', 'Nutley', 'who', 'in', 'all', 'good', 'faith', 'brought', 'out', 'in', 'the', 'Burlington', 'a', 'very', 'handsome', 'obituary', 'on', 'Jack--one', 'of', 'those', 'showy', 'articles', 'stocked', 'with', 'random', 'technicalities', 'that', 'I', 'have', 'heard', 'I', 'won', 't', 'say', 'by', 'whom', 'compared', 'to', 'Gisburn', 's', 'painting', 'And', 'so--his', 'resolve', 'being', 'apparently', 'irrevocable--the', 'discussion', 'gradually', 'died', 'out', 'and', 'as', 'Mrs', 'Thwing', 'had', 'predicted', 'the', 'price', 'of', 'Gisburns', 'went', 'up', 'It', 'was', 'not', 'till', 'three', 'years', 'later', 'that', 'in', 'the', 'course', 'of', 'a', 'few', 'weeks', 'idling', 'on', 'the', 'Riviera', 'it', 'suddenly', 'occurred', 'to', 'me', 'to', 'wonder', 'why', 'Gisburn', 'had', 'given', 'up', 'his', 'painting', 'On', 'reflection', 'it', 'really', 'was', 'a', 'tempting', 'problem', 'To', 'accuse', 'his', 'wife', 'would', 'have', 'been', 'too', 'easy--his', 'fair', 'sitters', 'had', 'been', 'denied', 'the', 'solace', 'of', 'saying', 'that', 'Mrs', 'Gisburn', 'had', 'dragged', 'him', 'down', 'For', 'Mrs', 'Gisburn--as', 'such--had', 'not', 'existed', 'till', 'nearly', 'a', 'year', 'after', 'Jack', 's', 'resolve', 'had', 'been', 'taken', 'It', 'might', 'be', 'that', 'he', 'had', 'married', 'her--since', 'he', 'liked', 'his', 'ease--because', 'he', 'didn', 't', 'want', 'to', 'go', 'on', 'painting', 'but', 'it', 'would', 'have', 'been', 'hard', 'to', 'prove', 'that', 'he', 'had', 'given', 'up', 'his', 'painting', 'because', 'he', 'had', 'married', 'her', 'Of', 'course', 'if', 'she', 'had', 'not', 'dragged', 'him', 'down', 'she', 'had', 'equally', 'as', 'Miss', 'Croft', 'contended', 'failed', 'to', 'lift', 'him', 'up', '--she', 'had', 'not', 'led', 'him', 'back', 'to', 'the', 'easel', 'To', 'put', 'the', 'brush', 'into', 'his', 'hand', 'again--what', 'a', 'vocation', 'for', 'a', 'wife', 'But', 'Mrs', 'Gisburn', 'appeared', 'to', 'have', 'disdained', 'it--and', 'I', 'felt', 'it', 'might', 'be', 'interesting', 'to', 'find', 'out', 'why', 'The', 'desultory', 'life', 'of', 'the', 'Riviera', 'lends', 'itself', 'to', 'such', 'purely', 'academic', 'speculations', 'and', 'having', 'on', 'my', 'way', 'to', 'Monte', 'Carlo', 'caught', 'a', 'glimpse', 'of', 'Jack', 's', 'balustraded', 'terraces', 'between', 'the', 'pines', 'I', 'had', 'myself', 'borne', 'thither', 'the', 'next', 'day', 'I', 'found', 'the', 'couple', 'at', 'tea', 'beneath', 'their', 'palm-trees', 'and', 'Mrs', 'Gisburn', 's', 'welcome', 'was', 'so', 'genial', 'that', 'in', 'the', 'ensuing', 'weeks', 'I', 'claimed', 'it', 'frequently', 'It', 'was', 'not', 'that', 'my', 'hostess', 'was', 'interesting', 'on', 'that', 'point', 'I', 'could', 'have', 'given', 'Miss', 'Croft', 'the', 'fullest', 'reassurance', 'It', 'was', 'just', 'because', 'she', 'was', 'not', 'interesting--if', 'I', 'may', 'be', 'pardoned', 'the', 'bull--that', 'I', 'found', 'her', 'so', 'For', 'Jack', 'all', 'his', 'life', 'had', 'been', 'surrounded', 'by', 'interesting', 'women', 'they', 'had', 'fostered', 'his', 'art', 'it', 'had', 'been', 'reared', 'in', 'the', 'hot-house', 'of', 'their', 'adulation', 'And', 'it', 'was', 'therefore', 'instructive', 'to', 'note', 'what', 'effect', 'the', 'deadening', 'atmosphere', 'of', 'mediocrity', 'I', 'quote', 'Miss', 'Croft', 'was', 'having', 'on', 'him', 'I', 'have', 'mentioned', 'that', 'Mrs', 'Gisburn', 'was', 'rich', 'and', 'it', 'was', 'immediately', 'perceptible', 'that', 'her', 'husband', 'was', 'extracting', 'from', 'this', 'circumstance', 'a', 'delicate', 'but', 'substantial', 'satisfaction', 'It', 'is', 'as', 'a', 'rule', 'the', 'people', 'who', 'scorn', 'money', 'who', 'get', 'most', 'out', 'of', 'it', 'and', 'Jack', 's', 'elegant', 'disdain', 'of', 'his', 'wife', 's', 'big', 'balance', 'enabled', 'him', 'with', 'an', 'appearance', 'of', 'perfect', 'good-breeding', 'to', 'transmute', 'it', 'into', 'objects', 'of', 'art', 'and', 'luxury', 'To', 'the', 'latter', 'I', 'must', 'add', 'he', 'remained', 'relatively', 'indifferent', 'but', 'he', 'was', 'buying', 'Renaissance', 'bronzes', 'and', 'eighteenth-century', 'pictures', 'with', 'a', 'discrimination', 'that', 'bespoke', 'the', 'amplest', 'resources', 'Money', 's', 'only', 'excuse', 'is', 'to', 'put', 'beauty', 'into', 'circulation', 'was', 'one', 'of', 'the', 'axioms', 'he', 'laid', 'down', 'across', 'the', 'Sevres', 'and', 'silver', 'of', 'an', 'exquisitely', 'appointed', 'luncheon-table', 'when', 'on', 'a', 'later', 'day', 'I', 'had', 'again', 'run', 'over', 'from', 'Monte', 'Carlo', 'and', 'Mrs', 'Gisburn', 'beaming', 'on', 'him', 'added', 'for', 'my', 'enlightenment', 'Jack', 'is', 'so', 'morbidly', 'sensitive', 'to', 'every', 'form', 'of', 'beauty', 'Poor', 'Jack', 'It', 'had', 'always', 'been', 'his', 'fate', 'to', 'have', 'women', 'say', 'such', 'things', 'of', 'him', 'the', 'fact', 'should', 'be', 'set', 'down', 'in', 'extenuation', 'What', 'struck', 'me', 'now', 'was', 'that', 'for', 'the', 'first', 'time', 'he', 'resented', 'the', 'tone', 'I', 'had', 'seen', 'him', 'so', 'often', 'basking', 'under', 'similar', 'tributes--was', 'it', 'the', 'conjugal', 'note', 'that', 'robbed', 'them', 'of', 'their', 'savour', 'No--for', 'oddly', 'enough', 'it', 'became', 'apparent', 'that', 'he', 'was', 'fond', 'of', 'Mrs', 'Gisburn--fond', 'enough', 'not', 'to', 'see', 'her', 'absurdity', 'It', 'was', 'his', 'own', 'absurdity', 'he', 'seemed', 'to', 'be', 'wincing', 'under--his', 'own', 'attitude', 'as', 'an', 'object', 'for', 'garlands', 'and', 'incense', 'My', 'dear', 'since', 'I', 've', 'chucked', 'painting', 'people', 'don', 't', 'say', 'that', 'stuff', 'about', 'me--they', 'say', 'it', 'about', 'Victor', 'Grindle', 'was', 'his', 'only', 'protest', 'as', 'he', 'rose', 'from', 'the', 'table', 'and', 'strolled', 'out', 'onto', 'the', 'sunlit', 'terrace', 'I', 'glanced', 'after', 'him', 'struck', 'by', 'his', 'last', 'word', 'Victor', 'Grindle', 'was', 'in', 'fact', 'becoming', 'the', 'man', 'of', 'the', 'moment--as', 'Jack', 'himself', 'one', 'might', 'put', 'it', 'had', 'been', 'the', 'man', 'of', 'the', 'hour', 'The', 'younger', 'artist', 'was', 'said', 'to', 'have', 'formed', 'himself', 'at', 'my', 'friend', 's', 'feet', 'and', 'I', 'wondered', 'if', 'a', 'tinge', 'of', 'jealousy', 'underlay', 'the', 'latter', 's', 'mysterious', 'abdication', 'But', 'no--for', 'it', 'was', 'not', 'till', 'after', 'that', 'event', 'that', 'the', 'rose', 'Dubarry', 'drawing-rooms', 'had', 'begun', 'to', 'display', 'their', 'Grindles', 'I', 'turned', 'to', 'Mrs', 'Gisburn', 'who', 'had', 'lingered', 'to', 'give', 'a', 'lump', 'of', 'sugar', 'to', 'her', 'spaniel', 'in', 'the', 'dining-room', 'Why', 'has', 'he', 'chucked', 'painting', 'I', 'asked', 'abruptly', 'She', 'raised', 'her', 'eyebrows', 'with', 'a', 'hint', 'of', 'good-humoured', 'surprise', 'Oh', 'he', 'doesn', 't', 'have', 'to', 'now', 'you', 'know', 'and', 'I', 'want', 'him', 'to', 'enjoy', 'himself', 'she', 'said', 'quite', 'simply', 'I', 'looked', 'about', 'the', 'spacious', 'white-panelled', 'room', 'with', 'its', 'famille-verte', 'vases', 'repeating', 'the', 'tones', 'of', 'the', 'pale', 'damask', 'curtains', 'and', 'its', 'eighteenth-century', 'pastels', 'in', 'delicate', 'faded', 'frames', 'Has', 'he', 'chucked', 'his', 'pictures', 'too', 'I', 'haven', 't', 'seen', 'a', 'single', 'one', 'in', 'the', 'house', 'A', 'slight', 'shade', 'of', 'constraint', 'crossed', 'Mrs', 'Gisburn', 's', 'open', 'countenance', 'It', 's', 'his', 'ridiculous', 'modesty', 'you', 'know', 'He', 'says', 'they', 're', 'not', 'fit', 'to', 'have', 'about', 'he', 's', 'sent', 'them', 'all', 'away', 'except', 'one--my', 'portrait--and', 'that', 'I', 'have', 'to', 'keep', 'upstairs', 'His', 'ridiculous', 'modesty--Jack', 's', 'modesty', 'about', 'his', 'pictures', 'My', 'curiosity', 'was', 'growing', 'like', 'the', 'bean-stalk', 'I', 'said', 'persuasively', 'to', 'my', 'hostess', 'I', 'must', 'really', 'see', 'your', 'portrait', 'you', 'know', 'She', 'glanced', 'out', 'almost', 'timorously', 'at', 'the', 'terrace', 'where', 'her', 'husband', 'lounging', 'in', 'a', 'hooded', 'chair', 'had', 'lit', 'a', 'cigar', 'and', 'drawn', 'the', 'Russian', 'deerhound', 's', 'head', 'between', 'his', 'knees', 'Well', 'come', 'while', 'he', 's', 'not', 'looking', 'she', 'said', 'with', 'a', 'laugh', 'that', 'tried', 'to', 'hide', 'her', 'nervousness', 'and', 'I', 'followed', 'her', 'between', 'the', 'marble', 'Emperors', 'of', 'the', 'hall', 'and', 'up', 'the', 'wide', 'stairs', 'with', 'terra-cotta', 'nymphs', 'poised', 'among', 'flowers', 'at', 'each', 'landing', 'In', 'the', 'dimmest', 'corner', 'of', 'her', 'boudoir', 'amid', 'a', 'profusion', 'of', 'delicate', 'and', 'distinguished', 'objects', 'hung', 'one', 'of', 'the', 'familiar', 'oval', 'canvases', 'in', 'the', 'inevitable', 'garlanded', 'frame', 'The', 'mere', 'outline', 'of', 'the', 'frame', 'called', 'up', 'all', 'Gisburn', 's', 'past', 'Mrs', 'Gisburn', 'drew', 'back', 'the', 'window-curtains', 'moved', 'aside', 'a', 'jardiniere', 'full', 'of', 'pink', 'azaleas', 'pushed', 'an', 'arm-chair', 'away', 'and', 'said', 'If', 'you', 'stand', 'here', 'you', 'can', 'just', 'manage', 'to', 'see', 'it', 'I', 'had', 'it', 'over', 'the', 'mantel-piece', 'but', 'he', 'wouldn', 't', 'let', 'it', 'stay', 'Yes--I', 'could', 'just', 'manage', 'to', 'see', 'it--the', 'first', 'portrait', 'of', 'Jack', 's', 'I', 'had', 'ever', 'had', 'to', 'strain', 'my', 'eyes', 'over', 'Usually', 'they', 'had', 'the', 'place', 'of', 'honour--say', 'the', 'central', 'panel', 'in', 'a', 'pale', 'yellow', 'or', 'rose', 'Dubarry', 'drawing-room', 'or', 'a', 'monumental', 'easel', 'placed', 'so', 'that', 'it', 'took', 'the', 'light', 'through', 'curtains', 'of', 'old', 'Venetian', 'point', 'The', 'more', 'modest', 'place', 'became', 'the', 'picture', 'better', 'yet', 'as', 'my', 'eyes', 'grew', 'accustomed', 'to', 'the', 'half-light', 'all', 'the', 'characteristic', 'qualities', 'came', 'out--all', 'the', 'hesitations', 'disguised', 'as', 'audacities', 'the', 'tricks', 'of', 'prestidigitation', 'by', 'which', 'with', 'such', 'consummate', 'skill', 'he', 'managed', 'to', 'divert', 'attention', 'from', 'the', 'real', 'business', 'of', 'the', 'picture', 'to', 'some', 'pretty', 'irrelevance', 'of', 'detail', 'Mrs', 'Gisburn', 'presenting', 'a', 'neutral', 'surface', 'to', 'work', 'on--forming', 'as', 'it', 'were', 'so', 'inevitably', 'the', 'background', 'of', 'her', 'own', 'picture--had', 'lent', 'herself', 'in', 'an', 'unusual', 'degree', 'to', 'the', 'display', 'of', 'this', 'false', 'virtuosity', 'The', 'picture', 'was', 'one', 'of', 'Jack', 's', 'strongest', 'as', 'his', 'admirers', 'would', 'have', 'put', 'it--it', 'represented', 'on', 'his', 'part', 'a', 'swelling', 'of', 'muscles', 'a', 'congesting', 'of', 'veins', 'a', 'balancing', 'straddling', 'and', 'straining', 'that', 'reminded', 'one', 'of', 'the', 'circus-clown', 's', 'ironic', 'efforts', 'to', 'lift', 'a', 'feather', 'It', 'met', 'in', 'short', 'at', 'every', 'point', 'the', 'demand', 'of', 'lovely', 'woman', 'to', 'be', 'painted', 'strongly', 'because', 'she', 'was', 'tired', 'of', 'being', 'painted', 'sweetly', '--and', 'yet', 'not', 'to', 'lose', 'an', 'atom', 'of', 'the', 'sweetness', 'It', 's', 'the', 'last', 'he', 'painted', 'you', 'know', 'Mrs', 'Gisburn', 'said', 'with', 'pardonable', 'pride', 'The', 'last', 'but', 'one', 'she', 'corrected', 'herself--', 'but', 'the', 'other', 'doesn', 't', 'count', 'because', 'he', 'destroyed', 'it', 'Destroyed', 'it', 'I', 'was', 'about', 'to', 'follow', 'up', 'this', 'clue', 'when', 'I', 'heard', 'a', 'footstep', 'and', 'saw', 'Jack', 'himself', 'on', 'the', 'threshold', 'As', 'he', 'stood', 'there', 'his', 'hands', 'in', 'the', 'pockets', 'of', 'his', 'velveteen', 'coat', 'the', 'thin', 'brown', 'waves', 'of', 'hair', 'pushed', 'back', 'from', 'his', 'white', 'forehead', 'his', 'lean', 'sunburnt', 'cheeks', 'furrowed', 'by', 'a', 'smile', 'that', 'lifted', 'the', 'tips', 'of', 'a', 'self-confident', 'moustache', 'I', 'felt', 'to', 'what', 'a', 'degree', 'he', 'had', 'the', 'same', 'quality', 'as', 'his', 'pictures--the', 'quality', 'of', 'looking', 'cleverer', 'than', 'he', 'was', 'His', 'wife', 'glanced', 'at', 'him', 'deprecatingly', 'but', 'his', 'eyes', 'travelled', 'past', 'her', 'to', 'the', 'portrait', 'Mr', 'Rickham', 'wanted', 'to', 'see', 'it', 'she', 'began', 'as', 'if', 'excusing', 'herself', 'He', 'shrugged', 'his', 'shoulders', 'still', 'smiling', 'Oh', 'Rickham', 'found', 'me', 'out', 'long', 'ago', 'he', 'said', 'lightly', 'then', 'passing', 'his', 'arm', 'through', 'mine', 'Come', 'and', 'see', 'the', 'rest', 'of', 'the', 'house', 'He', 'showed', 'it', 'to', 'me', 'with', 'a', 'kind', 'of', 'naive', 'suburban', 'pride', 'the', 'bath-rooms', 'the', 'speaking-tubes', 'the', 'dress-closets', 'the', 'trouser-presses--all', 'the', 'complex', 'simplifications', 'of', 'the', 'millionaire', 's', 'domestic', 'economy', 'And', 'whenever', 'my', 'wonder', 'paid', 'the', 'expected', 'tribute', 'he', 'said', 'throwing', 'out', 'his', 'chest', 'a', 'little', 'Yes', 'I', 'really', 'don', 't', 'see', 'how', 'people', 'manage', 'to', 'live', 'without', 'that', 'Well--it', 'was', 'just', 'the', 'end', 'one', 'might', 'have', 'foreseen', 'for', 'him', 'Only', 'he', 'was', 'through', 'it', 'all', 'and', 'in', 'spite', 'of', 'it', 'all--as', 'he', 'had', 'been', 'through', 'and', 'in', 'spite', 'of', 'his', 'pictures--so', 'handsome', 'so', 'charming', 'so', 'disarming', 'that', 'one', 'longed', 'to', 'cry', 'out', 'Be', 'dissatisfied', 'with', 'your', 'leisure', 'as', 'once', 'one', 'had', 'longed', 'to', 'say', 'Be', 'dissatisfied', 'with', 'your', 'work', 'But', 'with', 'the', 'cry', 'on', 'my', 'lips', 'my', 'diagnosis', 'suffered', 'an', 'unexpected', 'check', 'This', 'is', 'my', 'own', 'lair', 'he', 'said', 'leading', 'me', 'into', 'a', 'dark', 'plain', 'room', 'at', 'the', 'end', 'of', 'the', 'florid', 'vista', 'It', 'was', 'square', 'and', 'brown', 'and', 'leathery', 'no', 'effects', 'no', 'bric-a-brac', 'none', 'of', 'the', 'air', 'of', 'posing', 'for', 'reproduction', 'in', 'a', 'picture', 'weekly--above', 'all', 'no', 'least', 'sign', 'of', 'ever', 'having', 'been', 'used', 'as', 'a', 'studio', 'The', 'fact', 'brought', 'home', 'to', 'me', 'the', 'absolute', 'finality', 'of', 'Jack', 's', 'break', 'with', 'his', 'old', 'life', 'Don', 't', 'you', 'ever', 'dabble', 'with', 'paint', 'any', 'more', 'I', 'asked', 'still', 'looking', 'about', 'for', 'a', 'trace', 'of', 'such', 'activity', 'Never', 'he', 'said', 'briefly', 'Or', 'water-colour--or', 'etching', 'His', 'confident', 'eyes', 'grew', 'dim', 'and', 'his', 'cheeks', 'paled', 'a', 'little', 'under', 'their', 'handsome', 'sunburn', 'Never', 'think', 'of', 'it', 'my', 'dear', 'fellow--any', 'more', 'than', 'if', 'I', 'd', 'never', 'touched', 'a', 'brush', 'And', 'his', 'tone', 'told', 'me', 'in', 'a', 'flash', 'that', 'he', 'never', 'thought', 'of', 'anything', 'else', 'I', 'moved', 'away', 'instinctively', 'embarrassed', 'by', 'my', 'unexpected', 'discovery', 'and', 'as', 'I', 'turned', 'my', 'eye', 'fell', 'on', 'a', 'small', 'picture', 'above', 'the', 'mantel-piece--the', 'only', 'object', 'breaking', 'the', 'plain', 'oak', 'panelling', 'of', 'the', 'room', 'Oh', 'by', 'Jove', 'I', 'said', 'It', 'was', 'a', 'sketch', 'of', 'a', 'donkey--an', 'old', 'tired', 'donkey', 'standing', 'in', 'the', 'rain', 'under', 'a', 'wall', 'By', 'Jove--a', 'Stroud', 'I', 'cried', 'He', 'was', 'silent', 'but', 'I', 'felt', 'him', 'close', 'behind', 'me', 'breathing', 'a', 'little', 'quickly', 'What', 'a', 'wonder', 'Made', 'with', 'a', 'dozen', 'lines--but', 'on', 'everlasting', 'foundations', 'You', 'lucky', 'chap', 'where', 'did', 'you', 'get', 'it', 'He', 'answered', 'slowly', 'Mrs', 'Stroud', 'gave', 'it', 'to', 'me', 'Ah--I', 'didn', 't', 'know', 'you', 'even', 'knew', 'the', 'Strouds', 'He', 'was', 'such', 'an', 'inflexible', 'hermit', 'I', 'didn', 't--till', 'after', 'She', 'sent', 'for', 'me', 'to', 'paint', 'him', 'when', 'he', 'was', 'dead', 'When', 'he', 'was', 'dead', 'You', 'I', 'must', 'have', 'let', 'a', 'little', 'too', 'much', 'amazement', 'escape', 'through', 'my', 'surprise', 'for', 'he', 'answered', 'with', 'a', 'deprecating', 'laugh', 'Yes--she', 's', 'an', 'awful', 'simpleton', 'you', 'know', 'Mrs', 'Stroud', 'Her', 'only', 'idea', 'was', 'to', 'have', 'him', 'done', 'by', 'a', 'fashionable', 'painter--ah', 'poor', 'Stroud', 'She', 'thought', 'it', 'the', 'surest', 'way', 'of', 'proclaiming', 'his', 'greatness--of', 'forcing', 'it', 'on', 'a', 'purblind', 'public', 'And', 'at', 'the', 'moment', 'I', 'was', 'the', 'fashionable', 'painter', 'Ah', 'poor', 'Stroud--as', 'you', 'say', 'Was', 'that', 'his', 'history', 'That', 'was', 'his', 'history', 'She', 'believed', 'in', 'him', 'gloried', 'in', 'him--or', 'thought', 'she', 'did', 'But', 'she', 'couldn', 't', 'bear', 'not', 'to', 'have', 'all', 'the', 'drawing-rooms', 'with', 'her', 'She', 'couldn', 't', 'bear', 'the', 'fact', 'that', 'on', 'varnishing', 'days', 'one', 'could', 'always', 'get', 'near', 'enough', 'to', 'see', 'his', 'pictures', 'Poor', 'woman', 'She', 's', 'just', 'a', 'fragment', 'groping', 'for', 'other', 'fragments', 'Stroud', 'is', 'the', 'only', 'whole', 'I', 'ever', 'knew', 'You', 'ever', 'knew', 'But', 'you', 'just', 'said--', 'Gisburn', 'had', 'a', 'curious', 'smile', 'in', 'his', 'eyes', 'Oh', 'I', 'knew', 'him', 'and', 'he', 'knew', 'me--only', 'it', 'happened', 'after', 'he', 'was', 'dead', 'I', 'dropped', 'my', 'voice', 'instinctively', 'When', 'she', 'sent', 'for', 'you', 'Yes--quite', 'insensible', 'to', 'the', 'irony', 'She', 'wanted', 'him', 'vindicated--and', 'by', 'me', 'He', 'laughed', 'again', 'and', 'threw', 'back', 'his', 'head', 'to', 'look', 'up', 'at', 'the', 'sketch', 'of', 'the', 'donkey', 'There', 'were', 'days', 'when', 'I', 'couldn', 't', 'look', 'at', 'that', 'thing--couldn', 't', 'face', 'it', 'But', 'I', 'forced', 'myself', 'to', 'put', 'it', 'here', 'and', 'now', 'it', 's', 'cured', 'me--cured', 'me', 'That', 's', 'the', 'reason', 'why', 'I', 'don', 't', 'dabble', 'any', 'more', 'my', 'dear', 'Rickham', 'or', 'rather', 'Stroud', 'himself', 'is', 'the', 'reason', 'For', 'the', 'first', 'time', 'my', 'idle', 'curiosity', 'about', 'my', 'companion', 'turned', 'into', 'a', 'serious', 'desire', 'to', 'understand', 'him', 'better', 'I', 'wish', 'you', 'd', 'tell', 'me', 'how', 'it', 'happened', 'I', 'said', 'He', 'stood', 'looking', 'up', 'at', 'the', 'sketch', 'and', 'twirling', 'between', 'his', 'fingers', 'a', 'cigarette', 'he', 'had', 'forgotten', 'to', 'light', 'Suddenly', 'he', 'turned', 'toward', 'me', 'I', 'd', 'rather', 'like', 'to', 'tell', 'you--because', 'I', 've', 'always', 'suspected', 'you', 'of', 'loathing', 'my', 'work', 'I', 'made', 'a', 'deprecating', 'gesture', 'which', 'he', 'negatived', 'with', 'a', 'good-humoured', 'shrug', 'Oh', 'I', 'didn', 't', 'care', 'a', 'straw', 'when', 'I', 'believed', 'in', 'myself--and', 'now', 'it', 's', 'an', 'added', 'tie', 'between', 'us', 'He', 'laughed', 'slightly', 'without', 'bitterness', 'and', 'pushed', 'one', 'of', 'the', 'deep', 'arm-chairs', 'forward', 'There', 'make', 'yourself', 'comfortable--and', 'here', 'are', 'the', 'cigars', 'you', 'like', 'He', 'placed', 'them', 'at', 'my', 'elbow', 'and', 'continued', 'to', 'wander', 'up', 'and', 'down', 'the', 'room', 'stopping', 'now', 'and', 'then', 'beneath', 'the', 'picture', 'How', 'it', 'happened', 'I', 'can', 'tell', 'you', 'in', 'five', 'minutes--and', 'it', 'didn', 't', 'take', 'much', 'longer', 'to', 'happen', 'I', 'can', 'remember', 'now', 'how', 'surprised', 'and', 'pleased', 'I', 'was', 'when', 'I', 'got', 'Mrs', 'Stroud', 's', 'note', 'Of', 'course', 'deep', 'down', 'I', 'had', 'always', 'felt', 'there', 'was', 'no', 'one', 'like', 'him--only', 'I', 'had', 'gone', 'with', 'the', 'stream', 'echoed', 'the', 'usual', 'platitudes', 'about', 'him', 'till', 'I', 'half', 'got', 'to', 'think', 'he', 'was', 'a', 'failure', 'one', 'of', 'the', 'kind', 'that', 'are', 'left', 'behind', 'By', 'Jove', 'and', 'he', 'was', 'left', 'behind--because', 'he', 'had', 'come', 'to', 'stay', 'The', 'rest', 'of', 'us', 'had', 'to', 'let', 'ourselves', 'be', 'swept', 'along', 'or', 'go', 'under', 'but', 'he', 'was', 'high', 'above', 'the', 'current--on', 'everlasting', 'foundations', 'as', 'you', 'say', 'Well', 'I', 'went', 'off', 'to', 'the', 'house', 'in', 'my', 'most', 'egregious', 'mood--rather', 'moved', 'Lord', 'forgive', 'me', 'at', 'the', 'pathos', 'of', 'poor', 'Stroud', 's', 'career', 'of', 'failure', 'being', 'crowned', 'by', 'the', 'glory', 'of', 'my', 'painting', 'him', 'Of', 'course', 'I', 'meant', 'to', 'do', 'the', 'picture', 'for', 'nothing--I', 'told', 'Mrs', 'Stroud', 'so', 'when', 'she', 'began', 'to', 'stammer', 'something', 'about', 'her', 'poverty', 'I', 'remember', 'getting', 'off', 'a', 'prodigious', 'phrase', 'about', 'the', 'honour', 'being', 'mine', '--oh', 'I', 'was', 'princely', 'my', 'dear', 'Rickham', 'I', 'was', 'posing', 'to', 'myself', 'like', 'one', 'of', 'my', 'own', 'sitters', 'Then', 'I', 'was', 'taken', 'up', 'and', 'left', 'alone', 'with', 'him', 'I', 'had', 'sent', 'all', 'my', 'traps', 'in', 'advance', 'and', 'I', 'had', 'only', 'to', 'set', 'up', 'the', 'easel', 'and', 'get', 'to', 'work', 'He', 'had', 'been', 'dead', 'only', 'twenty-four', 'hours', 'and', 'he', 'died', 'suddenly', 'of', 'heart', 'disease', 'so', 'that', 'there', 'had', 'been', 'no', 'preliminary', 'work', 'of', 'destruction--his', 'face', 'was', 'clear', 'and', 'untouched', 'I', 'had', 'met', 'him', 'once', 'or', 'twice', 'years', 'before', 'and', 'thought', 'him', 'insignificant', 'and', 'dingy', 'Now', 'I', 'saw', 'that', 'he', 'was', 'superb', 'I', 'was', 'glad', 'at', 'first', 'with', 'a', 'merely', 'aesthetic', 'satisfaction', 'glad', 'to', 'have', 'my', 'hand', 'on', 'such', 'a', 'subject', 'Then', 'his', 'strange', 'life-likeness', 'began', 'to', 'affect', 'me', 'queerly--as', 'I', 'blocked', 'the', 'head', 'in', 'I', 'felt', 'as', 'if', 'he', 'were', 'watching', 'me', 'do', 'it', 'The', 'sensation', 'was', 'followed', 'by', 'the', 'thought', 'if', 'he', 'were', 'watching', 'me', 'what', 'would', 'he', 'say', 'to', 'my', 'way', 'of', 'working', 'My', 'strokes', 'began', 'to', 'go', 'a', 'little', 'wild--I', 'felt', 'nervous', 'and', 'uncertain', 'Once', 'when', 'I', 'looked', 'up', 'I', 'seemed', 'to', 'see', 'a', 'smile', 'behind', 'his', 'close', 'grayish', 'beard--as', 'if', 'he', 'had', 'the', 'secret', 'and', 'were', 'amusing', 'himself', 'by', 'holding', 'it', 'back', 'from', 'me', 'That', 'exasperated', 'me', 'still', 'more', 'The', 'secret', 'Why', 'I', 'had', 'a', 'secret', 'worth', 'twenty', 'of', 'his', 'I', 'dashed', 'at', 'the', 'canvas', 'furiously', 'and', 'tried', 'some', 'of', 'my', 'bravura', 'tricks', 'But', 'they', 'failed', 'me', 'they', 'crumbled', 'I', 'saw', 'that', 'he', 'wasn', 't', 'watching', 'the', 'showy', 'bits--I', 'couldn', 't', 'distract', 'his', 'attention', 'he', 'just', 'kept', 'his', 'eyes', 'on', 'the', 'hard', 'passages', 'between', 'Those', 'were', 'the', 'ones', 'I', 'had', 'always', 'shirked', 'or', 'covered', 'up', 'with', 'some', 'lying', 'paint', 'And', 'how', 'he', 'saw', 'through', 'my', 'lies', 'I', 'looked', 'up', 'again', 'and', 'caught', 'sight', 'of', 'that', 'sketch', 'of', 'the', 'donkey', 'hanging', 'on', 'the', 'wall', 'near', 'his', 'bed', 'His', 'wife', 'told', 'me', 'afterward', 'it', 'was', 'the', 'last', 'thing', 'he', 'had', 'done--just', 'a', 'note', 'taken', 'with', 'a', 'shaking', 'hand', 'when', 'he', 'was', 'down', 'in', 'Devonshire', 'recovering', 'from', 'a', 'previous', 'heart', 'attack', 'Just', 'a', 'note', 'But', 'it', 'tells', 'his', 'whole', 'history', 'There', 'are', 'years', 'of', 'patient', 'scornful', 'persistence', 'in', 'every', 'line', 'A', 'man', 'who', 'had', 'swum', 'with', 'the', 'current', 'could', 'never', 'have', 'learned', 'that', 'mighty', 'up-stream', 'stroke', 'I', 'turned', 'back', 'to', 'my', 'work', 'and', 'went', 'on', 'groping', 'and', 'muddling', 'then', 'I', 'looked', 'at', 'the', 'donkey', 'again', 'I', 'saw', 'that', 'when', 'Stroud', 'laid', 'in', 'the', 'first', 'stroke', 'he', 'knew', 'just', 'what', 'the', 'end', 'would', 'be', 'He', 'had', 'possessed', 'his', 'subject', 'absorbed', 'it', 'recreated', 'it', 'When', 'had', 'I', 'done', 'that', 'with', 'any', 'of', 'my', 'things', 'They', 'hadn', 't', 'been', 'born', 'of', 'me--I', 'had', 'just', 'adopted', 'them', 'Hang', 'it', 'Rickham', 'with', 'that', 'face', 'watching', 'me', 'I', 'couldn', 't', 'do', 'another', 'stroke', 'The', 'plain', 'truth', 'was', 'I', 'didn', 't', 'know', 'where', 'to', 'put', 'it--', 'I', 'had', 'never', 'known', 'Only', 'with', 'my', 'sitters', 'and', 'my', 'public', 'a', 'showy', 'splash', 'of', 'colour', 'covered', 'up', 'the', 'fact--I', 'just', 'threw', 'paint', 'into', 'their', 'faces', 'Well', 'paint', 'was', 'the', 'one', 'medium', 'those', 'dead', 'eyes', 'could', 'see', 'through--see', 'straight', 'to', 'the', 'tottering', 'foundations', 'underneath', 'Don', 't', 'you', 'know', 'how', 'in', 'talking', 'a', 'foreign', 'language', 'even', 'fluently', 'one', 'says', 'half', 'the', 'time', 'not', 'what', 'one', 'wants', 'to', 'but', 'what', 'one', 'can', 'Well--that', 'was', 'the', 'way', 'I', 'painted', 'and', 'as', 'he', 'lay', 'there', 'and', 'watched', 'me', 'the', 'thing', 'they', 'called', 'my', 'technique', 'collapsed', 'like', 'a', 'house', 'of', 'cards', 'He', 'didn', 't', 'sneer', 'you', 'understand', 'poor', 'Stroud--he', 'just', 'lay', 'there', 'quietly', 'watching', 'and', 'on', 'his', 'lips', 'through', 'the', 'gray', 'beard', 'I', 'seemed', 'to', 'hear', 'the', 'question', 'Are', 'you', 'sure', 'you', 'know', 'where', 'you', 're', 'coming', 'out', 'If', 'I', 'could', 'have', 'painted', 'that', 'face', 'with', 'that', 'question', 'on', 'it', 'I', 'should', 'have', 'done', 'a', 'great', 'thing', 'The', 'next', 'greatest', 'thing', 'was', 'to', 'see', 'that', 'I', 'couldn', 't--and', 'that', 'grace', 'was', 'given', 'me', 'But', 'oh', 'at', 'that', 'minute', 'Rickham', 'was', 'there', 'anything', 'on', 'earth', 'I', 'wouldn', 't', 'have', 'given', 'to', 'have', 'Stroud', 'alive', 'before', 'me', 'and', 'to', 'hear', 'him', 'say', 'It', 's', 'not', 'too', 'late--I', 'll', 'show', 'you', 'how', 'It', 'was', 'too', 'late--it', 'would', 'have', 'been', 'even', 'if', 'he', 'd', 'been', 'alive', 'I', 'packed', 'up', 'my', 'traps', 'and', 'went', 'down', 'and', 'told', 'Mrs', 'Stroud', 'Of', 'course', 'I', 'didn', 't', 'tell', 'her', 'that', '--it', 'would', 'have', 'been', 'Greek', 'to', 'her', 'I', 'simply', 'said', 'I', 'couldn', 't', 'paint', 'him', 'that', 'I', 'was', 'too', 'moved', 'She', 'rather', 'liked', 'the', 'idea--she', 's', 'so', 'romantic', 'It', 'was', 'that', 'that', 'made', 'her', 'give', 'me', 'the', 'donkey', 'But', 'she', 'was', 'terribly', 'upset', 'at', 'not', 'getting', 'the', 'portrait--she', 'did', 'so', 'want', 'him', 'done', 'by', 'some', 'one', 'showy', 'At', 'first', 'I', 'was', 'afraid', 'she', 'wouldn', 't', 'let', 'me', 'off--and', 'at', 'my', 'wits', 'end', 'I', 'suggested', 'Grindle', 'Yes', 'it', 'was', 'I', 'who', 'started', 'Grindle', 'I', 'told', 'Mrs', 'Stroud', 'he', 'was', 'the', 'coming', 'man', 'and', 'she', 'told', 'somebody', 'else', 'and', 'so', 'it', 'got', 'to', 'be', 'true', 'And', 'he', 'painted', 'Stroud', 'without', 'wincing', 'and', 'she', 'hung', 'the', 'picture', 'among', 'her', 'husband', 's', 'things', 'He', 'flung', 'himself', 'down', 'in', 'the', 'arm-chair', 'near', 'mine', 'laid', 'back', 'his', 'head', 'and', 'clasping', 'his', 'arms', 'beneath', 'it', 'looked', 'up', 'at', 'the', 'picture', 'above', 'the', 'chimney-piece', 'I', 'like', 'to', 'fancy', 'that', 'Stroud', 'himself', 'would', 'have', 'given', 'it', 'to', 'me', 'if', 'he', 'd', 'been', 'able', 'to', 'say', 'what', 'he', 'thought', 'that', 'day', 'And', 'in', 'answer', 'to', 'a', 'question', 'I', 'put', 'half-mechanically--', 'Begin', 'again', 'he', 'flashed', 'out', 'When', 'the', 'one', 'thing', 'that', 'brings', 'me', 'anywhere', 'near', 'him', 'is', 'that', 'I', 'knew', 'enough', 'to', 'leave', 'off', 'He', 'stood', 'up', 'and', 'laid', 'his', 'hand', 'on', 'my', 'shoulder', 'with', 'a', 'laugh', 'Only', 'the', 'irony', 'of', 'it', 'is', 'that', 'I', 'am', 'still', 'painting--since', 'Grindle', 's', 'doing', 'it', 'for', 'me', 'The', 'Strouds', 'stand', 'alone', 'and', 'happen', 'once--but', 'there', 's', 'no', 'exterminating', 'our', 'kind', 'of', 'art']\n"
          ]
        }
      ]
    },
    {
      "cell_type": "code",
      "source": [
        "preprocessed = result\n",
        "len(preprocessed)"
      ],
      "metadata": {
        "colab": {
          "base_uri": "https://localhost:8080/"
        },
        "id": "2ElZxHuSSvxK",
        "outputId": "050f017e-9506-41f9-88ca-d46126129312"
      },
      "execution_count": 7,
      "outputs": [
        {
          "output_type": "execute_result",
          "data": {
            "text/plain": [
              "3701"
            ]
          },
          "metadata": {},
          "execution_count": 7
        }
      ]
    },
    {
      "cell_type": "code",
      "source": [
        "all_words = sorted(set(preprocessed))\n",
        "vocab_size = len(all_words)"
      ],
      "metadata": {
        "id": "vVU14vRcS8kT"
      },
      "execution_count": 8,
      "outputs": []
    },
    {
      "cell_type": "code",
      "source": [
        "print(vocab_size)"
      ],
      "metadata": {
        "colab": {
          "base_uri": "https://localhost:8080/"
        },
        "id": "GBf5pI8eT2lf",
        "outputId": "20880d5d-0316-4948-fc98-d47fa5849ed6"
      },
      "execution_count": 9,
      "outputs": [
        {
          "output_type": "stream",
          "name": "stdout",
          "text": [
            "1189\n"
          ]
        }
      ]
    },
    {
      "cell_type": "code",
      "source": [
        "vocab={token : integer for integer, token in enumerate(all_words)}"
      ],
      "metadata": {
        "id": "jen1VKxET454"
      },
      "execution_count": 10,
      "outputs": []
    },
    {
      "cell_type": "code",
      "source": [
        "vocab"
      ],
      "metadata": {
        "colab": {
          "base_uri": "https://localhost:8080/"
        },
        "id": "_e2v_lwLUxUN",
        "outputId": "11927d71-37da-4046-acc2-ee5a72493986"
      },
      "execution_count": 11,
      "outputs": [
        {
          "output_type": "execute_result",
          "data": {
            "text/plain": [
              "{'--and': 0,\n",
              " '--even': 1,\n",
              " '--it': 2,\n",
              " '--oh': 3,\n",
              " '--she': 4,\n",
              " '--that': 5,\n",
              " 'A': 6,\n",
              " 'Ah': 7,\n",
              " 'Ah--I': 8,\n",
              " 'Among': 9,\n",
              " 'And': 10,\n",
              " 'Are': 11,\n",
              " 'Arrt': 12,\n",
              " 'As': 13,\n",
              " 'At': 14,\n",
              " 'Be': 15,\n",
              " 'Begin': 16,\n",
              " 'Burlington': 17,\n",
              " 'But': 18,\n",
              " 'By': 19,\n",
              " 'Carlo': 20,\n",
              " 'Chicago': 21,\n",
              " 'Claude': 22,\n",
              " 'Come': 23,\n",
              " 'Croft': 24,\n",
              " 'Destroyed': 25,\n",
              " 'Devonshire': 26,\n",
              " 'Don': 27,\n",
              " 'Dubarry': 28,\n",
              " 'Emperors': 29,\n",
              " 'Florence': 30,\n",
              " 'For': 31,\n",
              " 'Gallery': 32,\n",
              " 'Gideon': 33,\n",
              " 'Gisburn': 34,\n",
              " 'Gisburn--as': 35,\n",
              " 'Gisburn--fond': 36,\n",
              " 'Gisburns': 37,\n",
              " 'Grafton': 38,\n",
              " 'Greek': 39,\n",
              " 'Grindle': 40,\n",
              " 'Grindles': 41,\n",
              " 'HAD': 42,\n",
              " 'Had': 43,\n",
              " 'Hang': 44,\n",
              " 'Has': 45,\n",
              " 'He': 46,\n",
              " 'Her': 47,\n",
              " 'Hermia': 48,\n",
              " 'His': 49,\n",
              " 'How': 50,\n",
              " 'I': 51,\n",
              " 'If': 52,\n",
              " 'In': 53,\n",
              " 'It': 54,\n",
              " 'Jack': 55,\n",
              " 'Jack--one': 56,\n",
              " 'Jove': 57,\n",
              " 'Jove--a': 58,\n",
              " 'Just': 59,\n",
              " 'Lord': 60,\n",
              " 'Made': 61,\n",
              " 'Miss': 62,\n",
              " 'Money': 63,\n",
              " 'Monte': 64,\n",
              " 'Moon-dancers': 65,\n",
              " 'Mr': 66,\n",
              " 'Mrs': 67,\n",
              " 'My': 68,\n",
              " 'Never': 69,\n",
              " 'No--for': 70,\n",
              " 'Now': 71,\n",
              " 'Nutley': 72,\n",
              " 'Of': 73,\n",
              " 'Oh': 74,\n",
              " 'On': 75,\n",
              " 'Once': 76,\n",
              " 'Only': 77,\n",
              " 'Or': 78,\n",
              " 'Perhaps': 79,\n",
              " 'Poor': 80,\n",
              " 'Professional': 81,\n",
              " 'Renaissance': 82,\n",
              " 'Rickham': 83,\n",
              " 'Rickham--the': 84,\n",
              " 'Riviera': 85,\n",
              " 'Rome': 86,\n",
              " 'Russian': 87,\n",
              " 'Sevres': 88,\n",
              " 'She': 89,\n",
              " 'Stroud': 90,\n",
              " 'Stroud--as': 91,\n",
              " 'Stroud--he': 92,\n",
              " 'Strouds': 93,\n",
              " 'Suddenly': 94,\n",
              " 'That': 95,\n",
              " 'The': 96,\n",
              " 'Then': 97,\n",
              " 'There': 98,\n",
              " 'They': 99,\n",
              " 'This': 100,\n",
              " 'Those': 101,\n",
              " 'Though': 102,\n",
              " 'Thwing': 103,\n",
              " 'Thwing--his': 104,\n",
              " 'Thwings': 105,\n",
              " 'To': 106,\n",
              " 'Usually': 107,\n",
              " 'Venetian': 108,\n",
              " 'Victor': 109,\n",
              " 'Was': 110,\n",
              " 'We': 111,\n",
              " 'Well': 112,\n",
              " 'Well--it': 113,\n",
              " 'Well--that': 114,\n",
              " 'What': 115,\n",
              " 'When': 116,\n",
              " 'Why': 117,\n",
              " 'Yes': 118,\n",
              " 'Yes--I': 119,\n",
              " 'Yes--quite': 120,\n",
              " 'Yes--she': 121,\n",
              " 'You': 122,\n",
              " 'a': 123,\n",
              " 'abdication': 124,\n",
              " 'able': 125,\n",
              " 'about': 126,\n",
              " 'above': 127,\n",
              " 'abruptly': 128,\n",
              " 'absolute': 129,\n",
              " 'absorbed': 130,\n",
              " 'absurdity': 131,\n",
              " 'academic': 132,\n",
              " 'accuse': 133,\n",
              " 'accustomed': 134,\n",
              " 'across': 135,\n",
              " 'activity': 136,\n",
              " 'add': 137,\n",
              " 'added': 138,\n",
              " 'admirers': 139,\n",
              " 'adopted': 140,\n",
              " 'adulation': 141,\n",
              " 'advance': 142,\n",
              " 'aesthetic': 143,\n",
              " 'affect': 144,\n",
              " 'afraid': 145,\n",
              " 'after': 146,\n",
              " 'afterward': 147,\n",
              " 'again': 148,\n",
              " 'again--what': 149,\n",
              " 'ago': 150,\n",
              " 'air': 151,\n",
              " 'alive': 152,\n",
              " 'all': 153,\n",
              " 'all--as': 154,\n",
              " 'almost': 155,\n",
              " 'alone': 156,\n",
              " 'along': 157,\n",
              " 'always': 158,\n",
              " 'am': 159,\n",
              " 'amazement': 160,\n",
              " 'amid': 161,\n",
              " 'among': 162,\n",
              " 'amplest': 163,\n",
              " 'amusing': 164,\n",
              " 'an': 165,\n",
              " 'and': 166,\n",
              " 'another': 167,\n",
              " 'answer': 168,\n",
              " 'answered': 169,\n",
              " 'any': 170,\n",
              " 'anything': 171,\n",
              " 'anywhere': 172,\n",
              " 'apparent': 173,\n",
              " 'apparently': 174,\n",
              " 'appearance': 175,\n",
              " 'appeared': 176,\n",
              " 'appointed': 177,\n",
              " 'are': 178,\n",
              " 'arm': 179,\n",
              " 'arm-chair': 180,\n",
              " 'arm-chairs': 181,\n",
              " 'arms': 182,\n",
              " 'art': 183,\n",
              " 'articles': 184,\n",
              " 'artist': 185,\n",
              " 'as': 186,\n",
              " 'aside': 187,\n",
              " 'asked': 188,\n",
              " 'at': 189,\n",
              " 'atmosphere': 190,\n",
              " 'atom': 191,\n",
              " 'attack': 192,\n",
              " 'attention': 193,\n",
              " 'attitude': 194,\n",
              " 'audacities': 195,\n",
              " 'away': 196,\n",
              " 'awful': 197,\n",
              " 'axioms': 198,\n",
              " 'azaleas': 199,\n",
              " 'back': 200,\n",
              " 'background': 201,\n",
              " 'balance': 202,\n",
              " 'balancing': 203,\n",
              " 'balustraded': 204,\n",
              " 'basking': 205,\n",
              " 'bath-rooms': 206,\n",
              " 'be': 207,\n",
              " 'beaming': 208,\n",
              " 'bean-stalk': 209,\n",
              " 'bear': 210,\n",
              " 'beard': 211,\n",
              " 'beard--as': 212,\n",
              " 'beauty': 213,\n",
              " 'became': 214,\n",
              " 'because': 215,\n",
              " 'becoming': 216,\n",
              " 'bed': 217,\n",
              " 'been': 218,\n",
              " 'before': 219,\n",
              " 'began': 220,\n",
              " 'begun': 221,\n",
              " 'behind': 222,\n",
              " 'behind--because': 223,\n",
              " 'being': 224,\n",
              " 'believed': 225,\n",
              " 'beneath': 226,\n",
              " 'bespoke': 227,\n",
              " 'better': 228,\n",
              " 'between': 229,\n",
              " 'big': 230,\n",
              " 'bits--I': 231,\n",
              " 'bitterness': 232,\n",
              " 'blocked': 233,\n",
              " 'born': 234,\n",
              " 'borne': 235,\n",
              " 'boudoir': 236,\n",
              " 'bravura': 237,\n",
              " 'break': 238,\n",
              " 'breaking': 239,\n",
              " 'breathing': 240,\n",
              " 'bric-a-brac': 241,\n",
              " 'briefly': 242,\n",
              " 'brings': 243,\n",
              " 'bronzes': 244,\n",
              " 'brought': 245,\n",
              " 'brown': 246,\n",
              " 'brush': 247,\n",
              " 'bull--that': 248,\n",
              " 'business': 249,\n",
              " 'but': 250,\n",
              " 'buying': 251,\n",
              " 'by': 252,\n",
              " 'called': 253,\n",
              " 'came': 254,\n",
              " 'can': 255,\n",
              " 'canvas': 256,\n",
              " 'canvases': 257,\n",
              " 'cards': 258,\n",
              " 'care': 259,\n",
              " 'career': 260,\n",
              " 'caught': 261,\n",
              " 'central': 262,\n",
              " 'chair': 263,\n",
              " 'chap': 264,\n",
              " 'characteristic': 265,\n",
              " 'charming': 266,\n",
              " 'cheap': 267,\n",
              " 'check': 268,\n",
              " 'cheeks': 269,\n",
              " 'chest': 270,\n",
              " 'chimney-piece': 271,\n",
              " 'chucked': 272,\n",
              " 'cigar': 273,\n",
              " 'cigarette': 274,\n",
              " 'cigars': 275,\n",
              " 'circulation': 276,\n",
              " 'circumstance': 277,\n",
              " 'circus-clown': 278,\n",
              " 'claimed': 279,\n",
              " 'clasping': 280,\n",
              " 'clear': 281,\n",
              " 'cleverer': 282,\n",
              " 'close': 283,\n",
              " 'clue': 284,\n",
              " 'coat': 285,\n",
              " 'collapsed': 286,\n",
              " 'colour': 287,\n",
              " 'come': 288,\n",
              " 'comfortable--and': 289,\n",
              " 'coming': 290,\n",
              " 'companion': 291,\n",
              " 'compared': 292,\n",
              " 'complex': 293,\n",
              " 'confident': 294,\n",
              " 'congesting': 295,\n",
              " 'conjugal': 296,\n",
              " 'constraint': 297,\n",
              " 'consummate': 298,\n",
              " 'contended': 299,\n",
              " 'continued': 300,\n",
              " 'corner': 301,\n",
              " 'corrected': 302,\n",
              " 'could': 303,\n",
              " 'couldn': 304,\n",
              " 'count': 305,\n",
              " 'countenance': 306,\n",
              " 'couple': 307,\n",
              " 'course': 308,\n",
              " 'covered': 309,\n",
              " 'craft': 310,\n",
              " 'cried': 311,\n",
              " 'crossed': 312,\n",
              " 'crowned': 313,\n",
              " 'crumbled': 314,\n",
              " 'cry': 315,\n",
              " 'cured': 316,\n",
              " 'curiosity': 317,\n",
              " 'curious': 318,\n",
              " 'current': 319,\n",
              " 'current--on': 320,\n",
              " 'curtains': 321,\n",
              " 'd': 322,\n",
              " 'dabble': 323,\n",
              " 'damask': 324,\n",
              " 'dark': 325,\n",
              " 'dashed': 326,\n",
              " 'day': 327,\n",
              " 'days': 328,\n",
              " 'dead': 329,\n",
              " 'deadening': 330,\n",
              " 'dear': 331,\n",
              " 'deep': 332,\n",
              " 'deerhound': 333,\n",
              " 'degree': 334,\n",
              " 'delicate': 335,\n",
              " 'demand': 336,\n",
              " 'denied': 337,\n",
              " 'deprecating': 338,\n",
              " 'deprecatingly': 339,\n",
              " 'desire': 340,\n",
              " 'destroyed': 341,\n",
              " 'destruction--his': 342,\n",
              " 'desultory': 343,\n",
              " 'detail': 344,\n",
              " 'diagnosis': 345,\n",
              " 'did': 346,\n",
              " 'didn': 347,\n",
              " 'died': 348,\n",
              " 'dim': 349,\n",
              " 'dimmest': 350,\n",
              " 'dingy': 351,\n",
              " 'dining-room': 352,\n",
              " 'disarming': 353,\n",
              " 'discovery': 354,\n",
              " 'discrimination': 355,\n",
              " 'discussion': 356,\n",
              " 'disdain': 357,\n",
              " 'disdained': 358,\n",
              " 'disease': 359,\n",
              " 'disguised': 360,\n",
              " 'display': 361,\n",
              " 'dissatisfied': 362,\n",
              " 'distinguished': 363,\n",
              " 'distract': 364,\n",
              " 'divert': 365,\n",
              " 'do': 366,\n",
              " 'doesn': 367,\n",
              " 'doing': 368,\n",
              " 'domestic': 369,\n",
              " 'don': 370,\n",
              " 'done': 371,\n",
              " 'done--just': 372,\n",
              " 'donkey': 373,\n",
              " 'donkey--an': 374,\n",
              " 'down': 375,\n",
              " 'dozen': 376,\n",
              " 'dragged': 377,\n",
              " 'drawing-room': 378,\n",
              " 'drawing-rooms': 379,\n",
              " 'drawn': 380,\n",
              " 'dress-closets': 381,\n",
              " 'drew': 382,\n",
              " 'dropped': 383,\n",
              " 'each': 384,\n",
              " 'earth': 385,\n",
              " 'ease--because': 386,\n",
              " 'easel': 387,\n",
              " 'easy--his': 388,\n",
              " 'echoed': 389,\n",
              " 'economy': 390,\n",
              " 'effect': 391,\n",
              " 'effects': 392,\n",
              " 'efforts': 393,\n",
              " 'egregious': 394,\n",
              " 'eighteenth-century': 395,\n",
              " 'elbow': 396,\n",
              " 'elegant': 397,\n",
              " 'else': 398,\n",
              " 'embarrassed': 399,\n",
              " 'enabled': 400,\n",
              " 'end': 401,\n",
              " 'endless': 402,\n",
              " 'enjoy': 403,\n",
              " 'enlightenment': 404,\n",
              " 'enough': 405,\n",
              " 'enough--so': 406,\n",
              " 'ensuing': 407,\n",
              " 'equally': 408,\n",
              " 'equanimity': 409,\n",
              " 'escape': 410,\n",
              " 'established': 411,\n",
              " 'etching': 412,\n",
              " 'even': 413,\n",
              " 'event': 414,\n",
              " 'ever': 415,\n",
              " 'everlasting': 416,\n",
              " 'every': 417,\n",
              " 'exasperated': 418,\n",
              " 'except': 419,\n",
              " 'excuse': 420,\n",
              " 'excusing': 421,\n",
              " 'existed': 422,\n",
              " 'expected': 423,\n",
              " 'exquisite': 424,\n",
              " 'exquisitely': 425,\n",
              " 'extenuation': 426,\n",
              " 'exterminating': 427,\n",
              " 'extracting': 428,\n",
              " 'eye': 429,\n",
              " 'eyebrows': 430,\n",
              " 'eyes': 431,\n",
              " 'face': 432,\n",
              " 'faces': 433,\n",
              " 'fact': 434,\n",
              " 'fact--I': 435,\n",
              " 'faded': 436,\n",
              " 'failed': 437,\n",
              " 'failure': 438,\n",
              " 'fair': 439,\n",
              " 'faith': 440,\n",
              " 'false': 441,\n",
              " 'familiar': 442,\n",
              " 'famille-verte': 443,\n",
              " 'fancy': 444,\n",
              " 'fashionable': 445,\n",
              " 'fate': 446,\n",
              " 'feather': 447,\n",
              " 'feet': 448,\n",
              " 'fell': 449,\n",
              " 'fellow': 450,\n",
              " 'fellow--any': 451,\n",
              " 'felt': 452,\n",
              " 'few': 453,\n",
              " 'fewer': 454,\n",
              " 'finality': 455,\n",
              " 'find': 456,\n",
              " 'fingers': 457,\n",
              " 'first': 458,\n",
              " 'fit': 459,\n",
              " 'fitting': 460,\n",
              " 'five': 461,\n",
              " 'flash': 462,\n",
              " 'flashed': 463,\n",
              " 'florid': 464,\n",
              " 'flowers': 465,\n",
              " 'fluently': 466,\n",
              " 'flung': 467,\n",
              " 'follow': 468,\n",
              " 'followed': 469,\n",
              " 'fond': 470,\n",
              " 'footstep': 471,\n",
              " 'for': 472,\n",
              " 'forced': 473,\n",
              " 'forcing': 474,\n",
              " 'forehead': 475,\n",
              " 'foreign': 476,\n",
              " 'foreseen': 477,\n",
              " 'forgive': 478,\n",
              " 'forgotten': 479,\n",
              " 'form': 480,\n",
              " 'formed': 481,\n",
              " 'forward': 482,\n",
              " 'fostered': 483,\n",
              " 'found': 484,\n",
              " 'foundations': 485,\n",
              " 'fragment': 486,\n",
              " 'fragments': 487,\n",
              " 'frame': 488,\n",
              " 'frames': 489,\n",
              " 'frequently': 490,\n",
              " 'friend': 491,\n",
              " 'from': 492,\n",
              " 'full': 493,\n",
              " 'fullest': 494,\n",
              " 'furiously': 495,\n",
              " 'furrowed': 496,\n",
              " 'garlanded': 497,\n",
              " 'garlands': 498,\n",
              " 'gave': 499,\n",
              " 'genial': 500,\n",
              " 'genius--though': 501,\n",
              " 'gesture': 502,\n",
              " 'get': 503,\n",
              " 'getting': 504,\n",
              " 'give': 505,\n",
              " 'given': 506,\n",
              " 'glad': 507,\n",
              " 'glanced': 508,\n",
              " 'glimpse': 509,\n",
              " 'gloried': 510,\n",
              " 'glory': 511,\n",
              " 'go': 512,\n",
              " 'going': 513,\n",
              " 'gone': 514,\n",
              " 'good': 515,\n",
              " 'good-breeding': 516,\n",
              " 'good-humoured': 517,\n",
              " 'got': 518,\n",
              " 'grace': 519,\n",
              " 'gradually': 520,\n",
              " 'gray': 521,\n",
              " 'grayish': 522,\n",
              " 'great': 523,\n",
              " 'greatest': 524,\n",
              " 'greatness--of': 525,\n",
              " 'grew': 526,\n",
              " 'groping': 527,\n",
              " 'growing': 528,\n",
              " 'had': 529,\n",
              " 'hadn': 530,\n",
              " 'hair': 531,\n",
              " 'half': 532,\n",
              " 'half-light': 533,\n",
              " 'half-mechanically--': 534,\n",
              " 'hall': 535,\n",
              " 'hand': 536,\n",
              " 'hands': 537,\n",
              " 'handsome': 538,\n",
              " 'hanging': 539,\n",
              " 'happen': 540,\n",
              " 'happened': 541,\n",
              " 'hard': 542,\n",
              " 'hardly': 543,\n",
              " 'has': 544,\n",
              " 'have': 545,\n",
              " 'haven': 546,\n",
              " 'having': 547,\n",
              " 'he': 548,\n",
              " 'head': 549,\n",
              " 'hear': 550,\n",
              " 'heard': 551,\n",
              " 'heart': 552,\n",
              " 'height': 553,\n",
              " 'her': 554,\n",
              " 'her--since': 555,\n",
              " 'here': 556,\n",
              " 'hermit': 557,\n",
              " 'herself': 558,\n",
              " 'herself--': 559,\n",
              " 'hesitations': 560,\n",
              " 'hide': 561,\n",
              " 'high': 562,\n",
              " 'him': 563,\n",
              " 'him--it': 564,\n",
              " 'him--only': 565,\n",
              " 'him--or': 566,\n",
              " 'himself': 567,\n",
              " 'hint': 568,\n",
              " 'his': 569,\n",
              " 'history': 570,\n",
              " 'holding': 571,\n",
              " 'home': 572,\n",
              " 'honour': 573,\n",
              " 'honour--say': 574,\n",
              " 'hooded': 575,\n",
              " 'hostess': 576,\n",
              " 'hot-house': 577,\n",
              " 'hour': 578,\n",
              " 'hours': 579,\n",
              " 'house': 580,\n",
              " 'how': 581,\n",
              " 'hung': 582,\n",
              " 'husband': 583,\n",
              " 'idea': 584,\n",
              " 'idea--she': 585,\n",
              " 'idle': 586,\n",
              " 'idling': 587,\n",
              " 'if': 588,\n",
              " 'immediately': 589,\n",
              " 'in': 590,\n",
              " 'incense': 591,\n",
              " 'indifferent': 592,\n",
              " 'inevitable': 593,\n",
              " 'inevitably': 594,\n",
              " 'inflexible': 595,\n",
              " 'insensible': 596,\n",
              " 'insignificant': 597,\n",
              " 'instinctively': 598,\n",
              " 'instructive': 599,\n",
              " 'interesting': 600,\n",
              " 'interesting--if': 601,\n",
              " 'into': 602,\n",
              " 'ironic': 603,\n",
              " 'irony': 604,\n",
              " 'irrelevance': 605,\n",
              " 'irrevocable--the': 606,\n",
              " 'is': 607,\n",
              " 'it': 608,\n",
              " 'it--': 609,\n",
              " 'it--and': 610,\n",
              " 'it--it': 611,\n",
              " 'it--the': 612,\n",
              " 'its': 613,\n",
              " 'itself': 614,\n",
              " 'jardiniere': 615,\n",
              " 'jealousy': 616,\n",
              " 'just': 617,\n",
              " 'keep': 618,\n",
              " 'kept': 619,\n",
              " 'kind': 620,\n",
              " 'knees': 621,\n",
              " 'knew': 622,\n",
              " 'know': 623,\n",
              " 'known': 624,\n",
              " 'laid': 625,\n",
              " 'lair': 626,\n",
              " 'landing': 627,\n",
              " 'language': 628,\n",
              " 'last': 629,\n",
              " 'late--I': 630,\n",
              " 'late--it': 631,\n",
              " 'later': 632,\n",
              " 'latter': 633,\n",
              " 'laugh': 634,\n",
              " 'laughed': 635,\n",
              " 'lay': 636,\n",
              " 'leading': 637,\n",
              " 'lean': 638,\n",
              " 'learned': 639,\n",
              " 'least': 640,\n",
              " 'leathery': 641,\n",
              " 'leave': 642,\n",
              " 'led': 643,\n",
              " 'left': 644,\n",
              " 'leisure': 645,\n",
              " 'lends': 646,\n",
              " 'lent': 647,\n",
              " 'let': 648,\n",
              " 'lies': 649,\n",
              " 'life': 650,\n",
              " 'life-likeness': 651,\n",
              " 'lift': 652,\n",
              " 'lifted': 653,\n",
              " 'light': 654,\n",
              " 'lightly': 655,\n",
              " 'like': 656,\n",
              " 'liked': 657,\n",
              " 'line': 658,\n",
              " 'lines--but': 659,\n",
              " 'lingered': 660,\n",
              " 'lips': 661,\n",
              " 'lit': 662,\n",
              " 'little': 663,\n",
              " 'live': 664,\n",
              " 'll': 665,\n",
              " 'loathing': 666,\n",
              " 'long': 667,\n",
              " 'longed': 668,\n",
              " 'longer': 669,\n",
              " 'look': 670,\n",
              " 'looked': 671,\n",
              " 'looking': 672,\n",
              " 'lose': 673,\n",
              " 'loss': 674,\n",
              " 'lounging': 675,\n",
              " 'lovely': 676,\n",
              " 'lucky': 677,\n",
              " 'lump': 678,\n",
              " 'luncheon-table': 679,\n",
              " 'luxury': 680,\n",
              " 'lying': 681,\n",
              " 'made': 682,\n",
              " 'make': 683,\n",
              " 'man': 684,\n",
              " 'manage': 685,\n",
              " 'managed': 686,\n",
              " 'mantel-piece': 687,\n",
              " 'mantel-piece--the': 688,\n",
              " 'marble': 689,\n",
              " 'married': 690,\n",
              " 'may': 691,\n",
              " 'me': 692,\n",
              " 'me--I': 693,\n",
              " 'me--cured': 694,\n",
              " 'me--only': 695,\n",
              " 'me--they': 696,\n",
              " 'meant': 697,\n",
              " 'mediocrity': 698,\n",
              " 'medium': 699,\n",
              " 'mentioned': 700,\n",
              " 'mere': 701,\n",
              " 'merely': 702,\n",
              " 'met': 703,\n",
              " 'might': 704,\n",
              " 'mighty': 705,\n",
              " 'millionaire': 706,\n",
              " 'mine': 707,\n",
              " 'minute': 708,\n",
              " 'minutes--and': 709,\n",
              " 'mirrors': 710,\n",
              " 'modest': 711,\n",
              " 'modesty': 712,\n",
              " 'modesty--Jack': 713,\n",
              " 'moment': 714,\n",
              " 'moment--as': 715,\n",
              " 'money': 716,\n",
              " 'monumental': 717,\n",
              " 'mood--rather': 718,\n",
              " 'morbidly': 719,\n",
              " 'more': 720,\n",
              " 'most': 721,\n",
              " 'mourn': 722,\n",
              " 'mourned': 723,\n",
              " 'moustache': 724,\n",
              " 'moved': 725,\n",
              " 'much': 726,\n",
              " 'muddling': 727,\n",
              " 'multiplied': 728,\n",
              " 'murmur': 729,\n",
              " 'muscles': 730,\n",
              " 'must': 731,\n",
              " 'my': 732,\n",
              " 'myself': 733,\n",
              " 'myself--and': 734,\n",
              " 'mysterious': 735,\n",
              " 'naive': 736,\n",
              " 'near': 737,\n",
              " 'nearly': 738,\n",
              " 'negatived': 739,\n",
              " 'nervous': 740,\n",
              " 'nervousness': 741,\n",
              " 'neutral': 742,\n",
              " 'never': 743,\n",
              " 'next': 744,\n",
              " 'no': 745,\n",
              " 'no--for': 746,\n",
              " 'none': 747,\n",
              " 'not': 748,\n",
              " 'note': 749,\n",
              " 'nothing--I': 750,\n",
              " 'now': 751,\n",
              " 'nymphs': 752,\n",
              " 'oak': 753,\n",
              " 'obituary': 754,\n",
              " 'object': 755,\n",
              " 'objects': 756,\n",
              " 'occurred': 757,\n",
              " 'oddly': 758,\n",
              " 'of': 759,\n",
              " 'off': 760,\n",
              " 'off--and': 761,\n",
              " 'often': 762,\n",
              " 'oh': 763,\n",
              " 'old': 764,\n",
              " 'on': 765,\n",
              " 'on--forming': 766,\n",
              " 'once': 767,\n",
              " 'once--but': 768,\n",
              " 'one': 769,\n",
              " 'one--my': 770,\n",
              " 'ones': 771,\n",
              " 'only': 772,\n",
              " 'onto': 773,\n",
              " 'open': 774,\n",
              " 'or': 775,\n",
              " 'other': 776,\n",
              " 'our': 777,\n",
              " 'ourselves': 778,\n",
              " 'out': 779,\n",
              " 'out--all': 780,\n",
              " 'outline': 781,\n",
              " 'oval': 782,\n",
              " 'over': 783,\n",
              " 'own': 784,\n",
              " 'packed': 785,\n",
              " 'paid': 786,\n",
              " 'paint': 787,\n",
              " 'painted': 788,\n",
              " 'painter': 789,\n",
              " 'painter--ah': 790,\n",
              " 'painting': 791,\n",
              " 'painting--since': 792,\n",
              " 'pale': 793,\n",
              " 'paled': 794,\n",
              " 'palm-trees': 795,\n",
              " 'panel': 796,\n",
              " 'panelling': 797,\n",
              " 'pardonable': 798,\n",
              " 'pardoned': 799,\n",
              " 'part': 800,\n",
              " 'passages': 801,\n",
              " 'passing': 802,\n",
              " 'past': 803,\n",
              " 'pastels': 804,\n",
              " 'pathos': 805,\n",
              " 'patient': 806,\n",
              " 'people': 807,\n",
              " 'perceptible': 808,\n",
              " 'perfect': 809,\n",
              " 'persistence': 810,\n",
              " 'persuasively': 811,\n",
              " 'phrase': 812,\n",
              " 'picture': 813,\n",
              " 'picture--had': 814,\n",
              " 'pictures': 815,\n",
              " 'pictures--so': 816,\n",
              " 'pictures--the': 817,\n",
              " 'pines': 818,\n",
              " 'pink': 819,\n",
              " 'place': 820,\n",
              " 'placed': 821,\n",
              " 'plain': 822,\n",
              " 'platitudes': 823,\n",
              " 'pleased': 824,\n",
              " 'pockets': 825,\n",
              " 'point': 826,\n",
              " 'poised': 827,\n",
              " 'poor': 828,\n",
              " 'portrait': 829,\n",
              " 'portrait--and': 830,\n",
              " 'portrait--she': 831,\n",
              " 'posing': 832,\n",
              " 'possessed': 833,\n",
              " 'poverty': 834,\n",
              " 'predicted': 835,\n",
              " 'preliminary': 836,\n",
              " 'presenting': 837,\n",
              " 'prestidigitation': 838,\n",
              " 'pretty': 839,\n",
              " 'previous': 840,\n",
              " 'price': 841,\n",
              " 'pride': 842,\n",
              " 'princely': 843,\n",
              " 'prism': 844,\n",
              " 'problem': 845,\n",
              " 'proclaiming': 846,\n",
              " 'prodigious': 847,\n",
              " 'profusion': 848,\n",
              " 'protest': 849,\n",
              " 'prove': 850,\n",
              " 'public': 851,\n",
              " 'purblind': 852,\n",
              " 'purely': 853,\n",
              " 'pushed': 854,\n",
              " 'put': 855,\n",
              " 'qualities': 856,\n",
              " 'quality': 857,\n",
              " 'queerly--as': 858,\n",
              " 'question': 859,\n",
              " 'quickly': 860,\n",
              " 'quietly': 861,\n",
              " 'quite': 862,\n",
              " 'quote': 863,\n",
              " 'rain': 864,\n",
              " 'raised': 865,\n",
              " 'random': 866,\n",
              " 'rather': 867,\n",
              " 're': 868,\n",
              " 'real': 869,\n",
              " 'really': 870,\n",
              " 'reared': 871,\n",
              " 'reason': 872,\n",
              " 'reassurance': 873,\n",
              " 'recovering': 874,\n",
              " 'recreated': 875,\n",
              " 'reflected': 876,\n",
              " 'reflection': 877,\n",
              " 'regrets': 878,\n",
              " 'relatively': 879,\n",
              " 'remained': 880,\n",
              " 'remember': 881,\n",
              " 'reminded': 882,\n",
              " 'repeating': 883,\n",
              " 'represented': 884,\n",
              " 'reproduction': 885,\n",
              " 'resented': 886,\n",
              " 'resolve': 887,\n",
              " 'resources': 888,\n",
              " 'rest': 889,\n",
              " 'rich': 890,\n",
              " 'ridiculous': 891,\n",
              " 'robbed': 892,\n",
              " 'romantic': 893,\n",
              " 'room': 894,\n",
              " 'rose': 895,\n",
              " 'rs': 896,\n",
              " 'rule': 897,\n",
              " 'run': 898,\n",
              " 's': 899,\n",
              " 'said': 900,\n",
              " 'said--': 901,\n",
              " 'same': 902,\n",
              " 'satisfaction': 903,\n",
              " 'savour': 904,\n",
              " 'saw': 905,\n",
              " 'say': 906,\n",
              " 'saying': 907,\n",
              " 'says': 908,\n",
              " 'scorn': 909,\n",
              " 'scornful': 910,\n",
              " 'secret': 911,\n",
              " 'see': 912,\n",
              " 'seemed': 913,\n",
              " 'seen': 914,\n",
              " 'self-confident': 915,\n",
              " 'send': 916,\n",
              " 'sensation': 917,\n",
              " 'sensitive': 918,\n",
              " 'sent': 919,\n",
              " 'serious': 920,\n",
              " 'set': 921,\n",
              " 'sex': 922,\n",
              " 'shade': 923,\n",
              " 'shaking': 924,\n",
              " 'shall': 925,\n",
              " 'she': 926,\n",
              " 'shirked': 927,\n",
              " 'short': 928,\n",
              " 'should': 929,\n",
              " 'shoulder': 930,\n",
              " 'shoulders': 931,\n",
              " 'show': 932,\n",
              " 'showed': 933,\n",
              " 'showy': 934,\n",
              " 'shrug': 935,\n",
              " 'shrugged': 936,\n",
              " 'sight': 937,\n",
              " 'sign': 938,\n",
              " 'silent': 939,\n",
              " 'silver': 940,\n",
              " 'similar': 941,\n",
              " 'simpleton': 942,\n",
              " 'simplifications': 943,\n",
              " 'simply': 944,\n",
              " 'since': 945,\n",
              " 'single': 946,\n",
              " 'sitter--deploring': 947,\n",
              " 'sitters': 948,\n",
              " 'sketch': 949,\n",
              " 'skill': 950,\n",
              " 'slight': 951,\n",
              " 'slightly': 952,\n",
              " 'slowly': 953,\n",
              " 'small': 954,\n",
              " 'smile': 955,\n",
              " 'smiling': 956,\n",
              " 'sneer': 957,\n",
              " 'so': 958,\n",
              " 'so--his': 959,\n",
              " 'solace': 960,\n",
              " 'some': 961,\n",
              " 'somebody': 962,\n",
              " 'something': 963,\n",
              " 'spacious': 964,\n",
              " 'spaniel': 965,\n",
              " 'speaking-tubes': 966,\n",
              " 'speculations': 967,\n",
              " 'spite': 968,\n",
              " 'splash': 969,\n",
              " 'square': 970,\n",
              " 'stairs': 971,\n",
              " 'stammer': 972,\n",
              " 'stand': 973,\n",
              " 'standing': 974,\n",
              " 'started': 975,\n",
              " 'stay': 976,\n",
              " 'still': 977,\n",
              " 'stocked': 978,\n",
              " 'stood': 979,\n",
              " 'stopped': 980,\n",
              " 'stopping': 981,\n",
              " 'straddling': 982,\n",
              " 'straight': 983,\n",
              " 'strain': 984,\n",
              " 'straining': 985,\n",
              " 'strange': 986,\n",
              " 'straw': 987,\n",
              " 'stream': 988,\n",
              " 'stroke': 989,\n",
              " 'strokes': 990,\n",
              " 'strolled': 991,\n",
              " 'strongest': 992,\n",
              " 'strongly': 993,\n",
              " 'struck': 994,\n",
              " 'studio': 995,\n",
              " 'stuff': 996,\n",
              " 'subject': 997,\n",
              " 'substantial': 998,\n",
              " 'suburban': 999,\n",
              " ...}"
            ]
          },
          "metadata": {},
          "execution_count": 11
        }
      ]
    },
    {
      "cell_type": "code",
      "source": [
        "class SimpleTokenzier:\n",
        "  def __init__(self,vocab):\n",
        "    self.str_to_int = vocab\n",
        "    self.int_to_str = {i: s for s, i in vocab.items()}\n",
        "\n",
        "  def encode(self,text):\n",
        "    preprocessed = re.split(r'[!.,:;?_\"()\\']+|\\s+', text)\n",
        "    preprocessed = [item.strip() for item in preprocessed if item.strip()]\n",
        "    ids = [self.str_to_int[s] for s in preprocessed]\n",
        "    return ids\n",
        "\n",
        "  def decode(self,ids):\n",
        "    text = \" \".join([self.int_to_str[i] for i in ids])\n",
        "    text = re.sub(r'\\s+([.,:;?!()\\'\"])', r'\\1', text)\n",
        "    return text\n"
      ],
      "metadata": {
        "id": "WJSAov_8U8FD"
      },
      "execution_count": 12,
      "outputs": []
    },
    {
      "cell_type": "code",
      "source": [
        "tokenizer = SimpleTokenzier(vocab)"
      ],
      "metadata": {
        "id": "Nm-II8tlZy3C"
      },
      "execution_count": 13,
      "outputs": []
    },
    {
      "cell_type": "code",
      "source": [
        "text = \"\"\"\" I like atmosphere. \"\"\""
      ],
      "metadata": {
        "id": "ZDsxF_t7Z5cD"
      },
      "execution_count": 14,
      "outputs": []
    },
    {
      "cell_type": "code",
      "source": [
        "ids = tokenizer.encode(text)\n",
        "print(ids)"
      ],
      "metadata": {
        "colab": {
          "base_uri": "https://localhost:8080/"
        },
        "id": "1k_iHsWfaP_X",
        "outputId": "202d1bcd-ced2-48ff-a7f0-e68e50a4cb4c"
      },
      "execution_count": 15,
      "outputs": [
        {
          "output_type": "stream",
          "name": "stdout",
          "text": [
            "[51, 656, 190]\n"
          ]
        }
      ]
    },
    {
      "cell_type": "code",
      "source": [
        "tokenizer.decode(ids)"
      ],
      "metadata": {
        "colab": {
          "base_uri": "https://localhost:8080/",
          "height": 36
        },
        "id": "eTlvX4M9acZ7",
        "outputId": "eb39f89c-040b-40a7-cd12-ea4da2b089eb"
      },
      "execution_count": 16,
      "outputs": [
        {
          "output_type": "execute_result",
          "data": {
            "text/plain": [
              "'I like atmosphere'"
            ],
            "application/vnd.google.colaboratory.intrinsic+json": {
              "type": "string"
            }
          },
          "metadata": {},
          "execution_count": 16
        }
      ]
    },
    {
      "cell_type": "code",
      "source": [
        "all_tokens = sorted(list(set(preprocessed)))\n",
        "all_tokens.extend([\"<|endoftext|>\", \"<|unk|>\"])\n",
        "\n",
        "vocab={token : integer for integer, token in enumerate(all_tokens)}"
      ],
      "metadata": {
        "id": "Xwjl0BbQbqVf"
      },
      "execution_count": 17,
      "outputs": []
    },
    {
      "cell_type": "code",
      "source": [
        "class SimpleTokenzier2:\n",
        "  def __init__(self,vocab):\n",
        "    self.str_to_int = vocab\n",
        "    self.int_to_str = {i: s for s, i in vocab.items()}\n",
        "\n",
        "  def encode(self,text):\n",
        "    preprocessed = re.split(r'[!.,:;?_\"()\\']+|\\s+', text)\n",
        "    preprocessed = [item.strip() for item in preprocessed if item.strip()]\n",
        "    preprocessed = [ item if item in self.str_to_int else \"<|unk|>\" for item in preprocessed]\n",
        "    ids = [self.str_to_int[s] for s in preprocessed]\n",
        "    return ids\n",
        "\n",
        "  def decode(self,ids):\n",
        "    text = \" \".join([self.int_to_str[i] for i in ids])\n",
        "    text = re.sub(r'\\s+([.,:;?!()\\'\"])', r'\\1', text)\n",
        "    return text\n",
        "\n",
        "\n"
      ],
      "metadata": {
        "id": "xONBWhXsdffv"
      },
      "execution_count": 18,
      "outputs": []
    },
    {
      "cell_type": "code",
      "source": [
        "tokenizer2 = SimpleTokenzier2(vocab)"
      ],
      "metadata": {
        "id": "alN89n2YeTpn"
      },
      "execution_count": 19,
      "outputs": []
    },
    {
      "cell_type": "code",
      "source": [
        "text1 = \"hello , how are you.\""
      ],
      "metadata": {
        "id": "9lBppZZ4efvT"
      },
      "execution_count": 20,
      "outputs": []
    },
    {
      "cell_type": "code",
      "source": [
        "tokenizer2.encode(text1)"
      ],
      "metadata": {
        "colab": {
          "base_uri": "https://localhost:8080/"
        },
        "id": "2ZgiGlmGekCx",
        "outputId": "cc2668fa-29e2-420e-decc-dea861e5d51d"
      },
      "execution_count": 21,
      "outputs": [
        {
          "output_type": "execute_result",
          "data": {
            "text/plain": [
              "[1190, 581, 178, 1184]"
            ]
          },
          "metadata": {},
          "execution_count": 21
        }
      ]
    },
    {
      "cell_type": "code",
      "source": [
        "tokenizer2.decode(tokenizer2.encode(text1))"
      ],
      "metadata": {
        "colab": {
          "base_uri": "https://localhost:8080/",
          "height": 36
        },
        "id": "LfVAWSFKem_B",
        "outputId": "e366ec6a-bf09-4260-a3ed-622a656da2d3"
      },
      "execution_count": 22,
      "outputs": [
        {
          "output_type": "execute_result",
          "data": {
            "text/plain": [
              "'<|unk|> how are you'"
            ],
            "application/vnd.google.colaboratory.intrinsic+json": {
              "type": "string"
            }
          },
          "metadata": {},
          "execution_count": 22
        }
      ]
    },
    {
      "cell_type": "code",
      "source": [],
      "metadata": {
        "id": "8sLdC8fjeryD"
      },
      "execution_count": 22,
      "outputs": []
    },
    {
      "cell_type": "markdown",
      "source": [
        "BYTE PAIR ENCODING"
      ],
      "metadata": {
        "id": "4ZmDW33tg528"
      }
    },
    {
      "cell_type": "code",
      "source": [
        "import tiktoken"
      ],
      "metadata": {
        "id": "wQ2oFAsJg8bi"
      },
      "execution_count": 23,
      "outputs": []
    },
    {
      "cell_type": "code",
      "source": [
        "toknizer = tiktoken.get_encoding(\"gpt2\")"
      ],
      "metadata": {
        "id": "wQI1kpIAhA2e"
      },
      "execution_count": 24,
      "outputs": []
    },
    {
      "cell_type": "code",
      "source": [
        "toknizer.n_vocab"
      ],
      "metadata": {
        "colab": {
          "base_uri": "https://localhost:8080/"
        },
        "id": "vPpcu7XdcUo3",
        "outputId": "a28668d3-d921-40ef-f605-1c805825bef9"
      },
      "execution_count": 25,
      "outputs": [
        {
          "output_type": "execute_result",
          "data": {
            "text/plain": [
              "50257"
            ]
          },
          "metadata": {},
          "execution_count": 25
        }
      ]
    },
    {
      "cell_type": "code",
      "source": [
        "enc_text = toknizer.encode(raw_text)\n",
        "print(len(enc_text))"
      ],
      "metadata": {
        "colab": {
          "base_uri": "https://localhost:8080/"
        },
        "id": "4KsIPR7GhSKl",
        "outputId": "e56f180f-bc03-4268-b938-b618d67f7630"
      },
      "execution_count": 26,
      "outputs": [
        {
          "output_type": "stream",
          "name": "stdout",
          "text": [
            "5145\n"
          ]
        }
      ]
    },
    {
      "cell_type": "code",
      "source": [
        "enc_sample = enc_text[50:]"
      ],
      "metadata": {
        "id": "4nDQZyuD9izc"
      },
      "execution_count": 27,
      "outputs": []
    },
    {
      "cell_type": "code",
      "source": [
        "context_size = 4\n",
        "\n",
        "x = enc_sample[:context_size]\n",
        "y = enc_sample[1:context_size+1]\n",
        "\n",
        "\n",
        "print(f\"x:  {x}\")\n",
        "print(f\"y:      {y}\")"
      ],
      "metadata": {
        "colab": {
          "base_uri": "https://localhost:8080/"
        },
        "id": "d8SJ3TMaABy8",
        "outputId": "fc16e6b2-2ee7-4a6f-e084-200ee3b0d581"
      },
      "execution_count": 28,
      "outputs": [
        {
          "output_type": "stream",
          "name": "stdout",
          "text": [
            "x:  [290, 4920, 2241, 287]\n",
            "y:      [4920, 2241, 287, 257]\n"
          ]
        }
      ]
    },
    {
      "cell_type": "code",
      "source": [
        "import torch"
      ],
      "metadata": {
        "id": "U2bUZnJCAiFV"
      },
      "execution_count": 29,
      "outputs": []
    },
    {
      "cell_type": "code",
      "source": [
        "from torch.utils.data import Dataset,DataLoader"
      ],
      "metadata": {
        "id": "ZBTtICQgBTfX"
      },
      "execution_count": 30,
      "outputs": []
    },
    {
      "cell_type": "code",
      "source": [
        "class GPTDatasetV1(Dataset):\n",
        "    def __init__(self, txt, tokenizer, max_length, stride):\n",
        "        self.input_ids = []\n",
        "        self.target_ids = []\n",
        "\n",
        "        token_ids = tokenizer.encode(txt, allowed_special={\"<|endoftext|>\"})\n",
        "\n",
        "        for i in range(0, len(token_ids) - max_length, stride):\n",
        "            input_chunk = token_ids[i : i + max_length]\n",
        "            target_chunk = token_ids[i + 1 : i + max_length + 1]\n",
        "\n",
        "            self.input_ids.append(torch.tensor(input_chunk))\n",
        "            self.target_ids.append(torch.tensor(target_chunk))\n",
        "\n",
        "    def __len__(self):\n",
        "        return len(self.input_ids)\n",
        "\n",
        "    def __getitem__(self, idx):\n",
        "        return self.input_ids[idx], self.target_ids[idx]\n",
        "\n",
        "\n",
        "\n",
        "\n",
        "\n",
        "\n"
      ],
      "metadata": {
        "id": "6LM709PeDeTd"
      },
      "execution_count": 31,
      "outputs": []
    },
    {
      "cell_type": "code",
      "source": [
        "def create_dataloader_v1 (txt, batch_size = 4, max_length = 256, stride = 128, shuffle = True, drop_last=True, num_workers = 0):\n",
        "  toknizer = tiktoken.get_encoding(\"gpt2\")\n",
        "  dataset = GPTDatasetV1(txt, toknizer, max_length, stride)\n",
        "\n",
        "\n",
        "  dataloader = DataLoader(\n",
        "      dataset,\n",
        "      batch_size=batch_size,\n",
        "      shuffle=shuffle,\n",
        "      drop_last=drop_last,\n",
        "      num_workers=num_workers\n",
        "  )\n",
        "\n",
        "  return dataloader"
      ],
      "metadata": {
        "id": "WFJxnwPDEmWo"
      },
      "execution_count": 32,
      "outputs": []
    },
    {
      "cell_type": "code",
      "source": [
        "#we can increase the number of strides to avoid LLM from seeing same tokens multiple times\n"
      ],
      "metadata": {
        "id": "JfElW_EyYq6U"
      },
      "execution_count": 33,
      "outputs": []
    },
    {
      "cell_type": "code",
      "source": [
        "#increase number of batch to 8 and stride to 4 and check inputs and outputs using inputs,outputs=next(data_iter)"
      ],
      "metadata": {
        "id": "Gjw1YAhhaGcE"
      },
      "execution_count": 34,
      "outputs": []
    },
    {
      "cell_type": "code",
      "source": [
        "dataloader = create_dataloader_v1(raw_text, batch_size=1, max_length=4, stride=1, shuffle=False)\n",
        "data_iter = iter(dataloader)\n",
        "first_batch = next(data_iter)\n",
        "print(first_batch)"
      ],
      "metadata": {
        "colab": {
          "base_uri": "https://localhost:8080/"
        },
        "id": "Egh1xFIFIA2j",
        "outputId": "882d8283-74a1-4bd7-9bc8-1d3b689c05d8"
      },
      "execution_count": 35,
      "outputs": [
        {
          "output_type": "stream",
          "name": "stdout",
          "text": [
            "[tensor([[  40,  367, 2885, 1464]]), tensor([[ 367, 2885, 1464, 1807]])]\n"
          ]
        }
      ]
    },
    {
      "cell_type": "code",
      "source": [
        "second_batch = next(data_iter)\n",
        "print(second_batch)"
      ],
      "metadata": {
        "colab": {
          "base_uri": "https://localhost:8080/"
        },
        "id": "wjIfUsj_XY7x",
        "outputId": "e9c887c9-fb4c-471a-dc10-1834280a322f"
      },
      "execution_count": 36,
      "outputs": [
        {
          "output_type": "stream",
          "name": "stdout",
          "text": [
            "[tensor([[ 367, 2885, 1464, 1807]]), tensor([[2885, 1464, 1807, 3619]])]\n"
          ]
        }
      ]
    },
    {
      "cell_type": "code",
      "source": [
        "input_ids = torch.tensor([2,3,4,1])"
      ],
      "metadata": {
        "id": "ytfJF6JgYaxV"
      },
      "execution_count": 37,
      "outputs": []
    },
    {
      "cell_type": "code",
      "source": [
        "vocab_size=6\n",
        "output_dim=3\n",
        "\n",
        "torch.manual_seed(1234)\n",
        "embedding_layer = torch.nn.Embedding(toknizer.n_vocab, output_dim)"
      ],
      "metadata": {
        "id": "KjyiaEC_bBOp"
      },
      "execution_count": 38,
      "outputs": []
    },
    {
      "cell_type": "code",
      "source": [
        "print(embedding_layer.weight)"
      ],
      "metadata": {
        "colab": {
          "base_uri": "https://localhost:8080/"
        },
        "id": "ihgFGVEkcAWG",
        "outputId": "1714f9b7-707d-4b04-a473-0704566092d0"
      },
      "execution_count": 39,
      "outputs": [
        {
          "output_type": "stream",
          "name": "stdout",
          "text": [
            "Parameter containing:\n",
            "tensor([[-0.1117, -0.4966,  0.1631],\n",
            "        [-0.8817,  0.0539,  0.6684],\n",
            "        [-0.0597, -0.4675, -0.2153],\n",
            "        ...,\n",
            "        [ 0.2907,  0.1357, -0.7934],\n",
            "        [ 0.1017, -0.2937,  1.1388],\n",
            "        [ 1.6923, -1.7403, -0.1949]], requires_grad=True)\n"
          ]
        }
      ]
    },
    {
      "cell_type": "code",
      "source": [
        "embedding_layer(input_ids)"
      ],
      "metadata": {
        "colab": {
          "base_uri": "https://localhost:8080/"
        },
        "id": "PetarFi2b_db",
        "outputId": "e9a34b39-3a2f-4409-fe4a-c09380a3f53e"
      },
      "execution_count": 40,
      "outputs": [
        {
          "output_type": "execute_result",
          "data": {
            "text/plain": [
              "tensor([[-0.0597, -0.4675, -0.2153],\n",
              "        [ 0.8840, -0.7584, -0.3689],\n",
              "        [-0.3424, -1.4020,  0.3206],\n",
              "        [-0.8817,  0.0539,  0.6684]], grad_fn=<EmbeddingBackward0>)"
            ]
          },
          "metadata": {},
          "execution_count": 40
        }
      ]
    },
    {
      "cell_type": "code",
      "source": [
        "vocab_size=toknizer.n_vocab\n",
        "output_dim = 256\n",
        "\n",
        "token_embedding_layer = torch.nn.Embedding(vocab_size, output_dim)"
      ],
      "metadata": {
        "id": "kjJg9_6ucuwi"
      },
      "execution_count": 41,
      "outputs": []
    },
    {
      "cell_type": "code",
      "source": [
        "max_length = 4\n",
        "dataloader = create_dataloader_v1(raw_text, batch_size=8, max_length=max_length, stride=max_length, shuffle=False)"
      ],
      "metadata": {
        "id": "7Xmq6VQDezkO"
      },
      "execution_count": 42,
      "outputs": []
    },
    {
      "cell_type": "code",
      "source": [
        "data_iter = iter(dataloader)\n",
        "inputs,targets= next(data_iter)"
      ],
      "metadata": {
        "id": "n-_B4nK5fLOy"
      },
      "execution_count": 43,
      "outputs": []
    },
    {
      "cell_type": "code",
      "source": [
        "print(inputs)\n",
        "print(inputs.shape)"
      ],
      "metadata": {
        "colab": {
          "base_uri": "https://localhost:8080/"
        },
        "id": "g08gtKatfUgC",
        "outputId": "846581b1-0aea-4207-8af9-c40508190e0e"
      },
      "execution_count": 44,
      "outputs": [
        {
          "output_type": "stream",
          "name": "stdout",
          "text": [
            "tensor([[   40,   367,  2885,  1464],\n",
            "        [ 1807,  3619,   402,   271],\n",
            "        [10899,  2138,   257,  7026],\n",
            "        [15632,   438,  2016,   257],\n",
            "        [  922,  5891,  1576,   438],\n",
            "        [  568,   340,   373,   645],\n",
            "        [ 1049,  5975,   284,   502],\n",
            "        [  284,  3285,   326,    11]])\n",
            "torch.Size([8, 4])\n"
          ]
        }
      ]
    },
    {
      "cell_type": "code",
      "source": [
        "token_embedding = token_embedding_layer(inputs)\n",
        "token_embedding.shape"
      ],
      "metadata": {
        "colab": {
          "base_uri": "https://localhost:8080/"
        },
        "id": "VEEz6pnOfb4g",
        "outputId": "e6de650c-4d30-4179-cfb6-8aca8714fe07"
      },
      "execution_count": 45,
      "outputs": [
        {
          "output_type": "execute_result",
          "data": {
            "text/plain": [
              "torch.Size([8, 4, 256])"
            ]
          },
          "metadata": {},
          "execution_count": 45
        }
      ]
    },
    {
      "cell_type": "code",
      "source": [
        "context_length = max_length\n",
        "pos_embedding_layer = torch.nn.Embedding(context_length,output_dim)"
      ],
      "metadata": {
        "id": "nB22oF0wfmZC"
      },
      "execution_count": 46,
      "outputs": []
    },
    {
      "cell_type": "code",
      "source": [
        "pos_embedding_layer.weight"
      ],
      "metadata": {
        "colab": {
          "base_uri": "https://localhost:8080/"
        },
        "id": "MdxGWjATgxB_",
        "outputId": "2601a7e3-6d9b-45d5-84b8-7bcb06292239"
      },
      "execution_count": 47,
      "outputs": [
        {
          "output_type": "execute_result",
          "data": {
            "text/plain": [
              "Parameter containing:\n",
              "tensor([[ 0.1076, -0.1631, -0.1190,  ...,  0.5614, -0.4727, -0.0972],\n",
              "        [ 0.0024,  0.8058,  1.6098,  ..., -1.2229, -0.1130,  0.4425],\n",
              "        [-0.1245,  0.1281,  0.9833,  ...,  0.2299,  0.1095, -1.3547],\n",
              "        [ 0.1320,  0.1865, -1.3751,  ..., -1.3680,  0.4121, -0.1078]],\n",
              "       requires_grad=True)"
            ]
          },
          "metadata": {},
          "execution_count": 47
        }
      ]
    },
    {
      "cell_type": "code",
      "source": [
        "pos_embeddings = pos_embedding_layer(torch.arange(max_length))\n",
        "pos_embeddings.shape"
      ],
      "metadata": {
        "colab": {
          "base_uri": "https://localhost:8080/"
        },
        "id": "rSfUvJvthBtJ",
        "outputId": "8fa05207-3aec-4c8e-f885-d06be6881c54"
      },
      "execution_count": 48,
      "outputs": [
        {
          "output_type": "execute_result",
          "data": {
            "text/plain": [
              "torch.Size([4, 256])"
            ]
          },
          "metadata": {},
          "execution_count": 48
        }
      ]
    },
    {
      "cell_type": "code",
      "source": [
        "pos_embeddings"
      ],
      "metadata": {
        "colab": {
          "base_uri": "https://localhost:8080/"
        },
        "id": "Uj-M7oQOhLou",
        "outputId": "1b156ac7-c153-4a26-80ae-3460b17119f6"
      },
      "execution_count": 49,
      "outputs": [
        {
          "output_type": "execute_result",
          "data": {
            "text/plain": [
              "tensor([[ 0.1076, -0.1631, -0.1190,  ...,  0.5614, -0.4727, -0.0972],\n",
              "        [ 0.0024,  0.8058,  1.6098,  ..., -1.2229, -0.1130,  0.4425],\n",
              "        [-0.1245,  0.1281,  0.9833,  ...,  0.2299,  0.1095, -1.3547],\n",
              "        [ 0.1320,  0.1865, -1.3751,  ..., -1.3680,  0.4121, -0.1078]],\n",
              "       grad_fn=<EmbeddingBackward0>)"
            ]
          },
          "metadata": {},
          "execution_count": 49
        }
      ]
    },
    {
      "cell_type": "code",
      "source": [
        "input_embeddings = token_embedding + pos_embeddings\n",
        "input_embeddings.shape"
      ],
      "metadata": {
        "colab": {
          "base_uri": "https://localhost:8080/"
        },
        "id": "Ff9xaFkFhOsy",
        "outputId": "a3c582e3-4d95-4146-9af1-18c90ac6e284"
      },
      "execution_count": 50,
      "outputs": [
        {
          "output_type": "execute_result",
          "data": {
            "text/plain": [
              "torch.Size([8, 4, 256])"
            ]
          },
          "metadata": {},
          "execution_count": 50
        }
      ]
    },
    {
      "cell_type": "markdown",
      "source": [
        "SINGLE HEAD ATTENTION"
      ],
      "metadata": {
        "id": "4tlnsIz1Mo0K"
      }
    },
    {
      "cell_type": "code",
      "source": [
        "import torch"
      ],
      "metadata": {
        "id": "3l9b60pShbXV"
      },
      "execution_count": 51,
      "outputs": []
    },
    {
      "cell_type": "code",
      "source": [
        "inputs = torch.tensor(\n",
        "    [[0.43, 0.15, 0.89],   # Your     (x^1)\n",
        "     [0.55, 0.87, 0.66],   # journey  (x^2)\n",
        "     [0.57, 0.85, 0.64],   # starts   (x^3)\n",
        "     [0.27, 0.58, 0.33],   # with     (x^4)\n",
        "     [0.77, 0.25, 0.10],   # one      (x^5)\n",
        "     [0.05, 0.80, 0.55]]   # step     (x^6)\n",
        ")\n"
      ],
      "metadata": {
        "id": "Qe3fbX0uPH0Q"
      },
      "execution_count": 52,
      "outputs": []
    },
    {
      "cell_type": "code",
      "source": [
        "query = inputs[1]\n",
        "\n",
        "attn_scores_2 = torch.empty(inputs.shape[0])\n",
        "\n",
        "for i, x_i in enumerate(inputs):\n",
        "    attn_scores_2[i] = torch.dot(x_i, query)\n",
        "\n",
        "print(attn_scores_2)"
      ],
      "metadata": {
        "colab": {
          "base_uri": "https://localhost:8080/"
        },
        "id": "nYvnPE84Pgkg",
        "outputId": "9960b501-68c0-40cd-df92-4cc9bac901b6"
      },
      "execution_count": 53,
      "outputs": [
        {
          "output_type": "stream",
          "name": "stdout",
          "text": [
            "tensor([0.9544, 1.4950, 1.4754, 0.8709, 0.7070, 1.0865])\n"
          ]
        }
      ]
    },
    {
      "cell_type": "code",
      "source": [
        "context_vec_2 = torch.empty(query.shape)\n",
        "\n",
        "for i ,x_i in enumerate(inputs):\n",
        "    context_vec_2 += attn_scores_2[i] * x_i\n",
        "\n",
        "print(context_vec_2)\n"
      ],
      "metadata": {
        "colab": {
          "base_uri": "https://localhost:8080/"
        },
        "id": "6rrv4o6nSc3h",
        "outputId": "c10770b8-fdaf-47f5-a537-bef75d6d85f8"
      },
      "execution_count": 54,
      "outputs": [
        {
          "output_type": "stream",
          "name": "stdout",
          "text": [
            "tensor([-4.2241e+21,  4.2490e+00,  3.7360e+00])\n"
          ]
        }
      ]
    },
    {
      "cell_type": "code",
      "source": [
        "query = inputs[1]\n",
        "\n",
        "attn_scores = torch.empty(6,6)\n",
        "\n",
        "\n",
        "attn_scores_2 = torch.empty(inputs.shape[0])\n",
        "\n",
        "for i, x_i in enumerate(inputs):\n",
        "    for j, x_j in enumerate(inputs):\n",
        "      attn_scores[i,j] = torch.dot(x_i, x_j)\n",
        "\n",
        "print(attn_scores)"
      ],
      "metadata": {
        "id": "Dx89mBpuWwhB",
        "colab": {
          "base_uri": "https://localhost:8080/"
        },
        "outputId": "3b10cb6c-2104-45fe-fa62-f0eb71cd9350"
      },
      "execution_count": 55,
      "outputs": [
        {
          "output_type": "stream",
          "name": "stdout",
          "text": [
            "tensor([[0.9995, 0.9544, 0.9422, 0.4968, 0.4576, 0.6310],\n",
            "        [0.9544, 1.4950, 1.4754, 0.8709, 0.7070, 1.0865],\n",
            "        [0.9422, 1.4754, 1.4570, 0.8581, 0.7154, 1.0605],\n",
            "        [0.4968, 0.8709, 0.8581, 0.5182, 0.3859, 0.6590],\n",
            "        [0.4576, 0.7070, 0.7154, 0.3859, 0.6654, 0.2935],\n",
            "        [0.6310, 1.0865, 1.0605, 0.6590, 0.2935, 0.9450]])\n"
          ]
        }
      ]
    },
    {
      "cell_type": "code",
      "source": [
        "atscores = inputs @ inputs.T\n",
        "print(atscores)"
      ],
      "metadata": {
        "colab": {
          "base_uri": "https://localhost:8080/"
        },
        "id": "AX86zH-Rh0cx",
        "outputId": "83915e51-0a92-4d7c-8b4b-af038219f261"
      },
      "execution_count": 56,
      "outputs": [
        {
          "output_type": "stream",
          "name": "stdout",
          "text": [
            "tensor([[0.9995, 0.9544, 0.9422, 0.4968, 0.4576, 0.6310],\n",
            "        [0.9544, 1.4950, 1.4754, 0.8709, 0.7070, 1.0865],\n",
            "        [0.9422, 1.4754, 1.4570, 0.8581, 0.7154, 1.0605],\n",
            "        [0.4968, 0.8709, 0.8581, 0.5182, 0.3859, 0.6590],\n",
            "        [0.4576, 0.7070, 0.7154, 0.3859, 0.6654, 0.2935],\n",
            "        [0.6310, 1.0865, 1.0605, 0.6590, 0.2935, 0.9450]])\n"
          ]
        }
      ]
    },
    {
      "cell_type": "code",
      "source": [
        "att_weights = torch.nn.functional.softmax(atscores, dim=1)\n",
        "print(att_weights)"
      ],
      "metadata": {
        "colab": {
          "base_uri": "https://localhost:8080/"
        },
        "id": "-75_Y8w_iPnH",
        "outputId": "55b8cb33-5ba4-459e-969c-e57ce596c7fc"
      },
      "execution_count": 57,
      "outputs": [
        {
          "output_type": "stream",
          "name": "stdout",
          "text": [
            "tensor([[0.2093, 0.2000, 0.1976, 0.1266, 0.1217, 0.1448],\n",
            "        [0.1381, 0.2371, 0.2325, 0.1270, 0.1078, 0.1576],\n",
            "        [0.1385, 0.2361, 0.2318, 0.1273, 0.1104, 0.1559],\n",
            "        [0.1432, 0.2082, 0.2056, 0.1463, 0.1282, 0.1685],\n",
            "        [0.1518, 0.1948, 0.1964, 0.1413, 0.1869, 0.1288],\n",
            "        [0.1384, 0.2183, 0.2127, 0.1424, 0.0988, 0.1895]])\n"
          ]
        }
      ]
    },
    {
      "cell_type": "code",
      "source": [
        "all_cont_vecs = att_weights @ inputs\n",
        "print(all_cont_vecs)"
      ],
      "metadata": {
        "colab": {
          "base_uri": "https://localhost:8080/"
        },
        "id": "0u8FsGpaieR7",
        "outputId": "1a68786d-07b8-44a3-d9bb-e9af6fa8aba7"
      },
      "execution_count": 58,
      "outputs": [
        {
          "output_type": "stream",
          "name": "stdout",
          "text": [
            "tensor([[0.4478, 0.5931, 0.5783],\n",
            "        [0.4475, 0.6512, 0.5675],\n",
            "        [0.4487, 0.6493, 0.5662],\n",
            "        [0.4399, 0.6291, 0.5502],\n",
            "        [0.4728, 0.5909, 0.5255],\n",
            "        [0.4248, 0.6503, 0.5645]])\n"
          ]
        }
      ]
    },
    {
      "cell_type": "code",
      "source": [
        "x_2 = inputs[1]\n",
        "d_in = inputs.shape[1]\n",
        "d_out = 2"
      ],
      "metadata": {
        "id": "lwMGJfvji_dx"
      },
      "execution_count": 59,
      "outputs": []
    },
    {
      "cell_type": "code",
      "source": [
        "torch.manual_seed(123)\n",
        "\n",
        "W_query = torch.nn.Parameter(torch.rand(d_in, d_out))\n",
        "W_key = torch.nn.Parameter(torch.rand(d_in, d_out))\n",
        "W_value = torch.nn.Parameter(torch.rand(d_in, d_out))"
      ],
      "metadata": {
        "id": "3b2BNOgF3qAp"
      },
      "execution_count": 60,
      "outputs": []
    },
    {
      "cell_type": "code",
      "source": [
        "query_2 = x_2 @ W_query\n",
        "query_2"
      ],
      "metadata": {
        "colab": {
          "base_uri": "https://localhost:8080/"
        },
        "id": "01tFZnHu4FEX",
        "outputId": "ed833b6b-64b5-44a6-965c-328a84e52955"
      },
      "execution_count": 61,
      "outputs": [
        {
          "output_type": "execute_result",
          "data": {
            "text/plain": [
              "tensor([0.4306, 1.4551], grad_fn=<SqueezeBackward4>)"
            ]
          },
          "metadata": {},
          "execution_count": 61
        }
      ]
    },
    {
      "cell_type": "code",
      "source": [
        "keys = inputs @ W_key\n",
        "keys.shape"
      ],
      "metadata": {
        "colab": {
          "base_uri": "https://localhost:8080/"
        },
        "id": "F4s2R1ut4jxu",
        "outputId": "052da87d-6180-4304-d005-cf635c1055a1"
      },
      "execution_count": 62,
      "outputs": [
        {
          "output_type": "execute_result",
          "data": {
            "text/plain": [
              "torch.Size([6, 2])"
            ]
          },
          "metadata": {},
          "execution_count": 62
        }
      ]
    },
    {
      "cell_type": "code",
      "source": [
        "values = inputs @ W_value\n",
        "values.shape"
      ],
      "metadata": {
        "colab": {
          "base_uri": "https://localhost:8080/"
        },
        "id": "hLPvxpiw4_ir",
        "outputId": "0270eb9c-a619-490f-a7ca-63cd7a233ea4"
      },
      "execution_count": 63,
      "outputs": [
        {
          "output_type": "execute_result",
          "data": {
            "text/plain": [
              "torch.Size([6, 2])"
            ]
          },
          "metadata": {},
          "execution_count": 63
        }
      ]
    },
    {
      "cell_type": "code",
      "source": [
        "ateention_scores = query_2 @ keys.T\n",
        "ateention_scores"
      ],
      "metadata": {
        "colab": {
          "base_uri": "https://localhost:8080/"
        },
        "id": "yS1gnt7J5Whx",
        "outputId": "fe1c364d-9510-41e7-c2f3-abe2abee5ba6"
      },
      "execution_count": 64,
      "outputs": [
        {
          "output_type": "execute_result",
          "data": {
            "text/plain": [
              "tensor([1.2705, 1.8524, 1.8111, 1.0899, 0.5577, 1.5440],\n",
              "       grad_fn=<SqueezeBackward4>)"
            ]
          },
          "metadata": {},
          "execution_count": 64
        }
      ]
    },
    {
      "cell_type": "code",
      "source": [
        "d_k = keys.shape[1]\n",
        "\n",
        "attn_weights = torch.nn.functional.softmax(ateention_scores / d_k**0.5, dim=-1)\n",
        "attn_weights"
      ],
      "metadata": {
        "colab": {
          "base_uri": "https://localhost:8080/"
        },
        "id": "Ke0XAqpw53qD",
        "outputId": "27e6e0c3-0db2-48d5-82f9-00373dfb44a2"
      },
      "execution_count": 65,
      "outputs": [
        {
          "output_type": "execute_result",
          "data": {
            "text/plain": [
              "tensor([0.1499, 0.2262, 0.2197, 0.1319, 0.0905, 0.1819],\n",
              "       grad_fn=<SoftmaxBackward0>)"
            ]
          },
          "metadata": {},
          "execution_count": 65
        }
      ]
    },
    {
      "cell_type": "code",
      "source": [
        "context_vectors = attn_weights @ values\n",
        "context_vectors"
      ],
      "metadata": {
        "colab": {
          "base_uri": "https://localhost:8080/"
        },
        "id": "rQ_WTlO66PKp",
        "outputId": "e83bf3ca-fa7d-41dc-ae05-3dc486f9d9ba"
      },
      "execution_count": 66,
      "outputs": [
        {
          "output_type": "execute_result",
          "data": {
            "text/plain": [
              "tensor([0.3065, 0.8221], grad_fn=<SqueezeBackward4>)"
            ]
          },
          "metadata": {},
          "execution_count": 66
        }
      ]
    },
    {
      "cell_type": "code",
      "source": [
        "import torch.nn as nn\n",
        "\n",
        "class SelfAttention_v1(nn.Module):\n",
        "    def __init__(self, d_in, d_out):\n",
        "        super().__init__()\n",
        "        self.W_query = torch.nn.Parameter(torch.rand(d_in, d_out))\n",
        "        self.W_key = torch.nn.Parameter(torch.rand(d_in, d_out))\n",
        "        self.W_value = torch.nn.Parameter(torch.rand(d_in, d_out))\n",
        "\n",
        "    def forward(self, x):\n",
        "        queries = inputs @ self.W_query\n",
        "        keys = inputs @ self.W_key\n",
        "        values = inputs @ self.W_value\n",
        "\n",
        "        attn_scores = queries @ keys.T\n",
        "        attn_weights = torch.softmax(attn_scores / d_k**0.5, dim=1)\n",
        "        context_vec = attn_weights @ values\n",
        "\n",
        "        return context_vec\n",
        "\n",
        "torch.manual_seed(123)\n",
        "sa_v1 = SelfAttention_v1(d_in, d_out)\n",
        "sa_v1(inputs)\n"
      ],
      "metadata": {
        "colab": {
          "base_uri": "https://localhost:8080/"
        },
        "id": "07y4pnsO6P2M",
        "outputId": "a1aeb19c-5170-4920-d314-d4bdbacf17cc"
      },
      "execution_count": 67,
      "outputs": [
        {
          "output_type": "execute_result",
          "data": {
            "text/plain": [
              "tensor([[0.3001, 0.8065],\n",
              "        [0.3065, 0.8221],\n",
              "        [0.3062, 0.8213],\n",
              "        [0.2958, 0.7964],\n",
              "        [0.2932, 0.7904],\n",
              "        [0.2995, 0.8053]], grad_fn=<MmBackward0>)"
            ]
          },
          "metadata": {},
          "execution_count": 67
        }
      ]
    },
    {
      "cell_type": "code",
      "source": [
        "class SelfAttention_v2(nn.Module):\n",
        "    def __init__(self, d_in, d_out, qkv_bias = False):\n",
        "        super().__init__()\n",
        "        self.W_query = torch.nn.Linear(d_in, d_out, bias=qkv_bias)\n",
        "        self.W_key = torch.nn.Linear(d_in, d_out, bias=qkv_bias)\n",
        "        self.W_value = torch.nn.Linear(d_in, d_out, bias=qkv_bias)\n",
        "\n",
        "    def forward(self, x):\n",
        "        queries = self.W_query(inputs)\n",
        "        keys = self.W_key(inputs)\n",
        "        values = self.W_value(inputs)\n",
        "\n",
        "        attn_scores = queries @ keys.T\n",
        "        attn_weights = torch.softmax(attn_scores / d_k**0.5, dim=1)\n",
        "        context_vec = attn_weights @ values\n",
        "\n",
        "        return context_vec\n",
        "\n",
        "torch.manual_seed(789)\n",
        "sa_v2 = SelfAttention_v2(d_in, d_out)\n",
        "sa_v2(inputs)\n"
      ],
      "metadata": {
        "colab": {
          "base_uri": "https://localhost:8080/"
        },
        "id": "QrJ0stYZ9cXZ",
        "outputId": "d9dbb772-d3f7-4a50-9707-921c7d8e5f36"
      },
      "execution_count": 68,
      "outputs": [
        {
          "output_type": "execute_result",
          "data": {
            "text/plain": [
              "tensor([[-0.0719,  0.0752],\n",
              "        [-0.0729,  0.0741],\n",
              "        [-0.0730,  0.0741],\n",
              "        [-0.0740,  0.0725],\n",
              "        [-0.0743,  0.0720],\n",
              "        [-0.0735,  0.0733]], grad_fn=<MmBackward0>)"
            ]
          },
          "metadata": {},
          "execution_count": 68
        }
      ]
    },
    {
      "cell_type": "code",
      "source": [
        "queries = sa_v2.W_query(inputs)\n",
        "keys = sa_v2.W_key(inputs)\n",
        "values = sa_v2.W_value(inputs)\n",
        "\n",
        "attn_scores = queries @ keys.T\n",
        "attn_weights = torch.softmax(attn_scores / d_k**0.5, dim=1)\n"
      ],
      "metadata": {
        "id": "OQ89_HiBBLJt"
      },
      "execution_count": 69,
      "outputs": []
    },
    {
      "cell_type": "code",
      "source": [
        "attn_weights"
      ],
      "metadata": {
        "colab": {
          "base_uri": "https://localhost:8080/"
        },
        "id": "5dsGdfbaCgfp",
        "outputId": "65cd67c6-4711-4630-f003-948be1d194c1"
      },
      "execution_count": 70,
      "outputs": [
        {
          "output_type": "execute_result",
          "data": {
            "text/plain": [
              "tensor([[0.1919, 0.1644, 0.1650, 0.1560, 0.1719, 0.1508],\n",
              "        [0.2038, 0.1656, 0.1660, 0.1508, 0.1662, 0.1475],\n",
              "        [0.2033, 0.1657, 0.1660, 0.1510, 0.1662, 0.1478],\n",
              "        [0.1874, 0.1665, 0.1667, 0.1575, 0.1659, 0.1559],\n",
              "        [0.1829, 0.1667, 0.1668, 0.1594, 0.1657, 0.1584],\n",
              "        [0.1933, 0.1662, 0.1664, 0.1551, 0.1664, 0.1527]],\n",
              "       grad_fn=<SoftmaxBackward0>)"
            ]
          },
          "metadata": {},
          "execution_count": 70
        }
      ]
    },
    {
      "cell_type": "code",
      "source": [
        "context_length = attn_scores.shape[0]\n",
        "mask_simple = torch.tril(torch.ones(context_length, context_length))\n",
        "print(mask_simple)\n",
        "\n"
      ],
      "metadata": {
        "colab": {
          "base_uri": "https://localhost:8080/"
        },
        "id": "OjY9qwXdCiXm",
        "outputId": "c2f4d3e3-8455-4d02-e295-efcd4e046f61"
      },
      "execution_count": 71,
      "outputs": [
        {
          "output_type": "stream",
          "name": "stdout",
          "text": [
            "tensor([[1., 0., 0., 0., 0., 0.],\n",
            "        [1., 1., 0., 0., 0., 0.],\n",
            "        [1., 1., 1., 0., 0., 0.],\n",
            "        [1., 1., 1., 1., 0., 0.],\n",
            "        [1., 1., 1., 1., 1., 0.],\n",
            "        [1., 1., 1., 1., 1., 1.]])\n"
          ]
        }
      ]
    },
    {
      "cell_type": "code",
      "source": [
        "masked_simple = attn_weights * mask_simple\n",
        "masked_simple\n"
      ],
      "metadata": {
        "colab": {
          "base_uri": "https://localhost:8080/"
        },
        "id": "Xb4pOC_hDAD7",
        "outputId": "18ca00a5-4309-4e0d-b00c-8865162da4ad"
      },
      "execution_count": 72,
      "outputs": [
        {
          "output_type": "execute_result",
          "data": {
            "text/plain": [
              "tensor([[0.1919, 0.0000, 0.0000, 0.0000, 0.0000, 0.0000],\n",
              "        [0.2038, 0.1656, 0.0000, 0.0000, 0.0000, 0.0000],\n",
              "        [0.2033, 0.1657, 0.1660, 0.0000, 0.0000, 0.0000],\n",
              "        [0.1874, 0.1665, 0.1667, 0.1575, 0.0000, 0.0000],\n",
              "        [0.1829, 0.1667, 0.1668, 0.1594, 0.1657, 0.0000],\n",
              "        [0.1933, 0.1662, 0.1664, 0.1551, 0.1664, 0.1527]],\n",
              "       grad_fn=<MulBackward0>)"
            ]
          },
          "metadata": {},
          "execution_count": 72
        }
      ]
    },
    {
      "cell_type": "code",
      "source": [
        "row_sums = masked_simple.sum(dim=-1, keepdim=True)\n",
        "masked_simple_norm = masked_simple / row_sums\n",
        "print(masked_simple_norm)\n"
      ],
      "metadata": {
        "colab": {
          "base_uri": "https://localhost:8080/"
        },
        "id": "P8aPujmADBbv",
        "outputId": "dc766806-0ca7-4d84-e317-3e8c1eece353"
      },
      "execution_count": 73,
      "outputs": [
        {
          "output_type": "stream",
          "name": "stdout",
          "text": [
            "tensor([[1.0000, 0.0000, 0.0000, 0.0000, 0.0000, 0.0000],\n",
            "        [0.5517, 0.4483, 0.0000, 0.0000, 0.0000, 0.0000],\n",
            "        [0.3800, 0.3097, 0.3103, 0.0000, 0.0000, 0.0000],\n",
            "        [0.2763, 0.2456, 0.2458, 0.2323, 0.0000, 0.0000],\n",
            "        [0.2173, 0.1981, 0.1982, 0.1894, 0.1969, 0.0000],\n",
            "        [0.1933, 0.1662, 0.1664, 0.1551, 0.1664, 0.1527]],\n",
            "       grad_fn=<DivBackward0>)\n"
          ]
        }
      ]
    },
    {
      "cell_type": "code",
      "source": [
        "mask = torch.triu(torch.ones(context_length, context_length), diagonal=1)\n",
        "masked = attn_scores.masked_fill(mask.bool(), -torch.inf)\n",
        "print(masked)\n"
      ],
      "metadata": {
        "colab": {
          "base_uri": "https://localhost:8080/"
        },
        "id": "r6j95tPHDWhs",
        "outputId": "eb7145fa-13f7-42f3-8e34-6d042f04ec5f"
      },
      "execution_count": 74,
      "outputs": [
        {
          "output_type": "stream",
          "name": "stdout",
          "text": [
            "tensor([[0.2899,   -inf,   -inf,   -inf,   -inf,   -inf],\n",
            "        [0.4656, 0.1723,   -inf,   -inf,   -inf,   -inf],\n",
            "        [0.4594, 0.1703, 0.1731,   -inf,   -inf,   -inf],\n",
            "        [0.2725, 0.1057, 0.1070, 0.0269,   -inf,   -inf],\n",
            "        [0.2183, 0.0874, 0.0882, 0.0236, 0.0786,   -inf],\n",
            "        [0.3408, 0.1270, 0.1290, 0.0297, 0.1290, 0.0078]],\n",
            "       grad_fn=<MaskedFillBackward0>)\n"
          ]
        }
      ]
    },
    {
      "cell_type": "code",
      "source": [
        "attn_weights = torch.softmax(masked / d_k**0.5, dim=1)\n",
        "print(attn_weights)"
      ],
      "metadata": {
        "colab": {
          "base_uri": "https://localhost:8080/"
        },
        "id": "evhKtrLAEQjx",
        "outputId": "194296be-9c88-455b-eaa1-6c7b8d3e73d7"
      },
      "execution_count": 75,
      "outputs": [
        {
          "output_type": "stream",
          "name": "stdout",
          "text": [
            "tensor([[1.0000, 0.0000, 0.0000, 0.0000, 0.0000, 0.0000],\n",
            "        [0.5517, 0.4483, 0.0000, 0.0000, 0.0000, 0.0000],\n",
            "        [0.3800, 0.3097, 0.3103, 0.0000, 0.0000, 0.0000],\n",
            "        [0.2763, 0.2456, 0.2458, 0.2323, 0.0000, 0.0000],\n",
            "        [0.2173, 0.1981, 0.1982, 0.1894, 0.1969, 0.0000],\n",
            "        [0.1933, 0.1662, 0.1664, 0.1551, 0.1664, 0.1527]],\n",
            "       grad_fn=<SoftmaxBackward0>)\n"
          ]
        }
      ]
    },
    {
      "cell_type": "code",
      "source": [
        "torch.manual_seed(123)\n",
        "\n",
        "layer = torch.nn.Dropout(0.5)\n",
        "\n",
        "layer(attn_weights)"
      ],
      "metadata": {
        "colab": {
          "base_uri": "https://localhost:8080/"
        },
        "id": "3yoRVZbmEhnd",
        "outputId": "0ec62c90-eee8-4f29-c5d4-f6e56fe4aa6c"
      },
      "execution_count": 76,
      "outputs": [
        {
          "output_type": "execute_result",
          "data": {
            "text/plain": [
              "tensor([[2.0000, 0.0000, 0.0000, 0.0000, 0.0000, 0.0000],\n",
              "        [0.0000, 0.8966, 0.0000, 0.0000, 0.0000, 0.0000],\n",
              "        [0.0000, 0.0000, 0.6206, 0.0000, 0.0000, 0.0000],\n",
              "        [0.5527, 0.4912, 0.0000, 0.0000, 0.0000, 0.0000],\n",
              "        [0.4347, 0.0000, 0.0000, 0.0000, 0.0000, 0.0000],\n",
              "        [0.0000, 0.3323, 0.0000, 0.0000, 0.0000, 0.0000]],\n",
              "       grad_fn=<MulBackward0>)"
            ]
          },
          "metadata": {},
          "execution_count": 76
        }
      ]
    },
    {
      "cell_type": "code",
      "source": [
        "batch = torch.stack((inputs,inputs),dim=0)\n",
        "batch.shape"
      ],
      "metadata": {
        "colab": {
          "base_uri": "https://localhost:8080/"
        },
        "id": "cauA5jA6IZoS",
        "outputId": "c074301d-7bfe-4fa2-dc1e-da3f9971e263"
      },
      "execution_count": 77,
      "outputs": [
        {
          "output_type": "execute_result",
          "data": {
            "text/plain": [
              "torch.Size([2, 6, 3])"
            ]
          },
          "metadata": {},
          "execution_count": 77
        }
      ]
    },
    {
      "cell_type": "code",
      "source": [
        "class CausalAttention(nn.Module):\n",
        "    def __init__(self, d_in, d_out, context_length, dropout, qkv_bias=False):\n",
        "        super().__init__()\n",
        "        self.W_query = torch.nn.Linear(d_in, d_out, bias=qkv_bias)\n",
        "        self.W_key = torch.nn.Linear(d_in, d_out, bias=qkv_bias)\n",
        "        self.W_value = torch.nn.Linear(d_in, d_out, bias=qkv_bias)\n",
        "        self.dropout = torch.nn.Dropout(dropout)\n",
        "        self.register_buffer(\"mask\", torch.triu(torch.ones(context_length, context_length), diagonal=1))\n",
        "\n",
        "    def forward(self, x):\n",
        "        b,num_tokens,d_in = x.shape\n",
        "        queries = self.W_query(x)\n",
        "        keys = self.W_key(x)\n",
        "        values = self.W_value(x)\n",
        "\n",
        "        attn_scores = queries @ keys.transpose(1, 2)  # Changed transpose\n",
        "        attn_scores.masked_fill_(\n",
        "            self.mask.bool()[:num_tokens, :num_tokens], -torch.inf\n",
        "        )  # New, ops are in-place\n",
        "\n",
        "        attn_weights = torch.softmax(\n",
        "            attn_scores / keys.shape[-1]**0.5, dim=-1\n",
        "        )\n",
        "\n",
        "        attn_weights = self.dropout(attn_weights)  # New\n",
        "        context_vec = attn_weights @ values\n",
        "\n",
        "        return context_vec\n",
        "\n",
        "\n",
        "\n",
        "torch.manual_seed(789)\n",
        "context_length=batch.shape[1]\n",
        "dropout = 0.0\n",
        "ca = CausalAttention(d_in, d_out, context_length, dropout)\n",
        "ca(batch)"
      ],
      "metadata": {
        "colab": {
          "base_uri": "https://localhost:8080/"
        },
        "id": "aVBl3pdOF1jN",
        "outputId": "9e5ae768-54b5-447c-fadc-8f4aa5fc211a"
      },
      "execution_count": 78,
      "outputs": [
        {
          "output_type": "execute_result",
          "data": {
            "text/plain": [
              "tensor([[[-0.0872,  0.0286],\n",
              "         [-0.0991,  0.0501],\n",
              "         [-0.0999,  0.0633],\n",
              "         [-0.0953,  0.0549],\n",
              "         [-0.0491,  0.1147],\n",
              "         [-0.0735,  0.0733]],\n",
              "\n",
              "        [[-0.0872,  0.0286],\n",
              "         [-0.0991,  0.0501],\n",
              "         [-0.0999,  0.0633],\n",
              "         [-0.0953,  0.0549],\n",
              "         [-0.0491,  0.1147],\n",
              "         [-0.0735,  0.0733]]], grad_fn=<UnsafeViewBackward0>)"
            ]
          },
          "metadata": {},
          "execution_count": 78
        }
      ]
    },
    {
      "cell_type": "code",
      "source": [],
      "metadata": {
        "id": "98wkhDV6Lvwt"
      },
      "execution_count": 78,
      "outputs": []
    },
    {
      "cell_type": "markdown",
      "source": [
        "MULTI HEAD ATTENTION"
      ],
      "metadata": {
        "id": "NW8XYbJQMs8A"
      }
    },
    {
      "cell_type": "code",
      "source": [
        "class MultiHeadAttentionWrapper(nn.Module):\n",
        "    def __init__(self, d_in, d_out, context_length, dropout, num_heads=2, qkv_bias=False):\n",
        "        super().__init__()\n",
        "        self.heads = nn.ModuleList([\n",
        "            CausalAttention(d_in, d_out, context_length, dropout, qkv_bias) for _ in range(num_heads)\n",
        "        ])\n",
        "\n",
        "    def forward(self, x):\n",
        "        return torch.cat([head(x) for head in self.heads], dim=-1)\n",
        "\n",
        "\n",
        "torch.manual_seed(123)\n",
        "\n",
        "context_length = batch.shape[1]\n",
        "d_in, d_out = 3, 2\n",
        "\n",
        "mha = MultiHeadAttentionWrapper(d_in, d_out, context_length, dropout=0.0, num_heads=2)\n",
        "mha(batch)\n"
      ],
      "metadata": {
        "colab": {
          "base_uri": "https://localhost:8080/"
        },
        "id": "7LLs4vDrMup0",
        "outputId": "cf27bd92-e195-4823-c6e5-0f2670afab0f"
      },
      "execution_count": 79,
      "outputs": [
        {
          "output_type": "execute_result",
          "data": {
            "text/plain": [
              "tensor([[[-0.4519,  0.2216,  0.4772,  0.1063],\n",
              "         [-0.5874,  0.0058,  0.5891,  0.3257],\n",
              "         [-0.6300, -0.0632,  0.6202,  0.3860],\n",
              "         [-0.5736, -0.0857,  0.5541,  0.3620],\n",
              "         [-0.5572, -0.0992,  0.5369,  0.3452],\n",
              "         [-0.5339, -0.1090,  0.5118,  0.3514]],\n",
              "\n",
              "        [[-0.4519,  0.2216,  0.4772,  0.1063],\n",
              "         [-0.5874,  0.0058,  0.5891,  0.3257],\n",
              "         [-0.6300, -0.0632,  0.6202,  0.3860],\n",
              "         [-0.5736, -0.0857,  0.5541,  0.3620],\n",
              "         [-0.5572, -0.0992,  0.5369,  0.3452],\n",
              "         [-0.5339, -0.1090,  0.5118,  0.3514]]], grad_fn=<CatBackward0>)"
            ]
          },
          "metadata": {},
          "execution_count": 79
        }
      ]
    },
    {
      "cell_type": "code",
      "source": [
        "class MultiHeadAttention2(nn.Module):\n",
        "    def __init__(self, d_in, d_out, context_length, dropout, num_heads, qkv_bias=False):\n",
        "        super().__init__()\n",
        "        assert (d_out % num_heads == 0), \\\n",
        "            \"d_out must be divisible by num_heads\"\n",
        "\n",
        "        self.d_out = d_out\n",
        "        self.num_heads = num_heads\n",
        "        self.head_dim = d_out // num_heads  # Reduce the projection dim to match desired output dim\n",
        "\n",
        "        self.W_query = nn.Linear(d_in, d_out, bias=qkv_bias)\n",
        "        self.W_key = nn.Linear(d_in, d_out, bias=qkv_bias)\n",
        "        self.W_value = nn.Linear(d_in, d_out, bias=qkv_bias)\n",
        "        self.out_proj = nn.Linear(d_out, d_out)  # Linear layer to combine head outputs\n",
        "        self.dropout = nn.Dropout(dropout)\n",
        "        self.register_buffer(\n",
        "            \"mask\",\n",
        "            torch.triu(torch.ones(context_length, context_length), diagonal=1)\n",
        "        )\n",
        "\n",
        "\n",
        "    def forward(self, x):\n",
        "      b, num_tokens, d_in = x.shape\n",
        "\n",
        "      keys = self.W_key(x)      # Shape: (b, num_tokens, d_out)\n",
        "      queries = self.W_query(x)\n",
        "      values = self.W_value(x)\n",
        "\n",
        "    # We implicitly split the matrix by adding a `num_heads` dimension\n",
        "    # Unroll last dim: (b, num_tokens, d_out) -> (b, num_tokens, num_heads, head_dim)\n",
        "      keys = keys.view(b, num_tokens, self.num_heads, self.head_dim)\n",
        "      values = values.view(b, num_tokens, self.num_heads, self.head_dim)\n",
        "      queries = queries.view(b, num_tokens, self.num_heads, self.head_dim)\n",
        "\n",
        "    # Transpose: (b, num_tokens, num_heads, head_dim) -> (b, num_heads, num_tokens, head_dim)\n",
        "      keys = keys.transpose(1, 2)\n",
        "      queries = queries.transpose(1, 2)\n",
        "      values = values.transpose(1, 2)\n",
        "\n",
        "    # Compute scaled dot-product attention (aka self-attention) with a causal mask\n",
        "      attn_scores = queries @ keys.transpose(2, 3)  # Dot product for each head\n",
        "\n",
        "    # Original mask truncated to the number of tokens and converted to boolean\n",
        "      mask_bool = self.mask.bool()[:num_tokens, :num_tokens]\n",
        "\n",
        "      # Use the mask to fill attention scores\n",
        "      attn_scores.masked_fill_(mask_bool, -torch.inf)\n",
        "\n",
        "      attn_weights = torch.softmax(attn_scores / keys.shape[-1]**0.5, dim=-1)\n",
        "      attn_weights = self.dropout(attn_weights)\n",
        "\n",
        "\n",
        "      context_vec = (attn_weights @ values).transpose(1, 2)\n",
        "\n",
        "\n",
        "      context_vec = context_vec.reshape(b, num_tokens, self.d_out)\n",
        "      context_vec = self.out_proj(context_vec)\n",
        "\n",
        "      return context_vec\n",
        "\n",
        "torch.manual_seed(123)\n",
        "\n",
        "batch_size, context_length, d_in = batch.shape\n",
        "\n",
        "d_out = 4\n",
        "\n",
        "mha2 = MultiHeadAttention2(d_in, d_out, context_length, dropout=0.0, num_heads=2)\n",
        "context_vec = mha2(batch)\n",
        "\n",
        "print(context_vec)\n",
        "print(context_vec.shape)"
      ],
      "metadata": {
        "colab": {
          "base_uri": "https://localhost:8080/"
        },
        "id": "l4opsmXMPBcp",
        "outputId": "6b599504-01bf-4988-89fa-50f05942fe6d"
      },
      "execution_count": 80,
      "outputs": [
        {
          "output_type": "stream",
          "name": "stdout",
          "text": [
            "tensor([[[ 0.1184,  0.3120, -0.0847, -0.5774],\n",
            "         [ 0.0178,  0.3221, -0.0763, -0.4225],\n",
            "         [-0.0147,  0.3259, -0.0734, -0.3721],\n",
            "         [-0.0130,  0.3139, -0.0709, -0.3609],\n",
            "         [-0.0129,  0.2973, -0.0698, -0.3530],\n",
            "         [-0.0142,  0.2991, -0.0689, -0.3480]],\n",
            "\n",
            "        [[ 0.1184,  0.3120, -0.0847, -0.5774],\n",
            "         [ 0.0178,  0.3221, -0.0763, -0.4225],\n",
            "         [-0.0147,  0.3259, -0.0734, -0.3721],\n",
            "         [-0.0130,  0.3139, -0.0709, -0.3609],\n",
            "         [-0.0129,  0.2973, -0.0698, -0.3530],\n",
            "         [-0.0142,  0.2991, -0.0689, -0.3480]]], grad_fn=<ViewBackward0>)\n",
            "torch.Size([2, 6, 4])\n"
          ]
        }
      ]
    },
    {
      "cell_type": "code",
      "source": [],
      "metadata": {
        "id": "XWey1VIPSejM"
      },
      "execution_count": 80,
      "outputs": []
    },
    {
      "cell_type": "markdown",
      "source": [
        "LLM ARCHITECTURE\n"
      ],
      "metadata": {
        "id": "d8GgFIJUTacI"
      }
    },
    {
      "cell_type": "code",
      "source": [
        "GPT_CONFIG_124M = {\n",
        "    \"vocab_size\": 50257,\n",
        "    \"context_length\": 1024,\n",
        "    \"emb_dim\": 768,\n",
        "    \"n_heads\": 12,\n",
        "    \"n_layers\": 12,\n",
        "    \"drop_rate\": 0.1,\n",
        "    \"qkv_bias\": False\n",
        "}\n"
      ],
      "metadata": {
        "id": "4n7VyQEUTcOH"
      },
      "execution_count": 81,
      "outputs": []
    },
    {
      "cell_type": "code",
      "source": [
        "import torch\n",
        "import torch.nn as nn\n",
        "\n",
        "class DummyGPTModel(nn.Module):\n",
        "    def __init__(self, cfg):\n",
        "        super().__init__()\n",
        "        self.tok_emb = nn.Embedding(cfg[\"vocab_size\"], cfg[\"emb_dim\"])\n",
        "        self.pos_emb = nn.Embedding(cfg[\"context_length\"], cfg[\"emb_dim\"])\n",
        "        self.drop_emb = nn.Dropout(cfg[\"drop_rate\"])\n",
        "\n",
        "        # Use a placeholder for TransformerBlock\n",
        "        self.trf_blocks = nn.Sequential(\n",
        "            *[DummyTransformerBlock(cfg) for _ in range(cfg[\"n_layers\"])]\n",
        "        )\n",
        "\n",
        "        # Use a placeholder for LayerNorm\n",
        "        self.final_norm = DummyLayerNorm(cfg[\"emb_dim\"])\n",
        "        self.out_head = nn.Linear(\n",
        "            cfg[\"emb_dim\"], cfg[\"vocab_size\"], bias=False\n",
        "        )\n",
        "\n",
        "    def forward(self, in_idx):\n",
        "        batch_size, seq_len = in_idx.shape\n",
        "        tok_embeds = self.tok_emb(in_idx)\n",
        "        pos_embeds = self.pos_emb(torch.arange(seq_len, device=in_idx.device))\n",
        "        x = tok_embeds + pos_embeds\n",
        "        x = self.drop_emb(x)\n",
        "        x = self.trf_blocks(x)\n",
        "        x = self.final_norm(x)\n",
        "        logits = self.out_head(x)\n",
        "        return logits\n",
        "\n",
        "\n",
        "\n",
        "class DummyTransformerBlock(nn.Module):\n",
        "    def __init__(self, cfg):\n",
        "        super().__init__()\n",
        "        # A simple placeholder\n",
        "\n",
        "    def forward(self, x):\n",
        "        # This block does nothing and just returns its input.\n",
        "        return x\n",
        "\n",
        "\n",
        "class DummyLayerNorm(nn.Module):\n",
        "    def __init__(self, normalized_shape, eps=1e-5):\n",
        "        super().__init__()\n",
        "        # The parameters here are just to mimic the LayerNorm interface.\n",
        "\n",
        "    def forward(self, x):\n",
        "        # This layer does nothing and just returns its input.\n",
        "        return x\n"
      ],
      "metadata": {
        "id": "t7jekbn8RksA"
      },
      "execution_count": 82,
      "outputs": []
    },
    {
      "cell_type": "code",
      "source": [
        "import tiktoken\n",
        "\n",
        "tokenizer = tiktoken.get_encoding(\"gpt2\")\n",
        "\n",
        "batch = []\n",
        "\n",
        "txt1 = \"Every effort moves you\"\n",
        "txt2 = \"Every day holds a\"\n",
        "\n",
        "batch.append(torch.tensor(tokenizer.encode(txt1)))\n",
        "batch.append(torch.tensor(tokenizer.encode(txt2)))\n",
        "\n",
        "batch = torch.stack(batch, dim=0)\n",
        "print(batch)\n"
      ],
      "metadata": {
        "colab": {
          "base_uri": "https://localhost:8080/"
        },
        "id": "nT61Hv-XbpIk",
        "outputId": "f3e7d20b-5190-4fae-e667-9a3931a1cec2"
      },
      "execution_count": 83,
      "outputs": [
        {
          "output_type": "stream",
          "name": "stdout",
          "text": [
            "tensor([[6109, 3626, 6100,  345],\n",
            "        [6109, 1110, 6622,  257]])\n"
          ]
        }
      ]
    },
    {
      "cell_type": "code",
      "source": [
        "batch.shape"
      ],
      "metadata": {
        "colab": {
          "base_uri": "https://localhost:8080/"
        },
        "id": "EJg8RSFnIk0M",
        "outputId": "402bcd58-8c32-4853-dc02-7beef6525a9e"
      },
      "execution_count": 84,
      "outputs": [
        {
          "output_type": "execute_result",
          "data": {
            "text/plain": [
              "torch.Size([2, 4])"
            ]
          },
          "metadata": {},
          "execution_count": 84
        }
      ]
    },
    {
      "cell_type": "code",
      "source": [
        "torch.manual_seed(123)"
      ],
      "metadata": {
        "colab": {
          "base_uri": "https://localhost:8080/"
        },
        "id": "uqYFRzhEb08Y",
        "outputId": "6124f8f4-22b3-45e8-92b4-eab319a26afc"
      },
      "execution_count": 85,
      "outputs": [
        {
          "output_type": "execute_result",
          "data": {
            "text/plain": [
              "<torch._C.Generator at 0x78719fe4aef0>"
            ]
          },
          "metadata": {},
          "execution_count": 85
        }
      ]
    },
    {
      "cell_type": "code",
      "source": [
        "model = DummyGPTModel(cfg=GPT_CONFIG_124M)\n",
        "logits = model(batch)\n",
        "print(logits.shape)\n",
        "print(logits)"
      ],
      "metadata": {
        "colab": {
          "base_uri": "https://localhost:8080/"
        },
        "id": "v2T7Rj8ucCUI",
        "outputId": "ded5ccd3-3430-4fe8-f50b-da0dc1f2a3c6"
      },
      "execution_count": 86,
      "outputs": [
        {
          "output_type": "stream",
          "name": "stdout",
          "text": [
            "torch.Size([2, 4, 50257])\n",
            "tensor([[[-0.9289,  0.2748, -0.7557,  ..., -1.6070,  0.2702, -0.5888],\n",
            "         [-0.4476,  0.1726,  0.5354,  ..., -0.3932,  1.5285,  0.8557],\n",
            "         [ 0.5680,  1.6053, -0.2155,  ...,  1.1624,  0.1380,  0.7425],\n",
            "         [ 0.0447,  2.4787, -0.8843,  ...,  1.3219, -0.0864, -0.5856]],\n",
            "\n",
            "        [[-1.5474, -0.0542, -1.0571,  ..., -1.8061, -0.4494, -0.6747],\n",
            "         [-0.8422,  0.8243, -0.1098,  ..., -0.1434,  0.2079,  1.2046],\n",
            "         [ 0.1355,  1.1858, -0.1453,  ...,  0.0869, -0.1590,  0.1552],\n",
            "         [ 0.1666, -0.8138,  0.2307,  ...,  2.5035, -0.3055, -0.3083]]],\n",
            "       grad_fn=<UnsafeViewBackward0>)\n"
          ]
        }
      ]
    },
    {
      "cell_type": "code",
      "source": [
        "torch.manual_seed(123)\n",
        "\n",
        "batch_example = torch.randn(1, 2,5)\n",
        "batch_example"
      ],
      "metadata": {
        "colab": {
          "base_uri": "https://localhost:8080/"
        },
        "id": "BcKK5aJ0cMvx",
        "outputId": "030bdb67-f7ed-420a-fd12-8add92ae447d"
      },
      "execution_count": 87,
      "outputs": [
        {
          "output_type": "execute_result",
          "data": {
            "text/plain": [
              "tensor([[[-0.1115,  0.1204, -0.3696, -0.2404, -1.1969],\n",
              "         [ 0.2093, -0.9724, -0.7550,  0.3239, -0.1085]]])"
            ]
          },
          "metadata": {},
          "execution_count": 87
        }
      ]
    },
    {
      "cell_type": "code",
      "source": [
        "layer = nn.Sequential(nn.Linear(5,6), nn.ReLU())\n",
        "out = layer(batch_example)\n",
        "out"
      ],
      "metadata": {
        "colab": {
          "base_uri": "https://localhost:8080/"
        },
        "id": "jiTF6owqeuz_",
        "outputId": "ad14fc30-70c4-45a5-f2f4-9b986544f23e"
      },
      "execution_count": 88,
      "outputs": [
        {
          "output_type": "execute_result",
          "data": {
            "text/plain": [
              "tensor([[[0.2260, 0.3470, 0.0000, 0.2216, 0.0000, 0.0000],\n",
              "         [0.2133, 0.2394, 0.0000, 0.5198, 0.3297, 0.0000]]],\n",
              "       grad_fn=<ReluBackward0>)"
            ]
          },
          "metadata": {},
          "execution_count": 88
        }
      ]
    },
    {
      "cell_type": "code",
      "source": [
        "mean = out.mean(dim=-1,keepdim=True)"
      ],
      "metadata": {
        "id": "am-lxaqEf0wQ"
      },
      "execution_count": 89,
      "outputs": []
    },
    {
      "cell_type": "code",
      "source": [
        "var = out.var(dim=-1,keepdim=True)"
      ],
      "metadata": {
        "id": "IHW7ygYxhBaU"
      },
      "execution_count": 90,
      "outputs": []
    },
    {
      "cell_type": "code",
      "source": [
        "normed = ((out - mean)/torch.sqrt(var))\n",
        "normed.var(dim=-1,keepdim=True)"
      ],
      "metadata": {
        "colab": {
          "base_uri": "https://localhost:8080/"
        },
        "id": "vJFac-huheYR",
        "outputId": "e9a8cbec-03bc-402e-de44-3e776669cffd"
      },
      "execution_count": 91,
      "outputs": [
        {
          "output_type": "execute_result",
          "data": {
            "text/plain": [
              "tensor([[[1.0000],\n",
              "         [1.0000]]], grad_fn=<VarBackward0>)"
            ]
          },
          "metadata": {},
          "execution_count": 91
        }
      ]
    },
    {
      "cell_type": "code",
      "source": [
        "class LayerNorm(nn.Module):\n",
        "    def __init__(self, emb_dim):\n",
        "        super().__init__()\n",
        "        self.eps = 1e-5\n",
        "        self.scale = nn.Parameter(torch.ones(emb_dim))\n",
        "        self.shift = nn.Parameter(torch.zeros(emb_dim))\n",
        "\n",
        "    def forward(self, x):\n",
        "        mean = x.mean(dim=-1, keepdim=True)\n",
        "        var = x.var(dim=-1, keepdim=True, unbiased=False)\n",
        "        norm_x = (x - mean) / torch.sqrt(var + self.eps)\n",
        "        return self.scale * norm_x + self.shift\n"
      ],
      "metadata": {
        "id": "KiUpDSDrh6Ij"
      },
      "execution_count": 92,
      "outputs": []
    },
    {
      "cell_type": "code",
      "source": [
        "ln = LayerNorm(6)\n",
        "out_normed = ln(out)"
      ],
      "metadata": {
        "id": "A-wiySstkRHq"
      },
      "execution_count": 93,
      "outputs": []
    },
    {
      "cell_type": "code",
      "source": [
        "out_normed"
      ],
      "metadata": {
        "colab": {
          "base_uri": "https://localhost:8080/"
        },
        "id": "HxD9bMPAkfS9",
        "outputId": "ee22a4be-796a-4bd6-d452-edcac1b713b2"
      },
      "execution_count": 94,
      "outputs": [
        {
          "output_type": "execute_result",
          "data": {
            "text/plain": [
              "tensor([[[ 0.6745,  1.5470, -0.9549,  0.6431, -0.9549, -0.9549],\n",
              "         [-0.0207,  0.1228, -1.1913,  1.6619,  0.6186, -1.1913]]],\n",
              "       grad_fn=<AddBackward0>)"
            ]
          },
          "metadata": {},
          "execution_count": 94
        }
      ]
    },
    {
      "cell_type": "code",
      "source": [
        "out_normed.var(dim=-1,keepdim=True)"
      ],
      "metadata": {
        "colab": {
          "base_uri": "https://localhost:8080/"
        },
        "id": "99UsK_JKkhQ2",
        "outputId": "efbb3dc9-f6b7-46de-b158-782a80440cf0"
      },
      "execution_count": 95,
      "outputs": [
        {
          "output_type": "execute_result",
          "data": {
            "text/plain": [
              "tensor([[[1.1994],\n",
              "         [1.1996]]], grad_fn=<VarBackward0>)"
            ]
          },
          "metadata": {},
          "execution_count": 95
        }
      ]
    },
    {
      "cell_type": "code",
      "source": [
        "out_normed.mean(dim=-1,keepdim=True)"
      ],
      "metadata": {
        "colab": {
          "base_uri": "https://localhost:8080/"
        },
        "id": "_s5a5wflklhN",
        "outputId": "f61f467e-4bdd-49b4-f0c0-07336d51fcd6"
      },
      "execution_count": 96,
      "outputs": [
        {
          "output_type": "execute_result",
          "data": {
            "text/plain": [
              "tensor([[[ 0.0000e+00],\n",
              "         [-1.9868e-08]]], grad_fn=<MeanBackward1>)"
            ]
          },
          "metadata": {},
          "execution_count": 96
        }
      ]
    },
    {
      "cell_type": "code",
      "source": [
        "class GELU(nn.Module):\n",
        "    def __init__(self):\n",
        "        super().__init__()\n",
        "\n",
        "    def forward(self, x):\n",
        "        return 0.5 * x * (1 + torch.tanh(\n",
        "            torch.sqrt(torch.tensor(2.0 / torch.pi)) *\n",
        "            (x + 0.044715 * torch.pow(x, 3))\n",
        "        ))\n"
      ],
      "metadata": {
        "id": "8OnIo18VkoLc"
      },
      "execution_count": 97,
      "outputs": []
    },
    {
      "cell_type": "code",
      "source": [
        "import matplotlib.pyplot as plt\n",
        "\n",
        "gelu, relu = GELU(), nn.ReLU()\n",
        "\n",
        "# Some sample data\n",
        "x = torch.linspace(-3, 3, 100)\n",
        "y_gelu, y_relu = gelu(x), relu(x)\n",
        "\n",
        "plt.figure(figsize=(8, 3))\n",
        "for i, (y, label) in enumerate(zip([y_gelu, y_relu], [\"GELU\", \"ReLU\"]), 1):\n",
        "    plt.subplot(1, 2, i)\n",
        "    plt.plot(x, y)\n",
        "    plt.title(f\"{label} activation function\")\n",
        "    plt.xlabel(\"x\")\n",
        "    plt.ylabel(f\"{label}(x)\")\n",
        "    plt.grid(True)\n",
        "\n",
        "plt.tight_layout()\n",
        "plt.show()\n"
      ],
      "metadata": {
        "colab": {
          "base_uri": "https://localhost:8080/",
          "height": 263
        },
        "id": "lcJ_ji9bvvQn",
        "outputId": "7e3a9e41-b380-47e3-9ad7-52ffcd1120af"
      },
      "execution_count": 98,
      "outputs": [
        {
          "output_type": "display_data",
          "data": {
            "text/plain": [
              "<Figure size 800x300 with 2 Axes>"
            ],
            "image/png": "[encoded data removed]"
          },
          "metadata": {}
        }
      ]
    },
    {
      "cell_type": "code",
      "source": [
        "class FeedForward(nn.Module):\n",
        "    def __init__(self, cfg):\n",
        "        super().__init__()\n",
        "        self.layers = nn.Sequential(\n",
        "            nn.Linear(cfg[\"emb_dim\"], 4 * cfg[\"emb_dim\"]),\n",
        "            GELU(),\n",
        "            nn.Linear(4 * cfg[\"emb_dim\"], cfg[\"emb_dim\"]),\n",
        "        )\n",
        "\n",
        "    def forward(self, x):\n",
        "        return self.layers(x)\n"
      ],
      "metadata": {
        "id": "HF1uHVMvv-pF"
      },
      "execution_count": 99,
      "outputs": []
    },
    {
      "cell_type": "code",
      "source": [
        "ffn = FeedForward(GPT_CONFIG_124M)\n"
      ],
      "metadata": {
        "id": "QehmAEB_wVdg"
      },
      "execution_count": 100,
      "outputs": []
    },
    {
      "cell_type": "code",
      "source": [
        "x = torch.rand(2,3,768)\n",
        "ffn(x).shape"
      ],
      "metadata": {
        "colab": {
          "base_uri": "https://localhost:8080/"
        },
        "id": "l8Og_oTqxBQs",
        "outputId": "cd449784-fc05-4374-c443-c40e8c4ba0f0"
      },
      "execution_count": 101,
      "outputs": [
        {
          "output_type": "execute_result",
          "data": {
            "text/plain": [
              "torch.Size([2, 3, 768])"
            ]
          },
          "metadata": {},
          "execution_count": 101
        }
      ]
    },
    {
      "cell_type": "code",
      "source": [
        "ffn.layers"
      ],
      "metadata": {
        "colab": {
          "base_uri": "https://localhost:8080/"
        },
        "id": "3ZhM1y_SxILM",
        "outputId": "4ce28d1b-0f18-46b3-a297-bc52ce5179e9"
      },
      "execution_count": 102,
      "outputs": [
        {
          "output_type": "execute_result",
          "data": {
            "text/plain": [
              "Sequential(\n",
              "  (0): Linear(in_features=768, out_features=3072, bias=True)\n",
              "  (1): GELU()\n",
              "  (2): Linear(in_features=3072, out_features=768, bias=True)\n",
              ")"
            ]
          },
          "metadata": {},
          "execution_count": 102
        }
      ]
    },
    {
      "cell_type": "code",
      "source": [
        "class ExampleDeepNeuralNetwork(nn.Module):\n",
        "    def __init__(self, layer_sizes, use_shortcut):\n",
        "        super().__init__()\n",
        "        self.use_shortcut = use_shortcut\n",
        "        self.layers = nn.ModuleList([\n",
        "            nn.Sequential(nn.Linear(layer_sizes[0], layer_sizes[1]), GELU()),\n",
        "            nn.Sequential(nn.Linear(layer_sizes[1], layer_sizes[2]), GELU()),\n",
        "            nn.Sequential(nn.Linear(layer_sizes[2], layer_sizes[3]), GELU()),\n",
        "            nn.Sequential(nn.Linear(layer_sizes[3], layer_sizes[4]), GELU()),\n",
        "            nn.Sequential(nn.Linear(layer_sizes[4], layer_sizes[5]), GELU()),\n",
        "        ])\n",
        "\n",
        "    def forward(self, x):\n",
        "        for layer in self.layers:\n",
        "            # Compute the output of the current layer\n",
        "            layer_output = layer(x)\n",
        "            # Check if shortcut can be applied\n",
        "            if self.use_shortcut and x.shape == layer_output.shape:\n",
        "                x = x + layer_output\n",
        "            else:\n",
        "                x = layer_output\n",
        "        return x\n",
        "\n",
        "\n",
        "\n",
        "\n",
        "def print_gradients(model, x):\n",
        "    # Forward pass\n",
        "    output = model(x)\n",
        "    target = torch.tensor([[0.]])\n",
        "\n",
        "    # Calculate loss based on how close the target and output are\n",
        "    loss = nn.MSELoss()\n",
        "    loss = loss(output, target)\n",
        "\n",
        "    # Backward pass to calculate the gradients\n",
        "    loss.backward()\n",
        "\n",
        "    for name, param in model.named_parameters():\n",
        "        if 'weight' in name:\n",
        "            # Print the mean absolute gradient of the weights\n",
        "            print(f\"{name} has gradient mean of {param.grad.abs().mean().item()}\")\n"
      ],
      "metadata": {
        "id": "WHPLyH07xKoq"
      },
      "execution_count": 103,
      "outputs": []
    },
    {
      "cell_type": "code",
      "source": [
        "layer_sizes = [3,3,3,3,3,1]"
      ],
      "metadata": {
        "id": "P86o9O_M0JPb"
      },
      "execution_count": 104,
      "outputs": []
    },
    {
      "cell_type": "code",
      "source": [
        "sample_input = torch.tensor([[-1.,0.,1.]])"
      ],
      "metadata": {
        "id": "1MFrwkM40PRb"
      },
      "execution_count": 105,
      "outputs": []
    },
    {
      "cell_type": "code",
      "source": [
        "torch.manual_seed(123)\n",
        "\n",
        "model_without_shortcut = ExampleDeepNeuralNetwork(layer_sizes, use_shortcut=False)\n",
        "\n",
        "\n",
        "print_gradients(model_without_shortcut, sample_input)"
      ],
      "metadata": {
        "colab": {
          "base_uri": "https://localhost:8080/"
        },
        "id": "Lqa1h3GI0fKU",
        "outputId": "8fba0834-7921-42f8-fc99-6f33d4d17fa0"
      },
      "execution_count": 106,
      "outputs": [
        {
          "output_type": "stream",
          "name": "stdout",
          "text": [
            "layers.0.0.weight has gradient mean of 0.0002546171599533409\n",
            "layers.1.0.weight has gradient mean of 8.308066026074812e-05\n",
            "layers.2.0.weight has gradient mean of 0.0007468174444511533\n",
            "layers.3.0.weight has gradient mean of 0.001237659016624093\n",
            "layers.4.0.weight has gradient mean of 0.004640596453100443\n"
          ]
        }
      ]
    },
    {
      "cell_type": "code",
      "source": [
        "torch.manual_seed(123)\n",
        "model_with_shortcut = ExampleDeepNeuralNetwork(layer_sizes, use_shortcut=True)\n",
        "print_gradients(model_with_shortcut, sample_input)"
      ],
      "metadata": {
        "colab": {
          "base_uri": "https://localhost:8080/"
        },
        "id": "R5gPWvBi0nYD",
        "outputId": "a085ebb5-3efe-4c35-e246-bba3d39bc5a3"
      },
      "execution_count": 107,
      "outputs": [
        {
          "output_type": "stream",
          "name": "stdout",
          "text": [
            "layers.0.0.weight has gradient mean of 0.022350549697875977\n",
            "layers.1.0.weight has gradient mean of 0.04712463542819023\n",
            "layers.2.0.weight has gradient mean of 0.027912266552448273\n",
            "layers.3.0.weight has gradient mean of 0.013673192821443081\n",
            "layers.4.0.weight has gradient mean of 0.2339744120836258\n"
          ]
        }
      ]
    },
    {
      "cell_type": "code",
      "source": [
        "\n",
        "\n",
        "class TransformerBlock(nn.Module):\n",
        "    def __init__(self, cfg):\n",
        "        super().__init__()\n",
        "        self.att = MultiHeadAttention2(\n",
        "            d_in=cfg[\"emb_dim\"],\n",
        "            d_out=cfg[\"emb_dim\"],\n",
        "            context_length=cfg[\"context_length\"],\n",
        "            num_heads=cfg[\"n_heads\"],\n",
        "            dropout=cfg[\"drop_rate\"],\n",
        "            qkv_bias=cfg[\"qkv_bias\"]\n",
        "        )\n",
        "        self.ff = FeedForward(cfg)\n",
        "        self.norm1 = LayerNorm(cfg[\"emb_dim\"])\n",
        "        self.norm2 = LayerNorm(cfg[\"emb_dim\"])\n",
        "        self.drop_shortcut = nn.Dropout(cfg[\"drop_rate\"])\n",
        "\n",
        "\n",
        "    def forward(self, x):\n",
        "    # Shortcut connection for attention block\n",
        "     shortcut = x\n",
        "     x = self.norm1(x)\n",
        "     x = self.att(x)  # Shape [batch_size, num_tokens, emb_size]\n",
        "     x = self.drop_shortcut(x)\n",
        "     x = x + shortcut  # Add the original input back\n",
        "\n",
        "    # Shortcut connection for feed forward block\n",
        "     shortcut = x\n",
        "     x = self.norm2(x)\n",
        "     x = self.ff(x)\n",
        "     x = self.drop_shortcut(x)\n",
        "     x = x + shortcut  # Add the original input back\n",
        "\n",
        "     return x\n"
      ],
      "metadata": {
        "id": "T90P2OAe0ylH"
      },
      "execution_count": 108,
      "outputs": []
    },
    {
      "cell_type": "code",
      "source": [
        "torch.manual_seed(123)\n",
        "x = torch.rand(2,4,768)\n",
        "\n",
        "block= TransformerBlock(GPT_CONFIG_124M)\n",
        "outpu = block(x)"
      ],
      "metadata": {
        "id": "aCrZDj-FD65L"
      },
      "execution_count": 109,
      "outputs": []
    },
    {
      "cell_type": "code",
      "source": [
        "outpu.shape"
      ],
      "metadata": {
        "colab": {
          "base_uri": "https://localhost:8080/"
        },
        "id": "FaQ218GMEPlC",
        "outputId": "6e224701-99fc-499a-a4e8-4ee49e74ac8c"
      },
      "execution_count": 110,
      "outputs": [
        {
          "output_type": "execute_result",
          "data": {
            "text/plain": [
              "torch.Size([2, 4, 768])"
            ]
          },
          "metadata": {},
          "execution_count": 110
        }
      ]
    },
    {
      "cell_type": "code",
      "source": [
        "class GPTModel(nn.Module):\n",
        "    def __init__(self, cfg):\n",
        "        super().__init__()\n",
        "        self.tok_emb = nn.Embedding(cfg[\"vocab_size\"], cfg[\"emb_dim\"])\n",
        "        self.pos_emb = nn.Embedding(cfg[\"context_length\"], cfg[\"emb_dim\"])\n",
        "        self.drop_emb = nn.Dropout(cfg[\"drop_rate\"])\n",
        "\n",
        "        self.trf_blocks = nn.Sequential(\n",
        "            *[TransformerBlock(cfg) for _ in range(cfg[\"n_layers\"])]\n",
        "        )\n",
        "\n",
        "        self.final_norm = LayerNorm(cfg[\"emb_dim\"])\n",
        "        self.out_head = nn.Linear(\n",
        "            cfg[\"emb_dim\"], cfg[\"vocab_size\"], bias=False\n",
        "        )\n",
        "\n",
        "    def forward(self, in_idx):\n",
        "        batch_size, seq_len = in_idx.shape\n",
        "        tok_embeds = self.tok_emb(in_idx)\n",
        "        pos_embeds = self.pos_emb(torch.arange(seq_len, device=in_idx.device))\n",
        "        x = tok_embeds + pos_embeds\n",
        "        x = self.drop_emb(x)\n",
        "        x = self.trf_blocks(x)\n",
        "        x = self.final_norm(x)\n",
        "        logits = self.out_head(x)\n",
        "        return logits\n"
      ],
      "metadata": {
        "id": "G2mmzj5ZEbNl"
      },
      "execution_count": 111,
      "outputs": []
    },
    {
      "cell_type": "code",
      "source": [
        "batch.shape"
      ],
      "metadata": {
        "colab": {
          "base_uri": "https://localhost:8080/"
        },
        "id": "8kLjcCvTIXpC",
        "outputId": "81b778b4-8692-471e-f833-73903f42874d"
      },
      "execution_count": 112,
      "outputs": [
        {
          "output_type": "execute_result",
          "data": {
            "text/plain": [
              "torch.Size([2, 4])"
            ]
          },
          "metadata": {},
          "execution_count": 112
        }
      ]
    },
    {
      "cell_type": "code",
      "source": [
        "torch.manual_seed(123)\n",
        "\n",
        "model = GPTModel(GPT_CONFIG_124M)\n",
        "out = model(batch)\n",
        "print(out.shape)\n"
      ],
      "metadata": {
        "colab": {
          "base_uri": "https://localhost:8080/"
        },
        "id": "8-3XSV52Hy9h",
        "outputId": "19eab2f0-a1e1-4f13-9a81-bf9d6c577136"
      },
      "execution_count": 113,
      "outputs": [
        {
          "output_type": "stream",
          "name": "stdout",
          "text": [
            "torch.Size([2, 4, 50257])\n"
          ]
        }
      ]
    },
    {
      "cell_type": "code",
      "source": [
        "total_params = sum(p.numel() for p in model.parameters())\n",
        "print(f\"Total number of parameters: {total_params}\")"
      ],
      "metadata": {
        "colab": {
          "base_uri": "https://localhost:8080/"
        },
        "id": "zkgYA2V5IIKP",
        "outputId": "e19b38ae-eeed-40f3-b20e-f5ac9244f4bc"
      },
      "execution_count": 114,
      "outputs": [
        {
          "output_type": "stream",
          "name": "stdout",
          "text": [
            "Total number of parameters: 163009536\n"
          ]
        }
      ]
    },
    {
      "cell_type": "code",
      "source": [
        "print(f\"{total_params - model.out_head.weight.numel():,}\")"
      ],
      "metadata": {
        "colab": {
          "base_uri": "https://localhost:8080/"
        },
        "id": "jp6r5mClIyV8",
        "outputId": "03768f64-d47e-490b-9df8-8342e6eb1d93"
      },
      "execution_count": 115,
      "outputs": [
        {
          "output_type": "stream",
          "name": "stdout",
          "text": [
            "124,412,160\n"
          ]
        }
      ]
    },
    {
      "cell_type": "code",
      "source": [
        "start_context = \"Hello, I am\"\n",
        "\n",
        "encoded = tokenizer.encode(start_context)\n",
        "print(encoded)"
      ],
      "metadata": {
        "colab": {
          "base_uri": "https://localhost:8080/"
        },
        "id": "7cl5LhavKaJd",
        "outputId": "d9c29dff-170c-4075-ba9a-558921cf63f3"
      },
      "execution_count": 116,
      "outputs": [
        {
          "output_type": "stream",
          "name": "stdout",
          "text": [
            "[15496, 11, 314, 716]\n"
          ]
        }
      ]
    },
    {
      "cell_type": "code",
      "source": [
        "encoded_tensor = torch.tensor(encoded).unsqueeze(0)\n",
        "print(encoded_tensor)"
      ],
      "metadata": {
        "colab": {
          "base_uri": "https://localhost:8080/"
        },
        "id": "IgheILopcdJN",
        "outputId": "20b9b2a5-6f6e-417d-de09-a01e8fbe6be7"
      },
      "execution_count": 117,
      "outputs": [
        {
          "output_type": "stream",
          "name": "stdout",
          "text": [
            "tensor([[15496,    11,   314,   716]])\n"
          ]
        }
      ]
    },
    {
      "cell_type": "code",
      "source": [
        "def generate_text_simple(model, idx, max_new_tokens, context_size):\n",
        "    for _ in range(max_new_tokens):\n",
        "        idx_cond = idx[:, -context_size:]\n",
        "\n",
        "        with torch.no_grad():\n",
        "            logits = model(idx_cond)\n",
        "            logits = logits[:, -1, :]\n",
        "\n",
        "        probas = torch.softmax(logits, dim=-1)\n",
        "\n",
        "        idx_next = torch.argmax(probas, dim=-1, keepdim=True)\n",
        "\n",
        "        idx = torch.cat((idx, idx_next), dim=1)\n",
        "\n",
        "    return idx\n"
      ],
      "metadata": {
        "id": "uqMUepZYcoea"
      },
      "execution_count": 118,
      "outputs": []
    },
    {
      "cell_type": "code",
      "source": [
        "out = generate_text_simple(model=model, idx=encoded_tensor, max_new_tokens=6, context_size=GPT_CONFIG_124M['context_length'])"
      ],
      "metadata": {
        "id": "lv3DBSGXdhGm"
      },
      "execution_count": 119,
      "outputs": []
    },
    {
      "cell_type": "code",
      "source": [
        "out"
      ],
      "metadata": {
        "colab": {
          "base_uri": "https://localhost:8080/"
        },
        "id": "5meqNfP_d9Oy",
        "outputId": "f7aa964b-b27c-42cc-a70d-a4970fd8d525"
      },
      "execution_count": 120,
      "outputs": [
        {
          "output_type": "execute_result",
          "data": {
            "text/plain": [
              "tensor([[15496,    11,   314,   716, 46302,  5748, 32746, 18641, 24436, 21950]])"
            ]
          },
          "metadata": {},
          "execution_count": 120
        }
      ]
    },
    {
      "cell_type": "code",
      "source": [
        "tokenizer.decode((out.squeeze(0)).tolist())"
      ],
      "metadata": {
        "colab": {
          "base_uri": "https://localhost:8080/",
          "height": 36
        },
        "id": "OCM4PcPdeApe",
        "outputId": "3b39578a-ee12-4c4a-9570-d26ad43289a3"
      },
      "execution_count": 121,
      "outputs": [
        {
          "output_type": "execute_result",
          "data": {
            "text/plain": [
              "'Hello, I am786hips smoot disappointment nationalismComponent'"
            ],
            "application/vnd.google.colaboratory.intrinsic+json": {
              "type": "string"
            }
          },
          "metadata": {},
          "execution_count": 121
        }
      ]
    },
    {
      "cell_type": "code",
      "source": [
        "from importlib.metadata import version"
      ],
      "metadata": {
        "id": "xtxZlsIjeZuj"
      },
      "execution_count": 122,
      "outputs": []
    },
    {
      "cell_type": "code",
      "source": [
        "pkgs = [\n",
        "    \"matplotlib\",\n",
        "    \"numpy\",\n",
        "    \"tiktoken\",\n",
        "    \"torch\",\n",
        "    \"tensorflow\"\n",
        "]\n",
        "\n",
        "for p in pkgs:\n",
        "    print(f\"{p} version: {version(p)}\")"
      ],
      "metadata": {
        "colab": {
          "base_uri": "https://localhost:8080/"
        },
        "id": "2K5JZaiXmKig",
        "outputId": "b3c9e477-59e4-4f69-a491-2f914a75e5ec"
      },
      "execution_count": 123,
      "outputs": [
        {
          "output_type": "stream",
          "name": "stdout",
          "text": [
            "matplotlib version: 3.10.0\n",
            "numpy version: 2.0.2\n",
            "tiktoken version: 0.9.0\n",
            "torch version: 2.6.0+cu124\n",
            "tensorflow version: 2.18.0\n"
          ]
        }
      ]
    },
    {
      "cell_type": "code",
      "source": [
        "GPT_CONFIG_124M = {\n",
        "    \"vocab_size\": 50257,\n",
        "    \"context_length\": 256,\n",
        "    \"emb_dim\": 768,\n",
        "    \"n_heads\": 12,\n",
        "    \"n_layers\": 12,\n",
        "    \"drop_rate\": 0.1,\n",
        "    \"qkv_bias\": False\n",
        "}\n"
      ],
      "metadata": {
        "id": "0j-RS_60m3va"
      },
      "execution_count": 124,
      "outputs": []
    },
    {
      "cell_type": "code",
      "source": [
        "torch.manual_seed(123)\n",
        "model = GPTModel(GPT_CONFIG_124M)\n",
        "model.eval()"
      ],
      "metadata": {
        "colab": {
          "base_uri": "https://localhost:8080/"
        },
        "id": "ufpOB-_unbHT",
        "outputId": "e24fa2f1-0e53-4bf2-f118-90b00a876e04"
      },
      "execution_count": 125,
      "outputs": [
        {
          "output_type": "execute_result",
          "data": {
            "text/plain": [
              "GPTModel(\n",
              "  (tok_emb): Embedding(50257, 768)\n",
              "  (pos_emb): Embedding(256, 768)\n",
              "  (drop_emb): Dropout(p=0.1, inplace=False)\n",
              "  (trf_blocks): Sequential(\n",
              "    (0): TransformerBlock(\n",
              "      (att): MultiHeadAttention2(\n",
              "        (W_query): Linear(in_features=768, out_features=768, bias=False)\n",
              "        (W_key): Linear(in_features=768, out_features=768, bias=False)\n",
              "        (W_value): Linear(in_features=768, out_features=768, bias=False)\n",
              "        (out_proj): Linear(in_features=768, out_features=768, bias=True)\n",
              "        (dropout): Dropout(p=0.1, inplace=False)\n",
              "      )\n",
              "      (ff): FeedForward(\n",
              "        (layers): Sequential(\n",
              "          (0): Linear(in_features=768, out_features=3072, bias=True)\n",
              "          (1): GELU()\n",
              "          (2): Linear(in_features=3072, out_features=768, bias=True)\n",
              "        )\n",
              "      )\n",
              "      (norm1): LayerNorm()\n",
              "      (norm2): LayerNorm()\n",
              "      (drop_shortcut): Dropout(p=0.1, inplace=False)\n",
              "    )\n",
              "    (1): TransformerBlock(\n",
              "      (att): MultiHeadAttention2(\n",
              "        (W_query): Linear(in_features=768, out_features=768, bias=False)\n",
              "        (W_key): Linear(in_features=768, out_features=768, bias=False)\n",
              "        (W_value): Linear(in_features=768, out_features=768, bias=False)\n",
              "        (out_proj): Linear(in_features=768, out_features=768, bias=True)\n",
              "        (dropout): Dropout(p=0.1, inplace=False)\n",
              "      )\n",
              "      (ff): FeedForward(\n",
              "        (layers): Sequential(\n",
              "          (0): Linear(in_features=768, out_features=3072, bias=True)\n",
              "          (1): GELU()\n",
              "          (2): Linear(in_features=3072, out_features=768, bias=True)\n",
              "        )\n",
              "      )\n",
              "      (norm1): LayerNorm()\n",
              "      (norm2): LayerNorm()\n",
              "      (drop_shortcut): Dropout(p=0.1, inplace=False)\n",
              "    )\n",
              "    (2): TransformerBlock(\n",
              "      (att): MultiHeadAttention2(\n",
              "        (W_query): Linear(in_features=768, out_features=768, bias=False)\n",
              "        (W_key): Linear(in_features=768, out_features=768, bias=False)\n",
              "        (W_value): Linear(in_features=768, out_features=768, bias=False)\n",
              "        (out_proj): Linear(in_features=768, out_features=768, bias=True)\n",
              "        (dropout): Dropout(p=0.1, inplace=False)\n",
              "      )\n",
              "      (ff): FeedForward(\n",
              "        (layers): Sequential(\n",
              "          (0): Linear(in_features=768, out_features=3072, bias=True)\n",
              "          (1): GELU()\n",
              "          (2): Linear(in_features=3072, out_features=768, bias=True)\n",
              "        )\n",
              "      )\n",
              "      (norm1): LayerNorm()\n",
              "      (norm2): LayerNorm()\n",
              "      (drop_shortcut): Dropout(p=0.1, inplace=False)\n",
              "    )\n",
              "    (3): TransformerBlock(\n",
              "      (att): MultiHeadAttention2(\n",
              "        (W_query): Linear(in_features=768, out_features=768, bias=False)\n",
              "        (W_key): Linear(in_features=768, out_features=768, bias=False)\n",
              "        (W_value): Linear(in_features=768, out_features=768, bias=False)\n",
              "        (out_proj): Linear(in_features=768, out_features=768, bias=True)\n",
              "        (dropout): Dropout(p=0.1, inplace=False)\n",
              "      )\n",
              "      (ff): FeedForward(\n",
              "        (layers): Sequential(\n",
              "          (0): Linear(in_features=768, out_features=3072, bias=True)\n",
              "          (1): GELU()\n",
              "          (2): Linear(in_features=3072, out_features=768, bias=True)\n",
              "        )\n",
              "      )\n",
              "      (norm1): LayerNorm()\n",
              "      (norm2): LayerNorm()\n",
              "      (drop_shortcut): Dropout(p=0.1, inplace=False)\n",
              "    )\n",
              "    (4): TransformerBlock(\n",
              "      (att): MultiHeadAttention2(\n",
              "        (W_query): Linear(in_features=768, out_features=768, bias=False)\n",
              "        (W_key): Linear(in_features=768, out_features=768, bias=False)\n",
              "        (W_value): Linear(in_features=768, out_features=768, bias=False)\n",
              "        (out_proj): Linear(in_features=768, out_features=768, bias=True)\n",
              "        (dropout): Dropout(p=0.1, inplace=False)\n",
              "      )\n",
              "      (ff): FeedForward(\n",
              "        (layers): Sequential(\n",
              "          (0): Linear(in_features=768, out_features=3072, bias=True)\n",
              "          (1): GELU()\n",
              "          (2): Linear(in_features=3072, out_features=768, bias=True)\n",
              "        )\n",
              "      )\n",
              "      (norm1): LayerNorm()\n",
              "      (norm2): LayerNorm()\n",
              "      (drop_shortcut): Dropout(p=0.1, inplace=False)\n",
              "    )\n",
              "    (5): TransformerBlock(\n",
              "      (att): MultiHeadAttention2(\n",
              "        (W_query): Linear(in_features=768, out_features=768, bias=False)\n",
              "        (W_key): Linear(in_features=768, out_features=768, bias=False)\n",
              "        (W_value): Linear(in_features=768, out_features=768, bias=False)\n",
              "        (out_proj): Linear(in_features=768, out_features=768, bias=True)\n",
              "        (dropout): Dropout(p=0.1, inplace=False)\n",
              "      )\n",
              "      (ff): FeedForward(\n",
              "        (layers): Sequential(\n",
              "          (0): Linear(in_features=768, out_features=3072, bias=True)\n",
              "          (1): GELU()\n",
              "          (2): Linear(in_features=3072, out_features=768, bias=True)\n",
              "        )\n",
              "      )\n",
              "      (norm1): LayerNorm()\n",
              "      (norm2): LayerNorm()\n",
              "      (drop_shortcut): Dropout(p=0.1, inplace=False)\n",
              "    )\n",
              "    (6): TransformerBlock(\n",
              "      (att): MultiHeadAttention2(\n",
              "        (W_query): Linear(in_features=768, out_features=768, bias=False)\n",
              "        (W_key): Linear(in_features=768, out_features=768, bias=False)\n",
              "        (W_value): Linear(in_features=768, out_features=768, bias=False)\n",
              "        (out_proj): Linear(in_features=768, out_features=768, bias=True)\n",
              "        (dropout): Dropout(p=0.1, inplace=False)\n",
              "      )\n",
              "      (ff): FeedForward(\n",
              "        (layers): Sequential(\n",
              "          (0): Linear(in_features=768, out_features=3072, bias=True)\n",
              "          (1): GELU()\n",
              "          (2): Linear(in_features=3072, out_features=768, bias=True)\n",
              "        )\n",
              "      )\n",
              "      (norm1): LayerNorm()\n",
              "      (norm2): LayerNorm()\n",
              "      (drop_shortcut): Dropout(p=0.1, inplace=False)\n",
              "    )\n",
              "    (7): TransformerBlock(\n",
              "      (att): MultiHeadAttention2(\n",
              "        (W_query): Linear(in_features=768, out_features=768, bias=False)\n",
              "        (W_key): Linear(in_features=768, out_features=768, bias=False)\n",
              "        (W_value): Linear(in_features=768, out_features=768, bias=False)\n",
              "        (out_proj): Linear(in_features=768, out_features=768, bias=True)\n",
              "        (dropout): Dropout(p=0.1, inplace=False)\n",
              "      )\n",
              "      (ff): FeedForward(\n",
              "        (layers): Sequential(\n",
              "          (0): Linear(in_features=768, out_features=3072, bias=True)\n",
              "          (1): GELU()\n",
              "          (2): Linear(in_features=3072, out_features=768, bias=True)\n",
              "        )\n",
              "      )\n",
              "      (norm1): LayerNorm()\n",
              "      (norm2): LayerNorm()\n",
              "      (drop_shortcut): Dropout(p=0.1, inplace=False)\n",
              "    )\n",
              "    (8): TransformerBlock(\n",
              "      (att): MultiHeadAttention2(\n",
              "        (W_query): Linear(in_features=768, out_features=768, bias=False)\n",
              "        (W_key): Linear(in_features=768, out_features=768, bias=False)\n",
              "        (W_value): Linear(in_features=768, out_features=768, bias=False)\n",
              "        (out_proj): Linear(in_features=768, out_features=768, bias=True)\n",
              "        (dropout): Dropout(p=0.1, inplace=False)\n",
              "      )\n",
              "      (ff): FeedForward(\n",
              "        (layers): Sequential(\n",
              "          (0): Linear(in_features=768, out_features=3072, bias=True)\n",
              "          (1): GELU()\n",
              "          (2): Linear(in_features=3072, out_features=768, bias=True)\n",
              "        )\n",
              "      )\n",
              "      (norm1): LayerNorm()\n",
              "      (norm2): LayerNorm()\n",
              "      (drop_shortcut): Dropout(p=0.1, inplace=False)\n",
              "    )\n",
              "    (9): TransformerBlock(\n",
              "      (att): MultiHeadAttention2(\n",
              "        (W_query): Linear(in_features=768, out_features=768, bias=False)\n",
              "        (W_key): Linear(in_features=768, out_features=768, bias=False)\n",
              "        (W_value): Linear(in_features=768, out_features=768, bias=False)\n",
              "        (out_proj): Linear(in_features=768, out_features=768, bias=True)\n",
              "        (dropout): Dropout(p=0.1, inplace=False)\n",
              "      )\n",
              "      (ff): FeedForward(\n",
              "        (layers): Sequential(\n",
              "          (0): Linear(in_features=768, out_features=3072, bias=True)\n",
              "          (1): GELU()\n",
              "          (2): Linear(in_features=3072, out_features=768, bias=True)\n",
              "        )\n",
              "      )\n",
              "      (norm1): LayerNorm()\n",
              "      (norm2): LayerNorm()\n",
              "      (drop_shortcut): Dropout(p=0.1, inplace=False)\n",
              "    )\n",
              "    (10): TransformerBlock(\n",
              "      (att): MultiHeadAttention2(\n",
              "        (W_query): Linear(in_features=768, out_features=768, bias=False)\n",
              "        (W_key): Linear(in_features=768, out_features=768, bias=False)\n",
              "        (W_value): Linear(in_features=768, out_features=768, bias=False)\n",
              "        (out_proj): Linear(in_features=768, out_features=768, bias=True)\n",
              "        (dropout): Dropout(p=0.1, inplace=False)\n",
              "      )\n",
              "      (ff): FeedForward(\n",
              "        (layers): Sequential(\n",
              "          (0): Linear(in_features=768, out_features=3072, bias=True)\n",
              "          (1): GELU()\n",
              "          (2): Linear(in_features=3072, out_features=768, bias=True)\n",
              "        )\n",
              "      )\n",
              "      (norm1): LayerNorm()\n",
              "      (norm2): LayerNorm()\n",
              "      (drop_shortcut): Dropout(p=0.1, inplace=False)\n",
              "    )\n",
              "    (11): TransformerBlock(\n",
              "      (att): MultiHeadAttention2(\n",
              "        (W_query): Linear(in_features=768, out_features=768, bias=False)\n",
              "        (W_key): Linear(in_features=768, out_features=768, bias=False)\n",
              "        (W_value): Linear(in_features=768, out_features=768, bias=False)\n",
              "        (out_proj): Linear(in_features=768, out_features=768, bias=True)\n",
              "        (dropout): Dropout(p=0.1, inplace=False)\n",
              "      )\n",
              "      (ff): FeedForward(\n",
              "        (layers): Sequential(\n",
              "          (0): Linear(in_features=768, out_features=3072, bias=True)\n",
              "          (1): GELU()\n",
              "          (2): Linear(in_features=3072, out_features=768, bias=True)\n",
              "        )\n",
              "      )\n",
              "      (norm1): LayerNorm()\n",
              "      (norm2): LayerNorm()\n",
              "      (drop_shortcut): Dropout(p=0.1, inplace=False)\n",
              "    )\n",
              "  )\n",
              "  (final_norm): LayerNorm()\n",
              "  (out_head): Linear(in_features=768, out_features=50257, bias=False)\n",
              ")"
            ]
          },
          "metadata": {},
          "execution_count": 125
        }
      ]
    },
    {
      "cell_type": "code",
      "source": [
        "def text_to_token_ids(text, tokenizer):\n",
        "    encoded = tokenizer.encode(text, allowed_special={\"<|endoftext|>\"})\n",
        "    encoded_tensor = torch.tensor(encoded).unsqueeze(0)  # add batch dimension\n",
        "    return encoded_tensor\n",
        "\n",
        "start_context = \"Every effort moves you\"\n",
        "tokenizer = tiktoken.get_encoding(\"gpt2\")\n",
        "\n",
        "token_ids=text_to_token_ids(start_context, tokenizer)\n",
        "token_ids"
      ],
      "metadata": {
        "colab": {
          "base_uri": "https://localhost:8080/"
        },
        "id": "VqnGG5vKnp18",
        "outputId": "7ef7a079-170f-4b80-d218-05265c5f56c9"
      },
      "execution_count": 126,
      "outputs": [
        {
          "output_type": "execute_result",
          "data": {
            "text/plain": [
              "tensor([[6109, 3626, 6100,  345]])"
            ]
          },
          "metadata": {},
          "execution_count": 126
        }
      ]
    },
    {
      "cell_type": "code",
      "source": [
        "def token_ids_to_text(token_ids, tokenizer):\n",
        "    flat = token_ids.squeeze(0)\n",
        "    return tokenizer.decode(flat.tolist())\n",
        "\n",
        "token_ids_to_text(token_ids, tokenizer)"
      ],
      "metadata": {
        "colab": {
          "base_uri": "https://localhost:8080/",
          "height": 36
        },
        "id": "dmE720QPoIJm",
        "outputId": "020864ee-2325-44c7-9ffd-d99e76eaf4be"
      },
      "execution_count": 127,
      "outputs": [
        {
          "output_type": "execute_result",
          "data": {
            "text/plain": [
              "'Every effort moves you'"
            ],
            "application/vnd.google.colaboratory.intrinsic+json": {
              "type": "string"
            }
          },
          "metadata": {},
          "execution_count": 127
        }
      ]
    },
    {
      "cell_type": "code",
      "source": [
        "token_ids = generate_text_simple(model=model, idx=text_to_token_ids(start_context, tokenizer), max_new_tokens=10, context_size=GPT_CONFIG_124M['context_length'])\n",
        "token_ids"
      ],
      "metadata": {
        "colab": {
          "base_uri": "https://localhost:8080/"
        },
        "id": "eZXN3tq1oq7i",
        "outputId": "82ce6cc1-7285-43eb-d361-656cb0acc34a"
      },
      "execution_count": 128,
      "outputs": [
        {
          "output_type": "execute_result",
          "data": {
            "text/plain": [
              "tensor([[ 6109,  3626,  6100,   345, 34245,  5139,  2492, 25405, 17434, 17853,\n",
              "          5308,  3398, 13174, 43071]])"
            ]
          },
          "metadata": {},
          "execution_count": 128
        }
      ]
    },
    {
      "cell_type": "code",
      "source": [
        "token_ids.squeeze(0).shape"
      ],
      "metadata": {
        "colab": {
          "base_uri": "https://localhost:8080/"
        },
        "id": "D9nj4NZ8qU6t",
        "outputId": "a8a70c1b-9afa-4b56-9a1d-95bcd16a398f"
      },
      "execution_count": 129,
      "outputs": [
        {
          "output_type": "execute_result",
          "data": {
            "text/plain": [
              "torch.Size([14])"
            ]
          },
          "metadata": {},
          "execution_count": 129
        }
      ]
    },
    {
      "cell_type": "code",
      "source": [
        "token_ids_to_text(token_ids, tokenizer)"
      ],
      "metadata": {
        "colab": {
          "base_uri": "https://localhost:8080/",
          "height": 36
        },
        "id": "dTkpZiEAqmu2",
        "outputId": "56391678-2434-4c5f-84aa-446ad4086de7"
      },
      "execution_count": 130,
      "outputs": [
        {
          "output_type": "execute_result",
          "data": {
            "text/plain": [
              "'Every effort moves you rentingetic wasnم refres RexMeCHicular stren'"
            ],
            "application/vnd.google.colaboratory.intrinsic+json": {
              "type": "string"
            }
          },
          "metadata": {},
          "execution_count": 130
        }
      ]
    },
    {
      "cell_type": "code",
      "source": [
        "inputs = torch.tensor([[16833, 3626, 6100],     # \"every effort moves\",\n",
        "                       [   40, 1107,  588]])    # \"I really like\"\n",
        "\n",
        "targets = torch.tensor([[ 3626, 6100,   345],   # \"effort moves you\",\n",
        "                        [1107,  588, 11311]])   # \"really like chocolate\"\n",
        "\n",
        "with torch.no_grad():\n",
        "    logits = model(inputs)\n",
        "\n",
        "\n"
      ],
      "metadata": {
        "id": "T2P5qyjgqqgV"
      },
      "execution_count": 131,
      "outputs": []
    },
    {
      "cell_type": "code",
      "source": [
        "logits.shape"
      ],
      "metadata": {
        "colab": {
          "base_uri": "https://localhost:8080/"
        },
        "id": "iq_fiLU2sc4F",
        "outputId": "9a863486-e6e5-4a97-b78b-5f15e182b696"
      },
      "execution_count": 132,
      "outputs": [
        {
          "output_type": "execute_result",
          "data": {
            "text/plain": [
              "torch.Size([2, 3, 50257])"
            ]
          },
          "metadata": {},
          "execution_count": 132
        }
      ]
    },
    {
      "cell_type": "code",
      "source": [
        "probas = torch.softmax(logits, dim=-1)\n",
        "probas.shape\n"
      ],
      "metadata": {
        "colab": {
          "base_uri": "https://localhost:8080/"
        },
        "id": "z2ApN52Xsj8G",
        "outputId": "2da24c1d-353c-47af-8fed-9d061943a0c3"
      },
      "execution_count": 133,
      "outputs": [
        {
          "output_type": "execute_result",
          "data": {
            "text/plain": [
              "torch.Size([2, 3, 50257])"
            ]
          },
          "metadata": {},
          "execution_count": 133
        }
      ]
    },
    {
      "cell_type": "code",
      "source": [
        "token_ids = torch.argmax(probas, dim=-1, keepdim = True)\n",
        "token_ids"
      ],
      "metadata": {
        "colab": {
          "base_uri": "https://localhost:8080/"
        },
        "id": "RnNtFZq7snWk",
        "outputId": "6340448a-f4dc-4d78-dd24-9ac4b5bc0d43"
      },
      "execution_count": 134,
      "outputs": [
        {
          "output_type": "execute_result",
          "data": {
            "text/plain": [
              "tensor([[[16657],\n",
              "         [  339],\n",
              "         [42826]],\n",
              "\n",
              "        [[49906],\n",
              "         [29669],\n",
              "         [41751]]])"
            ]
          },
          "metadata": {},
          "execution_count": 134
        }
      ]
    },
    {
      "cell_type": "code",
      "source": [
        "print(f\"Targets batch 1: {token_ids_to_text(targets[0], tokenizer)}\")\n",
        "print(f\"Outputs batch 1: {token_ids_to_text(token_ids[0].flatten(), tokenizer)}\")\n"
      ],
      "metadata": {
        "colab": {
          "base_uri": "https://localhost:8080/"
        },
        "id": "_GBUDXgTtnxG",
        "outputId": "20f84297-a1ab-4b9d-d003-320a1cf54590"
      },
      "execution_count": 135,
      "outputs": [
        {
          "output_type": "stream",
          "name": "stdout",
          "text": [
            "Targets batch 1:  effort moves you\n",
            "Outputs batch 1:  Armed heNetflix\n"
          ]
        }
      ]
    },
    {
      "cell_type": "code",
      "source": [
        "text_idx = 0\n",
        "target_probas_1 = probas[text_idx, [0, 1, 2], targets[text_idx]]\n",
        "print(\"Text 1:\", target_probas_1)\n",
        "\n"
      ],
      "metadata": {
        "colab": {
          "base_uri": "https://localhost:8080/"
        },
        "id": "SjCoNmO1t1Zq",
        "outputId": "0efb7c6d-6077-4a8f-a17e-12ecedc0ef55"
      },
      "execution_count": 136,
      "outputs": [
        {
          "output_type": "stream",
          "name": "stdout",
          "text": [
            "Text 1: tensor([7.4540e-05, 3.1061e-05, 1.1563e-05])\n"
          ]
        }
      ]
    },
    {
      "cell_type": "code",
      "source": [
        "text_idx = 1\n",
        "target_probas_2 = probas[text_idx, [0, 1, 2], targets[text_idx]]\n",
        "print(\"Text 2:\", target_probas_2)\n",
        "\n"
      ],
      "metadata": {
        "colab": {
          "base_uri": "https://localhost:8080/"
        },
        "id": "NCv3b5eiutye",
        "outputId": "d402f254-dcb9-4020-dad3-5a8da226b91f"
      },
      "execution_count": 137,
      "outputs": [
        {
          "output_type": "stream",
          "name": "stdout",
          "text": [
            "Text 2: tensor([1.0337e-05, 5.6776e-05, 4.7559e-06])\n"
          ]
        }
      ]
    },
    {
      "cell_type": "code",
      "source": [
        "torch.log(torch.tensor(1))\n",
        "\n"
      ],
      "metadata": {
        "colab": {
          "base_uri": "https://localhost:8080/"
        },
        "id": "OWl5U_tUuvyl",
        "outputId": "e8443d1e-0d59-4de2-d6d0-2672100a120e"
      },
      "execution_count": 138,
      "outputs": [
        {
          "output_type": "execute_result",
          "data": {
            "text/plain": [
              "tensor(0.)"
            ]
          },
          "metadata": {},
          "execution_count": 138
        }
      ]
    },
    {
      "cell_type": "code",
      "source": [
        "# Compute logarithm of all token probabilities\n",
        "log_probas = torch.log(torch.cat((target_probas_1, target_probas_2)))\n",
        "print(log_probas)\n",
        "\n"
      ],
      "metadata": {
        "colab": {
          "base_uri": "https://localhost:8080/"
        },
        "id": "3D8jtZdlu2ra",
        "outputId": "e94adcf4-0434-41af-fa65-ad78838b43fa"
      },
      "execution_count": 139,
      "outputs": [
        {
          "output_type": "stream",
          "name": "stdout",
          "text": [
            "tensor([ -9.5042, -10.3796, -11.3677, -11.4798,  -9.7764, -12.2561])\n"
          ]
        }
      ]
    },
    {
      "cell_type": "code",
      "source": [
        "-1 * torch.mean(log_probas)"
      ],
      "metadata": {
        "colab": {
          "base_uri": "https://localhost:8080/"
        },
        "id": "QYBMmS2Ru5oi",
        "outputId": "685d1e1e-9d23-4c68-b0a5-d77508c01387"
      },
      "execution_count": 140,
      "outputs": [
        {
          "output_type": "execute_result",
          "data": {
            "text/plain": [
              "tensor(10.7940)"
            ]
          },
          "metadata": {},
          "execution_count": 140
        }
      ]
    },
    {
      "cell_type": "code",
      "source": [
        "logits_flat = logits.flatten(0,1)\n",
        "targets_flat = targets.flatten()"
      ],
      "metadata": {
        "id": "G2-ouGt3u6S8"
      },
      "execution_count": 141,
      "outputs": []
    },
    {
      "cell_type": "code",
      "source": [
        "torch.nn.functional.cross_entropy(logits_flat, targets_flat)"
      ],
      "metadata": {
        "colab": {
          "base_uri": "https://localhost:8080/"
        },
        "id": "4Bdf8P4LwCVj",
        "outputId": "c5d3c8f8-aaa5-4950-d2a2-520d415efa25"
      },
      "execution_count": 142,
      "outputs": [
        {
          "output_type": "execute_result",
          "data": {
            "text/plain": [
              "tensor(10.7940)"
            ]
          },
          "metadata": {},
          "execution_count": 142
        }
      ]
    },
    {
      "cell_type": "code",
      "source": [
        "with open (\"/content/the-verdict.txt\", \"r\", encoding=\"utf-8\") as f:\n",
        "  raw_text = f.read()"
      ],
      "metadata": {
        "id": "KXGGR9bjwJ_M"
      },
      "execution_count": 143,
      "outputs": []
    },
    {
      "cell_type": "code",
      "source": [
        "raw_text"
      ],
      "metadata": {
        "colab": {
          "base_uri": "https://localhost:8080/",
          "height": 227
        },
        "id": "FosdiK5C9n43",
        "outputId": "be835ff3-6297-4dcd-e75b-fc539f942598"
      },
      "execution_count": 144,
      "outputs": [
        {
          "output_type": "execute_result",
          "data": {
            "text/plain": [
              "'I HAD always thought Jack Gisburn rather a cheap genius--though a good fellow enough--so it was no great surprise to me to hear that, in the height of his glory, he had dropped his painting, married a rich widow, and established himself in a villa on the Riviera. (Though I rather thought it would have been Rome or Florence.)\\n\\n\"The height of his glory\"--that was what the women called it. I can hear Mrs. Gideon Thwing--his last Chicago sitter--deploring his unaccountable abdication. \"Of course it\\'s going to send the value of my picture \\'way up; but I don\\'t think of that, Mr. Rickham--the loss to Arrt is all I think of.\" The word, on Mrs. Thwing\\'s lips, multiplied its _rs_ as though they were reflected in an endless vista of mirrors. And it was not only the Mrs. Thwings who mourned. Had not the exquisite Hermia Croft, at the last Grafton Gallery show, stopped me before Gisburn\\'s \"Moon-dancers\" to say, with tears in her eyes: \"We shall not look upon its like again\"?\\n\\nWell!--even through the prism of Hermia\\'s tears I felt able to face the fact with equanimity. Poor Jack Gisburn! The women had made him--it was fitting that they should mourn him. Among his own sex fewer regrets were heard, and in his own trade hardly a murmur. Professional jealousy? Perhaps. If it were, the honour of the craft was vindicated by little Claude Nutley, who, in all good faith, brought out in the Burlington a very handsome \"obituary\" on Jack--one of those showy articles stocked with random technicalities that I have heard (I won\\'t say by whom) compared to Gisburn\\'s painting. And so--his resolve being apparently irrevocable--the discussion gradually died out, and, as Mrs. Thwing had predicted, the price of \"Gisburns\" went up.\\n\\nIt was not till three years later that, in the course of a few weeks\\' idling on the Riviera, it suddenly occurred to me to wonder why Gisburn had given up his painting. On reflection, it really was a tempting problem. To accuse his wife would have been too easy--his fair sitters had been denied the solace of saying that Mrs. Gisburn had \"dragged him down.\" For Mrs. Gisburn--as such--had not existed till nearly a year after Jack\\'s resolve had been taken. It might be that he had married her--since he liked his ease--because he didn\\'t want to go on painting; but it would have been hard to prove that he had given up his painting because he had married her.\\n\\nOf course, if she had not dragged him down, she had equally, as Miss Croft contended, failed to \"lift him up\"--she had not led him back to the easel. To put the brush into his hand again--what a vocation for a wife! But Mrs. Gisburn appeared to have disdained it--and I felt it might be interesting to find out why.\\n\\nThe desultory life of the Riviera lends itself to such purely academic speculations; and having, on my way to Monte Carlo, caught a glimpse of Jack\\'s balustraded terraces between the pines, I had myself borne thither the next day.\\n\\nI found the couple at tea beneath their palm-trees; and Mrs. Gisburn\\'s welcome was so genial that, in the ensuing weeks, I claimed it frequently. It was not that my hostess was \"interesting\": on that point I could have given Miss Croft the fullest reassurance. It was just because she was _not_ interesting--if I may be pardoned the bull--that I found her so. For Jack, all his life, had been surrounded by interesting women: they had fostered his art, it had been reared in the hot-house of their adulation. And it was therefore instructive to note what effect the \"deadening atmosphere of mediocrity\" (I quote Miss Croft) was having on him.\\n\\nI have mentioned that Mrs. Gisburn was rich; and it was immediately perceptible that her husband was extracting from this circumstance a delicate but substantial satisfaction. It is, as a rule, the people who scorn money who get most out of it; and Jack\\'s elegant disdain of his wife\\'s big balance enabled him, with an appearance of perfect good-breeding, to transmute it into objects of art and luxury. To the latter, I must add, he remained relatively indifferent; but he was buying Renaissance bronzes and eighteenth-century pictures with a discrimination that bespoke the amplest resources.\\n\\n\"Money\\'s only excuse is to put beauty into circulation,\" was one of the axioms he laid down across the Sevres and silver of an exquisitely appointed luncheon-table, when, on a later day, I had again run over from Monte Carlo; and Mrs. Gisburn, beaming on him, added for my enlightenment: \"Jack is so morbidly sensitive to every form of beauty.\"\\n\\nPoor Jack! It had always been his fate to have women say such things of him: the fact should be set down in extenuation. What struck me now was that, for the first time, he resented the tone. I had seen him, so often, basking under similar tributes--was it the conjugal note that robbed them of their savour? No--for, oddly enough, it became apparent that he was fond of Mrs. Gisburn--fond enough not to see her absurdity. It was his own absurdity he seemed to be wincing under--his own attitude as an object for garlands and incense.\\n\\n\"My dear, since I\\'ve chucked painting people don\\'t say that stuff about me--they say it about Victor Grindle,\" was his only protest, as he rose from the table and strolled out onto the sunlit terrace.\\n\\nI glanced after him, struck by his last word. Victor Grindle was, in fact, becoming the man of the moment--as Jack himself, one might put it, had been the man of the hour. The younger artist was said to have formed himself at my friend\\'s feet, and I wondered if a tinge of jealousy underlay the latter\\'s mysterious abdication. But no--for it was not till after that event that the _rose Dubarry_ drawing-rooms had begun to display their \"Grindles.\"\\n\\nI turned to Mrs. Gisburn, who had lingered to give a lump of sugar to her spaniel in the dining-room.\\n\\n\"Why _has_ he chucked painting?\" I asked abruptly.\\n\\nShe raised her eyebrows with a hint of good-humoured surprise.\\n\\n\"Oh, he doesn\\'t _have_ to now, you know; and I want him to enjoy himself,\" she said quite simply.\\n\\nI looked about the spacious white-panelled room, with its _famille-verte_ vases repeating the tones of the pale damask curtains, and its eighteenth-century pastels in delicate faded frames.\\n\\n\"Has he chucked his pictures too? I haven\\'t seen a single one in the house.\"\\n\\nA slight shade of constraint crossed Mrs. Gisburn\\'s open countenance. \"It\\'s his ridiculous modesty, you know. He says they\\'re not fit to have about; he\\'s sent them all away except one--my portrait--and that I have to keep upstairs.\"\\n\\nHis ridiculous modesty--Jack\\'s modesty about his pictures? My curiosity was growing like the bean-stalk. I said persuasively to my hostess: \"I must really see your portrait, you know.\"\\n\\nShe glanced out almost timorously at the terrace where her husband, lounging in a hooded chair, had lit a cigar and drawn the Russian deerhound\\'s head between his knees.\\n\\n\"Well, come while he\\'s not looking,\" she said, with a laugh that tried to hide her nervousness; and I followed her between the marble Emperors of the hall, and up the wide stairs with terra-cotta nymphs poised among flowers at each landing.\\n\\nIn the dimmest corner of her boudoir, amid a profusion of delicate and distinguished objects, hung one of the familiar oval canvases, in the inevitable garlanded frame. The mere outline of the frame called up all Gisburn\\'s past!\\n\\nMrs. Gisburn drew back the window-curtains, moved aside a _jardiniere_ full of pink azaleas, pushed an arm-chair away, and said: \"If you stand here you can just manage to see it. I had it over the mantel-piece, but he wouldn\\'t let it stay.\"\\n\\nYes--I could just manage to see it--the first portrait of Jack\\'s I had ever had to strain my eyes over! Usually they had the place of honour--say the central panel in a pale yellow or _rose Dubarry_ drawing-room, or a monumental easel placed so that it took the light through curtains of old Venetian point. The more modest place became the picture better; yet, as my eyes grew accustomed to the half-light, all the characteristic qualities came out--all the hesitations disguised as audacities, the tricks of prestidigitation by which, with such consummate skill, he managed to divert attention from the real business of the picture to some pretty irrelevance of detail. Mrs. Gisburn, presenting a neutral surface to work on--forming, as it were, so inevitably the background of her own picture--had lent herself in an unusual degree to the display of this false virtuosity. The picture was one of Jack\\'s \"strongest,\" as his admirers would have put it--it represented, on his part, a swelling of muscles, a congesting of veins, a balancing, straddling and straining, that reminded one of the circus-clown\\'s ironic efforts to lift a feather. It met, in short, at every point the demand of lovely woman to be painted \"strongly\" because she was tired of being painted \"sweetly\"--and yet not to lose an atom of the sweetness.\\n\\n\"It\\'s the last he painted, you know,\" Mrs. Gisburn said with pardonable pride. \"The last but one,\" she corrected herself--\"but the other doesn\\'t count, because he destroyed it.\"\\n\\n\"Destroyed it?\" I was about to follow up this clue when I heard a footstep and saw Jack himself on the threshold.\\n\\nAs he stood there, his hands in the pockets of his velveteen coat, the thin brown waves of hair pushed back from his white forehead, his lean sunburnt cheeks furrowed by a smile that lifted the tips of a self-confident moustache, I felt to what a degree he had the same quality as his pictures--the quality of looking cleverer than he was.\\n\\nHis wife glanced at him deprecatingly, but his eyes travelled past her to the portrait.\\n\\n\"Mr. Rickham wanted to see it,\" she began, as if excusing herself. He shrugged his shoulders, still smiling.\\n\\n\"Oh, Rickham found me out long ago,\" he said lightly; then, passing his arm through mine: \"Come and see the rest of the house.\"\\n\\nHe showed it to me with a kind of naive suburban pride: the bath-rooms, the speaking-tubes, the dress-closets, the trouser-presses--all the complex simplifications of the millionaire\\'s domestic economy. And whenever my wonder paid the expected tribute he said, throwing out his chest a little: \"Yes, I really don\\'t see how people manage to live without that.\"\\n\\nWell--it was just the end one might have foreseen for him. Only he was, through it all and in spite of it all--as he had been through, and in spite of, his pictures--so handsome, so charming, so disarming, that one longed to cry out: \"Be dissatisfied with your leisure!\" as once one had longed to say: \"Be dissatisfied with your work!\"\\n\\nBut, with the cry on my lips, my diagnosis suffered an unexpected check.\\n\\n\"This is my own lair,\" he said, leading me into a dark plain room at the end of the florid vista. It was square and brown and leathery: no \"effects\"; no bric-a-brac, none of the air of posing for reproduction in a picture weekly--above all, no least sign of ever having been used as a studio.\\n\\nThe fact brought home to me the absolute finality of Jack\\'s break with his old life.\\n\\n\"Don\\'t you ever dabble with paint any more?\" I asked, still looking about for a trace of such activity.\\n\\n\"Never,\" he said briefly.\\n\\n\"Or water-colour--or etching?\"\\n\\nHis confident eyes grew dim, and his cheeks paled a little under their handsome sunburn.\\n\\n\"Never think of it, my dear fellow--any more than if I\\'d never touched a brush.\"\\n\\nAnd his tone told me in a flash that he never thought of anything else.\\n\\nI moved away, instinctively embarrassed by my unexpected discovery; and as I turned, my eye fell on a small picture above the mantel-piece--the only object breaking the plain oak panelling of the room.\\n\\n\"Oh, by Jove!\" I said.\\n\\nIt was a sketch of a donkey--an old tired donkey, standing in the rain under a wall.\\n\\n\"By Jove--a Stroud!\" I cried.\\n\\nHe was silent; but I felt him close behind me, breathing a little quickly.\\n\\n\"What a wonder! Made with a dozen lines--but on everlasting foundations. You lucky chap, where did you get it?\"\\n\\nHe answered slowly: \"Mrs. Stroud gave it to me.\"\\n\\n\"Ah--I didn\\'t know you even knew the Strouds. He was such an inflexible hermit.\"\\n\\n\"I didn\\'t--till after. . . . She sent for me to paint him when he was dead.\"\\n\\n\"When he was dead? You?\"\\n\\nI must have let a little too much amazement escape through my surprise, for he answered with a deprecating laugh: \"Yes--she\\'s an awful simpleton, you know, Mrs. Stroud. Her only idea was to have him done by a fashionable painter--ah, poor Stroud! She thought it the surest way of proclaiming his greatness--of forcing it on a purblind public. And at the moment I was _the_ fashionable painter.\"\\n\\n\"Ah, poor Stroud--as you say. Was _that_ his history?\"\\n\\n\"That was his history. She believed in him, gloried in him--or thought she did. But she couldn\\'t bear not to have all the drawing-rooms with her. She couldn\\'t bear the fact that, on varnishing days, one could always get near enough to see his pictures. Poor woman! She\\'s just a fragment groping for other fragments. Stroud is the only whole I ever knew.\"\\n\\n\"You ever knew? But you just said--\"\\n\\nGisburn had a curious smile in his eyes.\\n\\n\"Oh, I knew him, and he knew me--only it happened after he was dead.\"\\n\\nI dropped my voice instinctively. \"When she sent for you?\"\\n\\n\"Yes--quite insensible to the irony. She wanted him vindicated--and by me!\"\\n\\nHe laughed again, and threw back his head to look up at the sketch of the donkey. \"There were days when I couldn\\'t look at that thing--couldn\\'t face it. But I forced myself to put it here; and now it\\'s cured me--cured me. That\\'s the reason why I don\\'t dabble any more, my dear Rickham; or rather Stroud himself is the reason.\"\\n\\nFor the first time my idle curiosity about my companion turned into a serious desire to understand him better.\\n\\n\"I wish you\\'d tell me how it happened,\" I said.\\n\\nHe stood looking up at the sketch, and twirling between his fingers a cigarette he had forgotten to light. Suddenly he turned toward me.\\n\\n\"I\\'d rather like to tell you--because I\\'ve always suspected you of loathing my work.\"\\n\\nI made a deprecating gesture, which he negatived with a good-humoured shrug.\\n\\n\"Oh, I didn\\'t care a straw when I believed in myself--and now it\\'s an added tie between us!\"\\n\\nHe laughed slightly, without bitterness, and pushed one of the deep arm-chairs forward. \"There: make yourself comfortable--and here are the cigars you like.\"\\n\\nHe placed them at my elbow and continued to wander up and down the room, stopping now and then beneath the picture.\\n\\n\"How it happened? I can tell you in five minutes--and it didn\\'t take much longer to happen. . . . I can remember now how surprised and pleased I was when I got Mrs. Stroud\\'s note. Of course, deep down, I had always _felt_ there was no one like him--only I had gone with the stream, echoed the usual platitudes about him, till I half got to think he was a failure, one of the kind that are left behind. By Jove, and he _was_ left behind--because he had come to stay! The rest of us had to let ourselves be swept along or go under, but he was high above the current--on everlasting foundations, as you say.\\n\\n\"Well, I went off to the house in my most egregious mood--rather moved, Lord forgive me, at the pathos of poor Stroud\\'s career of failure being crowned by the glory of my painting him! Of course I meant to do the picture for nothing--I told Mrs. Stroud so when she began to stammer something about her poverty. I remember getting off a prodigious phrase about the honour being _mine_--oh, I was princely, my dear Rickham! I was posing to myself like one of my own sitters.\\n\\n\"Then I was taken up and left alone with him. I had sent all my traps in advance, and I had only to set up the easel and get to work. He had been dead only twenty-four hours, and he died suddenly, of heart disease, so that there had been no preliminary work of destruction--his face was clear and untouched. I had met him once or twice, years before, and thought him insignificant and dingy. Now I saw that he was superb.\\n\\n\"I was glad at first, with a merely aesthetic satisfaction: glad to have my hand on such a \\'subject.\\' Then his strange life-likeness began to affect me queerly--as I blocked the head in I felt as if he were watching me do it. The sensation was followed by the thought: if he _were_ watching me, what would he say to my way of working? My strokes began to go a little wild--I felt nervous and uncertain.\\n\\n\"Once, when I looked up, I seemed to see a smile behind his close grayish beard--as if he had the secret, and were amusing himself by holding it back from me. That exasperated me still more. The secret? Why, I had a secret worth twenty of his! I dashed at the canvas furiously, and tried some of my bravura tricks. But they failed me, they crumbled. I saw that he wasn\\'t watching the showy bits--I couldn\\'t distract his attention; he just kept his eyes on the hard passages between. Those were the ones I had always shirked, or covered up with some lying paint. And how he saw through my lies!\\n\\n\"I looked up again, and caught sight of that sketch of the donkey hanging on the wall near his bed. His wife told me afterward it was the last thing he had done--just a note taken with a shaking hand, when he was down in Devonshire recovering from a previous heart attack. Just a note! But it tells his whole history. There are years of patient scornful persistence in every line. A man who had swum with the current could never have learned that mighty up-stream stroke. . . .\\n\\n\"I turned back to my work, and went on groping and muddling; then I looked at the donkey again. I saw that, when Stroud laid in the first stroke, he knew just what the end would be. He had possessed his subject, absorbed it, recreated it. When had I done that with any of my things? They hadn\\'t been born of me--I had just adopted them. . . .\\n\\n\"Hang it, Rickham, with that face watching me I couldn\\'t do another stroke. The plain truth was, I didn\\'t know where to put it--_I had never known_. Only, with my sitters and my public, a showy splash of colour covered up the fact--I just threw paint into their faces. . . . Well, paint was the one medium those dead eyes could see through--see straight to the tottering foundations underneath. Don\\'t you know how, in talking a foreign language, even fluently, one says half the time not what one wants to but what one can? Well--that was the way I painted; and as he lay there and watched me, the thing they called my \\'technique\\' collapsed like a house of cards. He didn\\'t sneer, you understand, poor Stroud--he just lay there quietly watching, and on his lips, through the gray beard, I seemed to hear the question: \\'Are you sure you know where you\\'re coming out?\\'\\n\\n\"If I could have painted that face, with that question on it, I should have done a great thing. The next greatest thing was to see that I couldn\\'t--and that grace was given me. But, oh, at that minute, Rickham, was there anything on earth I wouldn\\'t have given to have Stroud alive before me, and to hear him say: \\'It\\'s not too late--I\\'ll show you how\\'?\\n\\n\"It _was_ too late--it would have been, even if he\\'d been alive. I packed up my traps, and went down and told Mrs. Stroud. Of course I didn\\'t tell her _that_--it would have been Greek to her. I simply said I couldn\\'t paint him, that I was too moved. She rather liked the idea--she\\'s so romantic! It was that that made her give me the donkey. But she was terribly upset at not getting the portrait--she did so want him \\'done\\' by some one showy! At first I was afraid she wouldn\\'t let me off--and at my wits\\' end I suggested Grindle. Yes, it was I who started Grindle: I told Mrs. Stroud he was the \\'coming\\' man, and she told somebody else, and so it got to be true. . . . And he painted Stroud without wincing; and she hung the picture among her husband\\'s things. . . .\"\\n\\nHe flung himself down in the arm-chair near mine, laid back his head, and clasping his arms beneath it, looked up at the picture above the chimney-piece.\\n\\n\"I like to fancy that Stroud himself would have given it to me, if he\\'d been able to say what he thought that day.\"\\n\\nAnd, in answer to a question I put half-mechanically--\"Begin again?\" he flashed out. \"When the one thing that brings me anywhere near him is that I knew enough to leave off?\"\\n\\nHe stood up and laid his hand on my shoulder with a laugh. \"Only the irony of it is that I _am_ still painting--since Grindle\\'s doing it for me! The Strouds stand alone, and happen once--but there\\'s no exterminating our kind of art.\"'"
            ],
            "application/vnd.google.colaboratory.intrinsic+json": {
              "type": "string"
            }
          },
          "metadata": {},
          "execution_count": 144
        }
      ]
    },
    {
      "cell_type": "code",
      "source": [
        "total_characters = len(raw_text)\n",
        "total_tokens  = len(tokenizer.encode(raw_text))\n",
        "\n",
        "print(total_characters)\n",
        "print(total_tokens)"
      ],
      "metadata": {
        "colab": {
          "base_uri": "https://localhost:8080/"
        },
        "id": "ERF3OhpO9pUZ",
        "outputId": "6f6350e4-6735-4f48-ec5e-259e41c9b76c"
      },
      "execution_count": 145,
      "outputs": [
        {
          "output_type": "stream",
          "name": "stdout",
          "text": [
            "20479\n",
            "5145\n"
          ]
        }
      ]
    },
    {
      "cell_type": "code",
      "source": [
        "0.9*len(raw_text)"
      ],
      "metadata": {
        "colab": {
          "base_uri": "https://localhost:8080/"
        },
        "id": "7jHFEQAiCcgX",
        "outputId": "1af80f42-0155-44c0-ed31-77d869e0e5a7"
      },
      "execution_count": 146,
      "outputs": [
        {
          "output_type": "execute_result",
          "data": {
            "text/plain": [
              "18431.100000000002"
            ]
          },
          "metadata": {},
          "execution_count": 146
        }
      ]
    },
    {
      "cell_type": "code",
      "source": [
        "train_ratio = 0.90\n",
        "split_idx = int(train_ratio * len(raw_text))\n",
        "\n",
        "train_data = raw_text[:split_idx]\n",
        "val_data = raw_text[split_idx:]"
      ],
      "metadata": {
        "id": "d5b7oZwx-ELh"
      },
      "execution_count": 147,
      "outputs": []
    },
    {
      "cell_type": "code",
      "source": [
        "torch.manual_seed(123)\n",
        "\n",
        "train_loader = create_dataloader_v1(\n",
        "    train_data,\n",
        "    batch_size=2,\n",
        "    max_length=GPT_CONFIG_124M[\"context_length\"],\n",
        "    stride=GPT_CONFIG_124M[\"context_length\"],\n",
        "    drop_last=True,\n",
        "    shuffle=True,\n",
        "    num_workers=0\n",
        ")\n",
        "\n",
        "val_loader = create_dataloader_v1(\n",
        "    val_data,\n",
        "    batch_size=2,\n",
        "    max_length=GPT_CONFIG_124M[\"context_length\"],\n",
        "    stride=GPT_CONFIG_124M[\"context_length\"],\n",
        "    drop_last=False,\n",
        "    shuffle=False,\n",
        "    num_workers=0\n",
        ")\n"
      ],
      "metadata": {
        "id": "vnsEziusAdp-"
      },
      "execution_count": 148,
      "outputs": []
    },
    {
      "cell_type": "code",
      "source": [
        "for x, y in train_loader:\n",
        "  print(x.shape, y.shape)\n"
      ],
      "metadata": {
        "colab": {
          "base_uri": "https://localhost:8080/"
        },
        "id": "uLUMSeXYAvdd",
        "outputId": "014a2d54-d4af-43b4-87d0-bf9f9bfcd84a"
      },
      "execution_count": 149,
      "outputs": [
        {
          "output_type": "stream",
          "name": "stdout",
          "text": [
            "torch.Size([2, 256]) torch.Size([2, 256])\n",
            "torch.Size([2, 256]) torch.Size([2, 256])\n",
            "torch.Size([2, 256]) torch.Size([2, 256])\n",
            "torch.Size([2, 256]) torch.Size([2, 256])\n",
            "torch.Size([2, 256]) torch.Size([2, 256])\n",
            "torch.Size([2, 256]) torch.Size([2, 256])\n",
            "torch.Size([2, 256]) torch.Size([2, 256])\n",
            "torch.Size([2, 256]) torch.Size([2, 256])\n",
            "torch.Size([2, 256]) torch.Size([2, 256])\n"
          ]
        }
      ]
    },
    {
      "cell_type": "code",
      "source": [
        "for x, y in val_loader:\n",
        "  print(x.shape, y.shape)\n"
      ],
      "metadata": {
        "colab": {
          "base_uri": "https://localhost:8080/"
        },
        "id": "_qPeZKT0A6R8",
        "outputId": "abae170d-72f6-4f17-e31e-da21ae3d360b"
      },
      "execution_count": 150,
      "outputs": [
        {
          "output_type": "stream",
          "name": "stdout",
          "text": [
            "torch.Size([2, 256]) torch.Size([2, 256])\n"
          ]
        }
      ]
    },
    {
      "cell_type": "code",
      "source": [
        "train_tokens = 0\n",
        "for input_batch, target_batch in train_loader:\n",
        "    train_tokens += input_batch.numel()\n",
        "\n",
        "val_tokens = 0\n",
        "for input_batch, target_batch in val_loader:\n",
        "    val_tokens += input_batch.numel()\n",
        "\n",
        "print(\"Training tokens:\", train_tokens)\n",
        "print(\"Validation tokens:\", val_tokens)\n",
        "print(\"All tokens:\", train_tokens + val_tokens)\n"
      ],
      "metadata": {
        "colab": {
          "base_uri": "https://localhost:8080/"
        },
        "id": "DFdZglGwBqhT",
        "outputId": "9c46d9c5-b508-4997-ee56-7028b9dc2b34"
      },
      "execution_count": 151,
      "outputs": [
        {
          "output_type": "stream",
          "name": "stdout",
          "text": [
            "Training tokens: 4608\n",
            "Validation tokens: 512\n",
            "All tokens: 5120\n"
          ]
        }
      ]
    },
    {
      "cell_type": "code",
      "source": [
        "device = torch.device(\"cuda\" if torch.cuda.is_available() else \"cpu\")\n"
      ],
      "metadata": {
        "id": "9adBoOrxEjD5"
      },
      "execution_count": 152,
      "outputs": []
    },
    {
      "cell_type": "code",
      "source": [
        "torch.cuda.is_available()"
      ],
      "metadata": {
        "colab": {
          "base_uri": "https://localhost:8080/"
        },
        "id": "mmHyZIsWEtGd",
        "outputId": "0f9aa9d8-738c-4850-dce4-59b832862586"
      },
      "execution_count": 153,
      "outputs": [
        {
          "output_type": "execute_result",
          "data": {
            "text/plain": [
              "True"
            ]
          },
          "metadata": {},
          "execution_count": 153
        }
      ]
    },
    {
      "cell_type": "code",
      "source": [
        "model.to(device)"
      ],
      "metadata": {
        "colab": {
          "base_uri": "https://localhost:8080/"
        },
        "id": "sXvrhjvsFRpD",
        "outputId": "b74152f7-1b2a-421f-f00f-ba3959bf6a28"
      },
      "execution_count": 154,
      "outputs": [
        {
          "output_type": "execute_result",
          "data": {
            "text/plain": [
              "GPTModel(\n",
              "  (tok_emb): Embedding(50257, 768)\n",
              "  (pos_emb): Embedding(256, 768)\n",
              "  (drop_emb): Dropout(p=0.1, inplace=False)\n",
              "  (trf_blocks): Sequential(\n",
              "    (0): TransformerBlock(\n",
              "      (att): MultiHeadAttention2(\n",
              "        (W_query): Linear(in_features=768, out_features=768, bias=False)\n",
              "        (W_key): Linear(in_features=768, out_features=768, bias=False)\n",
              "        (W_value): Linear(in_features=768, out_features=768, bias=False)\n",
              "        (out_proj): Linear(in_features=768, out_features=768, bias=True)\n",
              "        (dropout): Dropout(p=0.1, inplace=False)\n",
              "      )\n",
              "      (ff): FeedForward(\n",
              "        (layers): Sequential(\n",
              "          (0): Linear(in_features=768, out_features=3072, bias=True)\n",
              "          (1): GELU()\n",
              "          (2): Linear(in_features=3072, out_features=768, bias=True)\n",
              "        )\n",
              "      )\n",
              "      (norm1): LayerNorm()\n",
              "      (norm2): LayerNorm()\n",
              "      (drop_shortcut): Dropout(p=0.1, inplace=False)\n",
              "    )\n",
              "    (1): TransformerBlock(\n",
              "      (att): MultiHeadAttention2(\n",
              "        (W_query): Linear(in_features=768, out_features=768, bias=False)\n",
              "        (W_key): Linear(in_features=768, out_features=768, bias=False)\n",
              "        (W_value): Linear(in_features=768, out_features=768, bias=False)\n",
              "        (out_proj): Linear(in_features=768, out_features=768, bias=True)\n",
              "        (dropout): Dropout(p=0.1, inplace=False)\n",
              "      )\n",
              "      (ff): FeedForward(\n",
              "        (layers): Sequential(\n",
              "          (0): Linear(in_features=768, out_features=3072, bias=True)\n",
              "          (1): GELU()\n",
              "          (2): Linear(in_features=3072, out_features=768, bias=True)\n",
              "        )\n",
              "      )\n",
              "      (norm1): LayerNorm()\n",
              "      (norm2): LayerNorm()\n",
              "      (drop_shortcut): Dropout(p=0.1, inplace=False)\n",
              "    )\n",
              "    (2): TransformerBlock(\n",
              "      (att): MultiHeadAttention2(\n",
              "        (W_query): Linear(in_features=768, out_features=768, bias=False)\n",
              "        (W_key): Linear(in_features=768, out_features=768, bias=False)\n",
              "        (W_value): Linear(in_features=768, out_features=768, bias=False)\n",
              "        (out_proj): Linear(in_features=768, out_features=768, bias=True)\n",
              "        (dropout): Dropout(p=0.1, inplace=False)\n",
              "      )\n",
              "      (ff): FeedForward(\n",
              "        (layers): Sequential(\n",
              "          (0): Linear(in_features=768, out_features=3072, bias=True)\n",
              "          (1): GELU()\n",
              "          (2): Linear(in_features=3072, out_features=768, bias=True)\n",
              "        )\n",
              "      )\n",
              "      (norm1): LayerNorm()\n",
              "      (norm2): LayerNorm()\n",
              "      (drop_shortcut): Dropout(p=0.1, inplace=False)\n",
              "    )\n",
              "    (3): TransformerBlock(\n",
              "      (att): MultiHeadAttention2(\n",
              "        (W_query): Linear(in_features=768, out_features=768, bias=False)\n",
              "        (W_key): Linear(in_features=768, out_features=768, bias=False)\n",
              "        (W_value): Linear(in_features=768, out_features=768, bias=False)\n",
              "        (out_proj): Linear(in_features=768, out_features=768, bias=True)\n",
              "        (dropout): Dropout(p=0.1, inplace=False)\n",
              "      )\n",
              "      (ff): FeedForward(\n",
              "        (layers): Sequential(\n",
              "          (0): Linear(in_features=768, out_features=3072, bias=True)\n",
              "          (1): GELU()\n",
              "          (2): Linear(in_features=3072, out_features=768, bias=True)\n",
              "        )\n",
              "      )\n",
              "      (norm1): LayerNorm()\n",
              "      (norm2): LayerNorm()\n",
              "      (drop_shortcut): Dropout(p=0.1, inplace=False)\n",
              "    )\n",
              "    (4): TransformerBlock(\n",
              "      (att): MultiHeadAttention2(\n",
              "        (W_query): Linear(in_features=768, out_features=768, bias=False)\n",
              "        (W_key): Linear(in_features=768, out_features=768, bias=False)\n",
              "        (W_value): Linear(in_features=768, out_features=768, bias=False)\n",
              "        (out_proj): Linear(in_features=768, out_features=768, bias=True)\n",
              "        (dropout): Dropout(p=0.1, inplace=False)\n",
              "      )\n",
              "      (ff): FeedForward(\n",
              "        (layers): Sequential(\n",
              "          (0): Linear(in_features=768, out_features=3072, bias=True)\n",
              "          (1): GELU()\n",
              "          (2): Linear(in_features=3072, out_features=768, bias=True)\n",
              "        )\n",
              "      )\n",
              "      (norm1): LayerNorm()\n",
              "      (norm2): LayerNorm()\n",
              "      (drop_shortcut): Dropout(p=0.1, inplace=False)\n",
              "    )\n",
              "    (5): TransformerBlock(\n",
              "      (att): MultiHeadAttention2(\n",
              "        (W_query): Linear(in_features=768, out_features=768, bias=False)\n",
              "        (W_key): Linear(in_features=768, out_features=768, bias=False)\n",
              "        (W_value): Linear(in_features=768, out_features=768, bias=False)\n",
              "        (out_proj): Linear(in_features=768, out_features=768, bias=True)\n",
              "        (dropout): Dropout(p=0.1, inplace=False)\n",
              "      )\n",
              "      (ff): FeedForward(\n",
              "        (layers): Sequential(\n",
              "          (0): Linear(in_features=768, out_features=3072, bias=True)\n",
              "          (1): GELU()\n",
              "          (2): Linear(in_features=3072, out_features=768, bias=True)\n",
              "        )\n",
              "      )\n",
              "      (norm1): LayerNorm()\n",
              "      (norm2): LayerNorm()\n",
              "      (drop_shortcut): Dropout(p=0.1, inplace=False)\n",
              "    )\n",
              "    (6): TransformerBlock(\n",
              "      (att): MultiHeadAttention2(\n",
              "        (W_query): Linear(in_features=768, out_features=768, bias=False)\n",
              "        (W_key): Linear(in_features=768, out_features=768, bias=False)\n",
              "        (W_value): Linear(in_features=768, out_features=768, bias=False)\n",
              "        (out_proj): Linear(in_features=768, out_features=768, bias=True)\n",
              "        (dropout): Dropout(p=0.1, inplace=False)\n",
              "      )\n",
              "      (ff): FeedForward(\n",
              "        (layers): Sequential(\n",
              "          (0): Linear(in_features=768, out_features=3072, bias=True)\n",
              "          (1): GELU()\n",
              "          (2): Linear(in_features=3072, out_features=768, bias=True)\n",
              "        )\n",
              "      )\n",
              "      (norm1): LayerNorm()\n",
              "      (norm2): LayerNorm()\n",
              "      (drop_shortcut): Dropout(p=0.1, inplace=False)\n",
              "    )\n",
              "    (7): TransformerBlock(\n",
              "      (att): MultiHeadAttention2(\n",
              "        (W_query): Linear(in_features=768, out_features=768, bias=False)\n",
              "        (W_key): Linear(in_features=768, out_features=768, bias=False)\n",
              "        (W_value): Linear(in_features=768, out_features=768, bias=False)\n",
              "        (out_proj): Linear(in_features=768, out_features=768, bias=True)\n",
              "        (dropout): Dropout(p=0.1, inplace=False)\n",
              "      )\n",
              "      (ff): FeedForward(\n",
              "        (layers): Sequential(\n",
              "          (0): Linear(in_features=768, out_features=3072, bias=True)\n",
              "          (1): GELU()\n",
              "          (2): Linear(in_features=3072, out_features=768, bias=True)\n",
              "        )\n",
              "      )\n",
              "      (norm1): LayerNorm()\n",
              "      (norm2): LayerNorm()\n",
              "      (drop_shortcut): Dropout(p=0.1, inplace=False)\n",
              "    )\n",
              "    (8): TransformerBlock(\n",
              "      (att): MultiHeadAttention2(\n",
              "        (W_query): Linear(in_features=768, out_features=768, bias=False)\n",
              "        (W_key): Linear(in_features=768, out_features=768, bias=False)\n",
              "        (W_value): Linear(in_features=768, out_features=768, bias=False)\n",
              "        (out_proj): Linear(in_features=768, out_features=768, bias=True)\n",
              "        (dropout): Dropout(p=0.1, inplace=False)\n",
              "      )\n",
              "      (ff): FeedForward(\n",
              "        (layers): Sequential(\n",
              "          (0): Linear(in_features=768, out_features=3072, bias=True)\n",
              "          (1): GELU()\n",
              "          (2): Linear(in_features=3072, out_features=768, bias=True)\n",
              "        )\n",
              "      )\n",
              "      (norm1): LayerNorm()\n",
              "      (norm2): LayerNorm()\n",
              "      (drop_shortcut): Dropout(p=0.1, inplace=False)\n",
              "    )\n",
              "    (9): TransformerBlock(\n",
              "      (att): MultiHeadAttention2(\n",
              "        (W_query): Linear(in_features=768, out_features=768, bias=False)\n",
              "        (W_key): Linear(in_features=768, out_features=768, bias=False)\n",
              "        (W_value): Linear(in_features=768, out_features=768, bias=False)\n",
              "        (out_proj): Linear(in_features=768, out_features=768, bias=True)\n",
              "        (dropout): Dropout(p=0.1, inplace=False)\n",
              "      )\n",
              "      (ff): FeedForward(\n",
              "        (layers): Sequential(\n",
              "          (0): Linear(in_features=768, out_features=3072, bias=True)\n",
              "          (1): GELU()\n",
              "          (2): Linear(in_features=3072, out_features=768, bias=True)\n",
              "        )\n",
              "      )\n",
              "      (norm1): LayerNorm()\n",
              "      (norm2): LayerNorm()\n",
              "      (drop_shortcut): Dropout(p=0.1, inplace=False)\n",
              "    )\n",
              "    (10): TransformerBlock(\n",
              "      (att): MultiHeadAttention2(\n",
              "        (W_query): Linear(in_features=768, out_features=768, bias=False)\n",
              "        (W_key): Linear(in_features=768, out_features=768, bias=False)\n",
              "        (W_value): Linear(in_features=768, out_features=768, bias=False)\n",
              "        (out_proj): Linear(in_features=768, out_features=768, bias=True)\n",
              "        (dropout): Dropout(p=0.1, inplace=False)\n",
              "      )\n",
              "      (ff): FeedForward(\n",
              "        (layers): Sequential(\n",
              "          (0): Linear(in_features=768, out_features=3072, bias=True)\n",
              "          (1): GELU()\n",
              "          (2): Linear(in_features=3072, out_features=768, bias=True)\n",
              "        )\n",
              "      )\n",
              "      (norm1): LayerNorm()\n",
              "      (norm2): LayerNorm()\n",
              "      (drop_shortcut): Dropout(p=0.1, inplace=False)\n",
              "    )\n",
              "    (11): TransformerBlock(\n",
              "      (att): MultiHeadAttention2(\n",
              "        (W_query): Linear(in_features=768, out_features=768, bias=False)\n",
              "        (W_key): Linear(in_features=768, out_features=768, bias=False)\n",
              "        (W_value): Linear(in_features=768, out_features=768, bias=False)\n",
              "        (out_proj): Linear(in_features=768, out_features=768, bias=True)\n",
              "        (dropout): Dropout(p=0.1, inplace=False)\n",
              "      )\n",
              "      (ff): FeedForward(\n",
              "        (layers): Sequential(\n",
              "          (0): Linear(in_features=768, out_features=3072, bias=True)\n",
              "          (1): GELU()\n",
              "          (2): Linear(in_features=3072, out_features=768, bias=True)\n",
              "        )\n",
              "      )\n",
              "      (norm1): LayerNorm()\n",
              "      (norm2): LayerNorm()\n",
              "      (drop_shortcut): Dropout(p=0.1, inplace=False)\n",
              "    )\n",
              "  )\n",
              "  (final_norm): LayerNorm()\n",
              "  (out_head): Linear(in_features=768, out_features=50257, bias=False)\n",
              ")"
            ]
          },
          "metadata": {},
          "execution_count": 154
        }
      ]
    },
    {
      "cell_type": "code",
      "source": [
        "def calc_loss_batch(input_batch, target_batch, model, device):\n",
        "    input_batch, target_batch = input_batch.to(device), target_batch.to(device)\n",
        "    logits = model(input_batch)\n",
        "    loss = torch.nn.functional.cross_entropy(logits.flatten(0, 1), target_batch.flatten())\n",
        "    return loss\n",
        "\n",
        "def calc_loss_loader(data_loader, model, device, num_batches=None):\n",
        "    total_loss = 0.\n",
        "    if len(data_loader) == 0:\n",
        "        return float(\"nan\")\n",
        "    elif num_batches is None:\n",
        "        num_batches = len(data_loader)\n",
        "    else:\n",
        "        # Reduce the number of batches to match the total number of batches in the data loader\n",
        "        # if num_batches exceeds the number of batches in the data loader\n",
        "        num_batches = min(num_batches, len(data_loader))\n",
        "\n",
        "    for i, (input_batch, target_batch) in enumerate(data_loader):\n",
        "        if i < num_batches:\n",
        "            loss = calc_loss_batch(input_batch, target_batch, model, device)\n",
        "            total_loss += loss.item()\n",
        "        else:\n",
        "            break\n",
        "    return total_loss / num_batches\n"
      ],
      "metadata": {
        "id": "VOqL2s5kDS3c"
      },
      "execution_count": 155,
      "outputs": []
    },
    {
      "cell_type": "code",
      "source": [
        "torch.manual_seed(123)  # For reproducibility due to the shuffling in the data loader\n",
        "\n",
        "with torch.no_grad():  # Disable gradient tracking for efficiency because we are not training, yet\n",
        "    train_loss = calc_loss_loader(train_loader, model, device)\n",
        "    val_loss = calc_loss_loader(val_loader, model, device)\n",
        "\n",
        "print(\"Training loss:\", train_loss)\n",
        "print(\"Validation loss:\", val_loss)\n"
      ],
      "metadata": {
        "colab": {
          "base_uri": "https://localhost:8080/"
        },
        "id": "UBGLa17eEiFf",
        "outputId": "864cf64d-10d9-4955-b4bb-49b480ce7daa"
      },
      "execution_count": 156,
      "outputs": [
        {
          "output_type": "stream",
          "name": "stdout",
          "text": [
            "Training loss: 10.987583266364204\n",
            "Validation loss: 10.981104850769043\n"
          ]
        }
      ]
    },
    {
      "cell_type": "code",
      "source": [
        "def train_model_simple(model, train_loader, val_loader, optimizer, device, num_epochs,\n",
        "                       eval_freq, eval_iter, start_context, tokenizer):\n",
        "\n",
        "    # Initialize lists to track losses and tokens seen\n",
        "    train_losses, val_losses, track_tokens_seen = [], [], []\n",
        "    tokens_seen, global_step = 0, -1\n",
        "\n",
        "    # Main training loop\n",
        "    for epoch in range(num_epochs):\n",
        "        model.train()  # Set model to training mode\n",
        "\n",
        "        for input_batch, target_batch in train_loader:\n",
        "            optimizer.zero_grad()  # Reset loss gradients from previous batch iteration\n",
        "            loss = calc_loss_batch(input_batch, target_batch, model, device)\n",
        "            loss.backward()  # Calculate loss gradients\n",
        "            optimizer.step()  # Update model weights using loss gradients\n",
        "            tokens_seen += input_batch.numel()\n",
        "            global_step += 1\n",
        "\n",
        "            # Optional evaluation step\n",
        "            if global_step % eval_freq == 0:\n",
        "                train_loss, val_loss = evaluate_model(\n",
        "                    model, train_loader, val_loader, device, eval_iter)\n",
        "                train_losses.append(train_loss)\n",
        "                val_losses.append(val_loss)\n",
        "                track_tokens_seen.append(tokens_seen)\n",
        "                print(f\"Epoch {epoch+1} (Step {global_step:06d}): \"\n",
        "                      f\"Train loss {train_loss:.3f}, Val loss {val_loss:.3f}\")\n",
        "\n",
        "        # Print a sample text after each epoch\n",
        "        generate_and_print_sample(\n",
        "            model, tokenizer, device, start_context\n",
        "        )\n",
        "\n",
        "    return train_losses, val_losses, track_tokens_seen\n",
        "\n",
        "\n",
        "\n",
        "def evaluate_model(model, train_loader, val_loader, device, eval_iter):\n",
        "    model.eval()\n",
        "    with torch.no_grad():\n",
        "        train_loss = calc_loss_loader(train_loader, model, device, num_batches=eval_iter)\n",
        "        val_loss = calc_loss_loader(val_loader, model, device, num_batches=eval_iter)\n",
        "    model.train()\n",
        "    return train_loss, val_loss\n",
        "\n",
        "def generate_and_print_sample(model, tokenizer, device, start_context):\n",
        "    model.eval()\n",
        "    context_size = model.pos_emb.weight.shape[0]\n",
        "    encoded = text_to_token_ids(start_context, tokenizer).to(device)\n",
        "    with torch.no_grad():\n",
        "        token_ids = generate_text_simple(\n",
        "            model=model, idx=encoded,\n",
        "            max_new_tokens=50, context_size=context_size\n",
        "        )\n",
        "    decoded_text = token_ids_to_text(token_ids, tokenizer)\n",
        "    print(decoded_text.replace(\"\\n\" , \" \"))\n",
        "    model.train()\n"
      ],
      "metadata": {
        "id": "SykUnDjWFfm-"
      },
      "execution_count": 157,
      "outputs": []
    },
    {
      "cell_type": "code",
      "source": [
        "device"
      ],
      "metadata": {
        "colab": {
          "base_uri": "https://localhost:8080/"
        },
        "id": "mNesOZzJ1FRU",
        "outputId": "28e9ccb4-7dc1-4ae5-bdd0-5bef682d2168"
      },
      "execution_count": 158,
      "outputs": [
        {
          "output_type": "execute_result",
          "data": {
            "text/plain": [
              "device(type='cuda')"
            ]
          },
          "metadata": {},
          "execution_count": 158
        }
      ]
    },
    {
      "cell_type": "code",
      "source": [
        "torch.manual_seed(123)\n",
        "\n",
        "model=GPTModel(GPT_CONFIG_124M)\n",
        "model.to(device)\n",
        "optimizer = torch.optim.AdamW(model.parameters(), lr=0.0004, weight_decay=0.1)"
      ],
      "metadata": {
        "id": "OdGVKVLt1GdA"
      },
      "execution_count": 159,
      "outputs": []
    },
    {
      "cell_type": "code",
      "source": [
        "num_epochs=10\n",
        "train_losses, val_losses, tokens_seen = train_model_simple(\n",
        "    model,\n",
        "    train_loader,\n",
        "    val_loader,\n",
        "    optimizer,\n",
        "    device,\n",
        "    num_epochs=num_epochs,\n",
        "    eval_freq=5,\n",
        "    eval_iter=5,\n",
        "    start_context=\"Every effort moves you\",\n",
        "    tokenizer=tokenizer\n",
        ")"
      ],
      "metadata": {
        "colab": {
          "base_uri": "https://localhost:8080/"
        },
        "id": "Q3hQS6q01aiJ",
        "outputId": "152f9e23-1347-4fef-c2c9-29aa6e90bd3a"
      },
      "execution_count": 160,
      "outputs": [
        {
          "output_type": "stream",
          "name": "stdout",
          "text": [
            "Epoch 1 (Step 000000): Train loss 9.818, Val loss 9.930\n",
            "Epoch 1 (Step 000005): Train loss 8.066, Val loss 8.336\n",
            "Every effort moves you,,,,,,,,,,,,.                                     \n",
            "Epoch 2 (Step 000010): Train loss 6.623, Val loss 7.053\n",
            "Epoch 2 (Step 000015): Train loss 6.047, Val loss 6.605\n",
            "Every effort moves you, and,, and,,,,,,, and,.                                   \n",
            "Epoch 3 (Step 000020): Train loss 5.532, Val loss 6.507\n",
            "Epoch 3 (Step 000025): Train loss 5.399, Val loss 6.389\n",
            "Every effort moves you, and to the to the of the to the, and I had. Gis, and, and, and, and, and, and I had the, and, and, and, and, and, and, and, and, and\n",
            "Epoch 4 (Step 000030): Train loss 4.895, Val loss 6.280\n",
            "Epoch 4 (Step 000035): Train loss 4.648, Val loss 6.304\n",
            "Every effort moves you.  \"I the picture.                    \"I\"I the picture\"I had the the honour of the picture and I had been the picture of\n",
            "Epoch 5 (Step 000040): Train loss 4.023, Val loss 6.165\n",
            "Every effort moves you know                                                 \n",
            "Epoch 6 (Step 000045): Train loss 3.625, Val loss 6.172\n",
            "Epoch 6 (Step 000050): Train loss 3.045, Val loss 6.144\n",
            "Every effort moves you know the was his a little the.  \"I had the last word.           \"Oh, and I had a little.   \"I looked, and I had a little of\n",
            "Epoch 7 (Step 000055): Train loss 2.948, Val loss 6.183\n",
            "Epoch 7 (Step 000060): Train loss 2.230, Val loss 6.128\n",
            "Every effort moves you know the picture to have been too--I felt, and Mrs.  \"I was no--and the fact, and that, and I was his pictures.  \"I looked up his pictures--and--because he was a little\n",
            "Epoch 8 (Step 000065): Train loss 1.774, Val loss 6.162\n",
            "Epoch 8 (Step 000070): Train loss 1.475, Val loss 6.229\n",
            "Every effort moves you?\"  \"Yes--I glanced after him, and uncertain.  \"I looked up, and the fact, and to see a smile behind his close grayish beard--as if he had the donkey. \"There were days when I\n",
            "Epoch 9 (Step 000075): Train loss 1.135, Val loss 6.268\n",
            "Epoch 9 (Step 000080): Train loss 0.858, Val loss 6.298\n",
            "Every effort moves you?\"  \"Yes--quite insensible to the fact with the last word.    \"I looked, and that, and I remember getting off a prodigious phrase about the honour being _mine_--because he's the first\n",
            "Epoch 10 (Step 000085): Train loss 0.627, Val loss 6.382\n",
            "Every effort moves you?\"  \"Yes--quite insensible to the irony. She wanted him vindicated--and by me!\"  He laughed again, and threw back his head to look up at the sketch of the donkey. \"There were days when I\n"
          ]
        }
      ]
    },
    {
      "cell_type": "code",
      "source": [
        "import matplotlib.pyplot as plt\n",
        "from matplotlib.ticker import MaxNLocator\n",
        "\n",
        "def plot_losses(epochs_seen, tokens_seen, train_losses, val_losses):\n",
        "    fig, ax1 = plt.subplots(figsize=(5, 3))\n",
        "\n",
        "    # Plot training and validation loss against epochs\n",
        "    ax1.plot(epochs_seen, train_losses, label=\"Training loss\")\n",
        "    ax1.plot(epochs_seen, val_losses, linestyle=\"--\", label=\"Validation loss\")\n",
        "    ax1.set_xlabel(\"Epochs\")\n",
        "    ax1.set_ylabel(\"Loss\")\n",
        "    ax1.legend(loc=\"upper right\")\n",
        "    ax1.xaxis.set_major_locator(MaxNLocator(integer=True))  # only show integer labels on x-axis\n",
        "\n",
        "    # Create a second x-axis for tokens seen\n",
        "    ax2 = ax1.twiny()  # Create a second x-axis that shares the same y-axis\n",
        "    ax2.plot(tokens_seen, train_losses, alpha=0)  # Invisible plot for aligning ticks\n",
        "    ax2.set_xlabel(\"Tokens seen\")\n",
        "\n",
        "    fig.tight_layout()  # Adjust layout to make room\n",
        "    plt.savefig(\"loss-plot.pdf\")\n",
        "    plt.show()\n",
        "\n",
        "epochs_tensor = torch.linspace(0, num_epochs, len(train_losses))\n",
        "plot_losses(epochs_tensor, tokens_seen, train_losses, val_losses)\n"
      ],
      "metadata": {
        "colab": {
          "base_uri": "https://localhost:8080/",
          "height": 307
        },
        "id": "mHTTG_cN2N2s",
        "outputId": "ce902d7d-1d54-4e2c-a6a5-8f65fc37be36"
      },
      "execution_count": 161,
      "outputs": [
        {
          "output_type": "display_data",
          "data": {
            "text/plain": [
              "<Figure size 500x300 with 2 Axes>"
            ],
            "image/png": "[encoded data removed]"
          },
          "metadata": {}
        }
      ]
    },
    {
      "cell_type": "markdown",
      "source": [
        "CONTROL TEXT GENERATION RANDOMNESS"
      ],
      "metadata": {
        "id": "3iinNHex4pNA"
      }
    },
    {
      "cell_type": "code",
      "source": [
        "model.to(\"cpu\")\n",
        "model.eval()\n",
        "tokenizer = tiktoken.get_encoding(\"gpt2\")\n",
        "\n",
        "token_ids = generate_text_simple(\n",
        "    model=model,\n",
        "    idx=text_to_token_ids(\"Every effort moves you\", tokenizer),\n",
        "    max_new_tokens=25,\n",
        "    context_size=GPT_CONFIG_124M[\"context_length\"]\n",
        ")\n",
        "\n",
        "print(\"Output text:\\n\", token_ids_to_text(token_ids, tokenizer))\n"
      ],
      "metadata": {
        "colab": {
          "base_uri": "https://localhost:8080/"
        },
        "id": "m4t-OYyN3OOo",
        "outputId": "b5bd737c-ad6e-46db-9249-882f88288501"
      },
      "execution_count": 162,
      "outputs": [
        {
          "output_type": "stream",
          "name": "stdout",
          "text": [
            "Output text:\n",
            " Every effort moves you?\"\n",
            "\n",
            "\"Yes--quite insensible to the irony. She wanted him vindicated--and by me!\"\n",
            "\n",
            "\n"
          ]
        }
      ]
    },
    {
      "cell_type": "code",
      "source": [
        "vocab = {\n",
        "    \"closer\": 0,\n",
        "    \"every\": 1,\n",
        "    \"effort\": 2,\n",
        "    \"forward\": 3,\n",
        "    \"inches\": 4,\n",
        "    \"moves\": 5,\n",
        "    \"pizza\": 6,\n",
        "    \"toward\": 7,\n",
        "    \"you\": 8,\n",
        "}\n",
        "\n",
        "inverse_vocab = {v: k for k, v in vocab.items()}\n",
        "inverse_vocab\n"
      ],
      "metadata": {
        "colab": {
          "base_uri": "https://localhost:8080/"
        },
        "id": "WJOSzWaF3_jW",
        "outputId": "e904c05a-c059-4f0d-96c9-6b04ad99596b"
      },
      "execution_count": 163,
      "outputs": [
        {
          "output_type": "execute_result",
          "data": {
            "text/plain": [
              "{0: 'closer',\n",
              " 1: 'every',\n",
              " 2: 'effort',\n",
              " 3: 'forward',\n",
              " 4: 'inches',\n",
              " 5: 'moves',\n",
              " 6: 'pizza',\n",
              " 7: 'toward',\n",
              " 8: 'you'}"
            ]
          },
          "metadata": {},
          "execution_count": 163
        }
      ]
    },
    {
      "cell_type": "code",
      "source": [
        "next_token_logits = torch.tensor(\n",
        "    [4.51, 0.89, -1.90, 6.75, 1.63, -1.62, -1.89, 6.28, 1.79]\n",
        ")\n",
        "probas = torch.softmax(next_token_logits, dim=0)\n",
        "probas"
      ],
      "metadata": {
        "colab": {
          "base_uri": "https://localhost:8080/"
        },
        "id": "mpohQZL-7SZm",
        "outputId": "21946d14-8d98-47bd-eb1b-dbd651cc9f9d"
      },
      "execution_count": 164,
      "outputs": [
        {
          "output_type": "execute_result",
          "data": {
            "text/plain": [
              "tensor([6.0907e-02, 1.6313e-03, 1.0019e-04, 5.7212e-01, 3.4190e-03, 1.3257e-04,\n",
              "        1.0120e-04, 3.5758e-01, 4.0122e-03])"
            ]
          },
          "metadata": {},
          "execution_count": 164
        }
      ]
    },
    {
      "cell_type": "code",
      "source": [
        "next_token_id = torch.argmax(probas).item()\n",
        "next_token_id"
      ],
      "metadata": {
        "colab": {
          "base_uri": "https://localhost:8080/"
        },
        "id": "4pdOKK_V7vvt",
        "outputId": "17ea94d2-65fa-4064-bb9c-3a3ec42232f3"
      },
      "execution_count": 165,
      "outputs": [
        {
          "output_type": "execute_result",
          "data": {
            "text/plain": [
              "3"
            ]
          },
          "metadata": {},
          "execution_count": 165
        }
      ]
    },
    {
      "cell_type": "code",
      "source": [
        "inverse_vocab[next_token_id]"
      ],
      "metadata": {
        "colab": {
          "base_uri": "https://localhost:8080/",
          "height": 36
        },
        "id": "fe9uFbCx7-_L",
        "outputId": "585e4e18-4112-4197-8610-bbfc00de7bfb"
      },
      "execution_count": 166,
      "outputs": [
        {
          "output_type": "execute_result",
          "data": {
            "text/plain": [
              "'forward'"
            ],
            "application/vnd.google.colaboratory.intrinsic+json": {
              "type": "string"
            }
          },
          "metadata": {},
          "execution_count": 166
        }
      ]
    },
    {
      "cell_type": "code",
      "source": [
        "next_token_id=torch.multinomial(probas,num_samples=1).item()\n",
        "print(inverse_vocab[next_token_id])"
      ],
      "metadata": {
        "colab": {
          "base_uri": "https://localhost:8080/"
        },
        "id": "-rDXMS_j8NO2",
        "outputId": "89008896-1fb2-40f0-9f1d-195bc449ae88"
      },
      "execution_count": 167,
      "outputs": [
        {
          "output_type": "stream",
          "name": "stdout",
          "text": [
            "toward\n"
          ]
        }
      ]
    },
    {
      "cell_type": "code",
      "source": [
        "def print_sampled_tokens(probas):\n",
        "    torch.manual_seed(123)  # Manual seed for reproducibility\n",
        "    sample = [torch.multinomial(probas, num_samples=1).item() for i in range(1_000)]\n",
        "    sampled_ids = torch.bincount(torch.tensor(sample))\n",
        "\n",
        "    for i, freq in enumerate(sampled_ids):\n",
        "        print(f\"freq {freq} × {inverse_vocab[i]}\")\n",
        "\n",
        "print_sampled_tokens(probas)\n"
      ],
      "metadata": {
        "colab": {
          "base_uri": "https://localhost:8080/"
        },
        "id": "tvkQgNAw8zRQ",
        "outputId": "de022077-6597-4ea4-b0db-47fd93b7ee42"
      },
      "execution_count": 168,
      "outputs": [
        {
          "output_type": "stream",
          "name": "stdout",
          "text": [
            "freq 71 × closer\n",
            "freq 2 × every\n",
            "freq 0 × effort\n",
            "freq 544 × forward\n",
            "freq 2 × inches\n",
            "freq 1 × moves\n",
            "freq 0 × pizza\n",
            "freq 376 × toward\n",
            "freq 4 × you\n"
          ]
        }
      ]
    },
    {
      "cell_type": "code",
      "source": [
        "def softmax_with_temperature(logits, temperature):\n",
        "    scaled_logits = logits / temperature\n",
        "    return torch.softmax(scaled_logits, dim=0)\n",
        "\n",
        "temperatures = [1, 0.1, 5]\n",
        "\n",
        "# Calculate scaled probabilities\n",
        "scaled_probas = [softmax_with_temperature(next_token_logits, T) for T in temperatures]\n"
      ],
      "metadata": {
        "id": "UnyQqAcm9WHe"
      },
      "execution_count": 169,
      "outputs": []
    },
    {
      "cell_type": "code",
      "source": [
        "scaled_probas"
      ],
      "metadata": {
        "colab": {
          "base_uri": "https://localhost:8080/"
        },
        "id": "i2ijdn3S-Ec6",
        "outputId": "20296d31-8c2e-4391-dce7-e275af1153bc"
      },
      "execution_count": 170,
      "outputs": [
        {
          "output_type": "execute_result",
          "data": {
            "text/plain": [
              "[tensor([6.0907e-02, 1.6313e-03, 1.0019e-04, 5.7212e-01, 3.4190e-03, 1.3257e-04,\n",
              "         1.0120e-04, 3.5758e-01, 4.0122e-03]),\n",
              " tensor([1.8530e-10, 3.5189e-26, 2.6890e-38, 9.9099e-01, 5.7569e-23, 4.4220e-37,\n",
              "         2.9718e-38, 9.0133e-03, 2.8514e-22]),\n",
              " tensor([0.1546, 0.0750, 0.0429, 0.2421, 0.0869, 0.0454, 0.0430, 0.2203, 0.0898])]"
            ]
          },
          "metadata": {},
          "execution_count": 170
        }
      ]
    },
    {
      "cell_type": "code",
      "source": [
        "# Plotting\n",
        "x = torch.arange(len(vocab))\n",
        "bar_width = 0.15\n",
        "\n",
        "fig, ax = plt.subplots(figsize=(5, 3))\n",
        "for i, T in enumerate(temperatures):\n",
        "    rects = ax.bar(x + i * bar_width, scaled_probas[i], bar_width, label=f'Temperature = {T}')\n",
        "\n",
        "ax.set_ylabel('Probability')\n",
        "ax.set_xticks(x)\n",
        "ax.set_xticklabels(vocab.keys(), rotation=90)\n",
        "ax.legend()\n",
        "\n",
        "plt.tight_layout()\n",
        "plt.savefig(\"temperature-plot.pdf\")\n",
        "plt.show()\n"
      ],
      "metadata": {
        "colab": {
          "base_uri": "https://localhost:8080/",
          "height": 307
        },
        "id": "hGbGGmef-FwV",
        "outputId": "3bc58e32-b682-4e66-d55b-315cdf76777f"
      },
      "execution_count": 171,
      "outputs": [
        {
          "output_type": "display_data",
          "data": {
            "text/plain": [
              "<Figure size 500x300 with 1 Axes>"
            ],
            "image/png": "[encoded data removed]"
          },
          "metadata": {}
        }
      ]
    },
    {
      "cell_type": "code",
      "source": [
        "next_token_logits = torch.tensor(\n",
        "    [4.51, 0.89, -1.90, 6.75, 1.63, -1.62, -1.89, 6.28, 1.79]\n",
        ")\n"
      ],
      "metadata": {
        "id": "COzUGBNa-p_X"
      },
      "execution_count": 172,
      "outputs": []
    },
    {
      "cell_type": "code",
      "source": [
        "top_k = 3\n",
        "top_logits,top_pos=torch.topk(next_token_logits, top_k)"
      ],
      "metadata": {
        "id": "0Fi9Omga53gi"
      },
      "execution_count": 175,
      "outputs": []
    },
    {
      "cell_type": "code",
      "source": [
        "new_logits = torch.where(\n",
        "    condition=next_token_logits < top_logits[-1],\n",
        "    input=torch.tensor(float(\"-inf\")),\n",
        "    other=next_token_logits\n",
        ")\n",
        "new_logits\n"
      ],
      "metadata": {
        "colab": {
          "base_uri": "https://localhost:8080/"
        },
        "id": "9Q83DeaN59Tc",
        "outputId": "4cfce3c6-bcc7-4bf6-c47a-100c0a59f9f2"
      },
      "execution_count": 176,
      "outputs": [
        {
          "output_type": "execute_result",
          "data": {
            "text/plain": [
              "tensor([4.5100,   -inf,   -inf, 6.7500,   -inf,   -inf,   -inf, 6.2800,   -inf])"
            ]
          },
          "metadata": {},
          "execution_count": 176
        }
      ]
    },
    {
      "cell_type": "code",
      "source": [
        "torch.softmax(new_logits, dim=0)"
      ],
      "metadata": {
        "colab": {
          "base_uri": "https://localhost:8080/"
        },
        "id": "nKHdwUds6kEm",
        "outputId": "d7f77de6-7806-43cf-b106-7fea9f585b2c"
      },
      "execution_count": 177,
      "outputs": [
        {
          "output_type": "execute_result",
          "data": {
            "text/plain": [
              "tensor([0.0615, 0.0000, 0.0000, 0.5775, 0.0000, 0.0000, 0.0000, 0.3610, 0.0000])"
            ]
          },
          "metadata": {},
          "execution_count": 177
        }
      ]
    },
    {
      "cell_type": "code",
      "source": [
        "def generate(model, idx, max_new_tokens, context_size, temperature=0.0, top_k=None, eos_id=None):\n",
        "    for _ in range(max_new_tokens):\n",
        "        idx_cond = idx[:, -context_size:]\n",
        "\n",
        "        with torch.no_grad():\n",
        "            logits = model(idx_cond)\n",
        "\n",
        "        logits = logits[:, -1, :]\n",
        "\n",
        "        if top_k is not None:\n",
        "            top_logits, top_pos = torch.topk(logits, top_k)\n",
        "            new_logits = torch.where(\n",
        "                condition=logits < top_logits[:, -1],\n",
        "                input=torch.tensor(float(\"-inf\")),\n",
        "                other=logits,\n",
        "            )\n",
        "            logits = new_logits\n",
        "\n",
        "        if temperature > 0.0:\n",
        "            logits = logits / temperature\n",
        "            probs = torch.softmax(logits, dim=1)\n",
        "            idx_next = torch.multinomial(probs, num_samples=1)\n",
        "        else:\n",
        "            idx_next = torch.argmax(logits, dim=-1, keepdim=True)  # (batch, 1)\n",
        "\n",
        "        if idx_next == eos_id:\n",
        "            break\n",
        "\n",
        "        idx = torch.cat((idx, idx_next), dim=1)  # (batch, n_tokens+1)\n",
        "\n",
        "    return idx\n"
      ],
      "metadata": {
        "id": "Izbh9xwo6w5w"
      },
      "execution_count": 178,
      "outputs": []
    },
    {
      "cell_type": "code",
      "source": [
        "torch.manual_seed(123)\n",
        "\n",
        "token_ids = generate(\n",
        "    model=model,\n",
        "    idx=text_to_token_ids(\"Every effort moves you\", tokenizer),\n",
        "    max_new_tokens=15,\n",
        "    context_size=GPT_CONFIG_124M[\"context_length\"],\n",
        "    top_k=25,\n",
        "    temperature=1.4\n",
        ")\n",
        "\n",
        "print(\"Output text:\\n\", token_ids_to_text(token_ids, tokenizer))\n"
      ],
      "metadata": {
        "colab": {
          "base_uri": "https://localhost:8080/"
        },
        "id": "VwVGfiWb7YsD",
        "outputId": "b8b5d5d2-e31c-4668-fd06-fe2cb2311564"
      },
      "execution_count": 179,
      "outputs": [
        {
          "output_type": "stream",
          "name": "stdout",
          "text": [
            "Output text:\n",
            " Every effort moves you know began to go a little wild--I was such a good; and\n"
          ]
        }
      ]
    },
    {
      "cell_type": "code",
      "source": [
        "torch.save(model.state_dict(), \"model.pth\")"
      ],
      "metadata": {
        "id": "aTAj8bA87q_B"
      },
      "execution_count": 180,
      "outputs": []
    },
    {
      "cell_type": "code",
      "source": [],
      "metadata": {
        "id": "FQcwSPRU8EZr"
      },
      "execution_count": null,
      "outputs": []
    },
    {
      "cell_type": "markdown",
      "source": [
        "LOADING PRE-TRAINED WEIGHTS FROM OPEN-AI"
      ],
      "metadata": {
        "id": "PDWyu99I8gj7"
      }
    },
    {
      "cell_type": "code",
      "source": [
        "!pip install tqdm"
      ],
      "metadata": {
        "colab": {
          "base_uri": "https://localhost:8080/"
        },
        "id": "FGHnFyY58kUN",
        "outputId": "ccd62f48-341e-41f5-9d51-e9f1fc12c52e"
      },
      "execution_count": 181,
      "outputs": [
        {
          "output_type": "stream",
          "name": "stdout",
          "text": [
            "Requirement already satisfied: tqdm in /usr/local/lib/python3.11/dist-packages (4.67.1)\n"
          ]
        }
      ]
    },
    {
      "cell_type": "code",
      "source": [
        "import json\n",
        "import numpy as np\n",
        "import tensorflow as tf\n",
        "from tqdm import tqdm"
      ],
      "metadata": {
        "id": "URQNRtOi-iqo"
      },
      "execution_count": 183,
      "outputs": []
    },
    {
      "cell_type": "code",
      "source": [
        "def download_and_load_gpt2(model_size, models_dir):\n",
        "    # Validate model size\n",
        "    allowed_sizes = (\"124M\", \"355M\", \"774M\", \"1558M\")\n",
        "    if model_size not in allowed_sizes:\n",
        "        raise ValueError(f\"Model size not in {allowed_sizes}\")\n",
        "\n",
        "    # Define paths\n",
        "    model_dir = os.path.join(models_dir, model_size)\n",
        "    base_url = \"https://openaipublic.blob.core.windows.net/gpt-2/models\"\n",
        "    backup_base_url = \"https://f001.backblazeb2.com/file/LLMs-from-scratch/gpt2\"\n",
        "    filenames = [\n",
        "        \"checkpoint\", \"encoder.json\", \"hparams.json\",\n",
        "        \"model.ckpt.data-00000-of-00001\", \"model.ckpt.index\",\n",
        "        \"model.ckpt.meta\", \"vocab.bpe\"\n",
        "    ]\n",
        "\n",
        "    # Download files\n",
        "    os.makedirs(model_dir, exist_ok=True)\n",
        "    for filename in filenames:\n",
        "        file_url = os.path.join(base_url, model_size, filename)\n",
        "        backup_url = os.path.join(backup_base_url, model_size, filename)\n",
        "        file_path = os.path.join(model_dir, filename)\n",
        "        download_file(file_url, file_path, backup_url)\n",
        "\n",
        "    # Load settings and params\n",
        "    tf_ckpt_path = tf.train.latest_checkpoint(model_dir)\n",
        "    settings = json.load(open(os.path.join(model_dir, \"hparams.json\"), \"r\", encoding=\"utf-8\"))\n",
        "    params = load_gpt2_params_from_tf_ckpt(tf_ckpt_path, settings)\n",
        "\n",
        "    return settings, params"
      ],
      "metadata": {
        "id": "joT201IN-Wk4"
      },
      "execution_count": 184,
      "outputs": []
    },
    {
      "cell_type": "code",
      "source": [
        "def download_file(url, destination, backup_url=None):\n",
        "    def _attempt_download(download_url):\n",
        "        with urllib.request.urlopen(download_url) as response:\n",
        "            # Get the total file size from headers, defaulting to 0 if not present\n",
        "            file_size = int(response.headers.get(\"Content-Length\", 0))\n",
        "\n",
        "            # Check if file exists and has the same size\n",
        "            if os.path.exists(destination):\n",
        "                file_size_local = os.path.getsize(destination)\n",
        "                if file_size == file_size_local:\n",
        "                    print(f\"File already exists and is up-to-date: {destination}\")\n",
        "                    return True  # Indicate success without re-downloading\n",
        "\n",
        "            block_size = 1024  # 1 Kilobyte\n",
        "\n",
        "            # Initialize the progress bar with total file size\n",
        "            progress_bar_description = os.path.basename(download_url)\n",
        "            with tqdm(total=file_size, unit=\"iB\", unit_scale=True, desc=progress_bar_description) as progress_bar:\n",
        "                with open(destination, \"wb\") as file:\n",
        "                    while True:\n",
        "                        chunk = response.read(block_size)\n",
        "                        if not chunk:\n",
        "                            break\n",
        "                        file.write(chunk)\n",
        "                        progress_bar.update(len(chunk))\n",
        "            return True\n",
        "\n",
        "    try:\n",
        "        if _attempt_download(url):\n",
        "            return\n",
        "    except (urllib.error.HTTPError, urllib.error.URLError):\n",
        "        if backup_url is not None:\n",
        "            print(f\"Primary URL ({url}) failed. Attempting backup URL: {backup_url}\")\n",
        "            try:\n",
        "                if _attempt_download(backup_url):\n",
        "                    return\n",
        "            except urllib.error.HTTPError:\n",
        "                pass\n",
        "\n",
        "        # If we reach here, both attempts have failed\n",
        "        error_message = (\n",
        "            f\"Failed to download from both primary URL ({url})\"\n",
        "            f\"{' and backup URL (' + backup_url + ')' if backup_url else ''}.\"\n",
        "            \"\\nCheck your internet connection or the file availability.\\n\"\n",
        "            \"For help, visit: https://github.com/rasbt/LLMs-from-scratch/discussions/273\"\n",
        "        )\n",
        "        print(error_message)\n",
        "    except Exception as e:\n",
        "        print(f\"An unexpected error occurred: {e}\")"
      ],
      "metadata": {
        "id": "vtIOPF6T-hll"
      },
      "execution_count": 185,
      "outputs": []
    },
    {
      "cell_type": "code",
      "source": [
        "def load_gpt2_params_from_tf_ckpt(ckpt_path, settings):\n",
        "    # Initialize parameters dictionary with empty blocks for each layer\n",
        "    params = {\"blocks\": [{} for _ in range(settings[\"n_layer\"])]}\n",
        "\n",
        "    # Iterate over each variable in the checkpoint\n",
        "    for name, _ in tf.train.list_variables(ckpt_path):\n",
        "        # Load the variable and remove singleton dimensions\n",
        "        variable_array = np.squeeze(tf.train.load_variable(ckpt_path, name))\n",
        "\n",
        "        # Process the variable name to extract relevant parts\n",
        "        variable_name_parts = name.split(\"/\")[1:]  # Skip the 'model/' prefix\n",
        "\n",
        "        # Identify the target dictionary for the variable\n",
        "        target_dict = params\n",
        "        if variable_name_parts[0].startswith(\"h\"):\n",
        "            layer_number = int(variable_name_parts[0][1:])\n",
        "            target_dict = params[\"blocks\"][layer_number]\n",
        "\n",
        "        # Recursively access or create nested dictionaries\n",
        "        for key in variable_name_parts[1:-1]:\n",
        "            target_dict = target_dict.setdefault(key, {})\n",
        "\n",
        "        # Assign the variable array to the last key\n",
        "        last_key = variable_name_parts[-1]\n",
        "        target_dict[last_key] = variable_array\n",
        "\n",
        "    return params"
      ],
      "metadata": {
        "id": "VZAzITb89eSP"
      },
      "execution_count": 186,
      "outputs": []
    },
    {
      "cell_type": "code",
      "source": [
        "settings, params = download_and_load_gpt2(model_size=\"124M\", models_dir=\"gpt2\")"
      ],
      "metadata": {
        "colab": {
          "base_uri": "https://localhost:8080/"
        },
        "id": "jTBIqkTY-8ri",
        "outputId": "0bff9944-95e8-4106-d96c-afb268316f06"
      },
      "execution_count": 187,
      "outputs": [
        {
          "output_type": "stream",
          "name": "stderr",
          "text": [
            "checkpoint: 100%|██████████| 77.0/77.0 [00:00<00:00, 140kiB/s]\n",
            "encoder.json: 100%|██████████| 1.04M/1.04M [00:00<00:00, 2.70MiB/s]\n",
            "hparams.json: 100%|██████████| 90.0/90.0 [00:00<00:00, 123kiB/s]\n",
            "model.ckpt.data-00000-of-00001: 100%|██████████| 498M/498M [00:31<00:00, 15.8MiB/s]\n",
            "model.ckpt.index: 100%|██████████| 5.21k/5.21k [00:00<00:00, 6.48MiB/s]\n",
            "model.ckpt.meta: 100%|██████████| 471k/471k [00:00<00:00, 1.92MiB/s]\n",
            "vocab.bpe: 100%|██████████| 456k/456k [00:00<00:00, 1.86MiB/s]\n"
          ]
        }
      ]
    },
    {
      "cell_type": "code",
      "source": [
        "print(settings)"
      ],
      "metadata": {
        "colab": {
          "base_uri": "https://localhost:8080/"
        },
        "id": "YgBe9Kt8_MUR",
        "outputId": "7357e051-6f50-4a33-ec53-5fc8649ff303"
      },
      "execution_count": 188,
      "outputs": [
        {
          "output_type": "stream",
          "name": "stdout",
          "text": [
            "{'n_vocab': 50257, 'n_ctx': 1024, 'n_embd': 768, 'n_head': 12, 'n_layer': 12}\n"
          ]
        }
      ]
    },
    {
      "cell_type": "code",
      "source": [
        "print(params.keys())"
      ],
      "metadata": {
        "colab": {
          "base_uri": "https://localhost:8080/"
        },
        "id": "F3TKTl-g_Zgo",
        "outputId": "c3d8224b-3362-4a22-bb3c-963d51a30ccf"
      },
      "execution_count": 190,
      "outputs": [
        {
          "output_type": "stream",
          "name": "stdout",
          "text": [
            "dict_keys(['blocks', 'b', 'g', 'wpe', 'wte'])\n"
          ]
        }
      ]
    },
    {
      "cell_type": "code",
      "source": [
        "print(params[\"wte\"])\n",
        "print(params[\"wte\"].shape)"
      ],
      "metadata": {
        "colab": {
          "base_uri": "https://localhost:8080/"
        },
        "id": "8tItqdhn_i4t",
        "outputId": "95ea6db1-7ec2-4ef3-9294-425bcbb3be5b"
      },
      "execution_count": 191,
      "outputs": [
        {
          "output_type": "stream",
          "name": "stdout",
          "text": [
            "[[-0.11010301 -0.03926672  0.03310751 ... -0.1363697   0.01506208\n",
            "   0.04531523]\n",
            " [ 0.04034033 -0.04861503  0.04624869 ...  0.08605453  0.00253983\n",
            "   0.04318958]\n",
            " [-0.12746179  0.04793796  0.18410145 ...  0.08991534 -0.12972379\n",
            "  -0.08785918]\n",
            " ...\n",
            " [-0.04453601 -0.05483596  0.01225674 ...  0.10435229  0.09783269\n",
            "  -0.06952604]\n",
            " [ 0.1860082   0.01665728  0.04611587 ... -0.09625227  0.07847701\n",
            "  -0.02245961]\n",
            " [ 0.05135201 -0.02768905  0.0499369  ...  0.00704835  0.15519823\n",
            "   0.12067825]]\n",
            "(50257, 768)\n"
          ]
        }
      ]
    },
    {
      "cell_type": "code",
      "source": [
        "GPT_CONFIG_124M = {\n",
        "    \"vocab_size\": 50257,        # Vocabulary size\n",
        "    \"context_length\": 256,      # Context length\n",
        "    \"emb_dim\": 768,             # Embedding dimension\n",
        "    \"n_heads\": 12,              # Number of attention heads\n",
        "    \"n_layers\": 12,             # Number of layers\n",
        "    \"drop_rate\": 0.1,           # Dropout rate\n",
        "    \"qkv_bias\": False           # Query–Key–Value bias\n",
        "}\n",
        "\n",
        "model_configs = {\n",
        "    \"gpt2-small (124M)\": {\"emb_dim\": 768,  \"n_layers\": 12, \"n_heads\": 12},\n",
        "    \"gpt2-medium (355M)\": {\"emb_dim\": 1024, \"n_layers\": 24, \"n_heads\": 16},\n",
        "    \"gpt2-large (774M)\": {\"emb_dim\": 1280, \"n_layers\": 36, \"n_heads\": 20},\n",
        "    \"gpt2-xl (1558M)\": {\"emb_dim\": 1600, \"n_layers\": 48, \"n_heads\": 25},\n",
        "}\n",
        "\n",
        "# Copy the base configuration and update with specific model settings\n",
        "model_name = \"gpt2-small (124M)\"  # Example model name\n",
        "NEW_CONFIG = GPT_CONFIG_124M.copy()\n",
        "NEW_CONFIG.update(model_configs[model_name])\n",
        "NEW_CONFIG.update({\"context_length\": 1024, \"qkv_bias\": True})\n",
        "\n",
        "gpt = GPTModel(NEW_CONFIG)\n",
        "gpt.eval()\n"
      ],
      "metadata": {
        "colab": {
          "base_uri": "https://localhost:8080/"
        },
        "id": "xTlsRiD5_uyB",
        "outputId": "e7a210c0-8561-4669-c736-99d230742ae4"
      },
      "execution_count": 192,
      "outputs": [
        {
          "output_type": "execute_result",
          "data": {
            "text/plain": [
              "GPTModel(\n",
              "  (tok_emb): Embedding(50257, 768)\n",
              "  (pos_emb): Embedding(1024, 768)\n",
              "  (drop_emb): Dropout(p=0.1, inplace=False)\n",
              "  (trf_blocks): Sequential(\n",
              "    (0): TransformerBlock(\n",
              "      (att): MultiHeadAttention2(\n",
              "        (W_query): Linear(in_features=768, out_features=768, bias=True)\n",
              "        (W_key): Linear(in_features=768, out_features=768, bias=True)\n",
              "        (W_value): Linear(in_features=768, out_features=768, bias=True)\n",
              "        (out_proj): Linear(in_features=768, out_features=768, bias=True)\n",
              "        (dropout): Dropout(p=0.1, inplace=False)\n",
              "      )\n",
              "      (ff): FeedForward(\n",
              "        (layers): Sequential(\n",
              "          (0): Linear(in_features=768, out_features=3072, bias=True)\n",
              "          (1): GELU()\n",
              "          (2): Linear(in_features=3072, out_features=768, bias=True)\n",
              "        )\n",
              "      )\n",
              "      (norm1): LayerNorm()\n",
              "      (norm2): LayerNorm()\n",
              "      (drop_shortcut): Dropout(p=0.1, inplace=False)\n",
              "    )\n",
              "    (1): TransformerBlock(\n",
              "      (att): MultiHeadAttention2(\n",
              "        (W_query): Linear(in_features=768, out_features=768, bias=True)\n",
              "        (W_key): Linear(in_features=768, out_features=768, bias=True)\n",
              "        (W_value): Linear(in_features=768, out_features=768, bias=True)\n",
              "        (out_proj): Linear(in_features=768, out_features=768, bias=True)\n",
              "        (dropout): Dropout(p=0.1, inplace=False)\n",
              "      )\n",
              "      (ff): FeedForward(\n",
              "        (layers): Sequential(\n",
              "          (0): Linear(in_features=768, out_features=3072, bias=True)\n",
              "          (1): GELU()\n",
              "          (2): Linear(in_features=3072, out_features=768, bias=True)\n",
              "        )\n",
              "      )\n",
              "      (norm1): LayerNorm()\n",
              "      (norm2): LayerNorm()\n",
              "      (drop_shortcut): Dropout(p=0.1, inplace=False)\n",
              "    )\n",
              "    (2): TransformerBlock(\n",
              "      (att): MultiHeadAttention2(\n",
              "        (W_query): Linear(in_features=768, out_features=768, bias=True)\n",
              "        (W_key): Linear(in_features=768, out_features=768, bias=True)\n",
              "        (W_value): Linear(in_features=768, out_features=768, bias=True)\n",
              "        (out_proj): Linear(in_features=768, out_features=768, bias=True)\n",
              "        (dropout): Dropout(p=0.1, inplace=False)\n",
              "      )\n",
              "      (ff): FeedForward(\n",
              "        (layers): Sequential(\n",
              "          (0): Linear(in_features=768, out_features=3072, bias=True)\n",
              "          (1): GELU()\n",
              "          (2): Linear(in_features=3072, out_features=768, bias=True)\n",
              "        )\n",
              "      )\n",
              "      (norm1): LayerNorm()\n",
              "      (norm2): LayerNorm()\n",
              "      (drop_shortcut): Dropout(p=0.1, inplace=False)\n",
              "    )\n",
              "    (3): TransformerBlock(\n",
              "      (att): MultiHeadAttention2(\n",
              "        (W_query): Linear(in_features=768, out_features=768, bias=True)\n",
              "        (W_key): Linear(in_features=768, out_features=768, bias=True)\n",
              "        (W_value): Linear(in_features=768, out_features=768, bias=True)\n",
              "        (out_proj): Linear(in_features=768, out_features=768, bias=True)\n",
              "        (dropout): Dropout(p=0.1, inplace=False)\n",
              "      )\n",
              "      (ff): FeedForward(\n",
              "        (layers): Sequential(\n",
              "          (0): Linear(in_features=768, out_features=3072, bias=True)\n",
              "          (1): GELU()\n",
              "          (2): Linear(in_features=3072, out_features=768, bias=True)\n",
              "        )\n",
              "      )\n",
              "      (norm1): LayerNorm()\n",
              "      (norm2): LayerNorm()\n",
              "      (drop_shortcut): Dropout(p=0.1, inplace=False)\n",
              "    )\n",
              "    (4): TransformerBlock(\n",
              "      (att): MultiHeadAttention2(\n",
              "        (W_query): Linear(in_features=768, out_features=768, bias=True)\n",
              "        (W_key): Linear(in_features=768, out_features=768, bias=True)\n",
              "        (W_value): Linear(in_features=768, out_features=768, bias=True)\n",
              "        (out_proj): Linear(in_features=768, out_features=768, bias=True)\n",
              "        (dropout): Dropout(p=0.1, inplace=False)\n",
              "      )\n",
              "      (ff): FeedForward(\n",
              "        (layers): Sequential(\n",
              "          (0): Linear(in_features=768, out_features=3072, bias=True)\n",
              "          (1): GELU()\n",
              "          (2): Linear(in_features=3072, out_features=768, bias=True)\n",
              "        )\n",
              "      )\n",
              "      (norm1): LayerNorm()\n",
              "      (norm2): LayerNorm()\n",
              "      (drop_shortcut): Dropout(p=0.1, inplace=False)\n",
              "    )\n",
              "    (5): TransformerBlock(\n",
              "      (att): MultiHeadAttention2(\n",
              "        (W_query): Linear(in_features=768, out_features=768, bias=True)\n",
              "        (W_key): Linear(in_features=768, out_features=768, bias=True)\n",
              "        (W_value): Linear(in_features=768, out_features=768, bias=True)\n",
              "        (out_proj): Linear(in_features=768, out_features=768, bias=True)\n",
              "        (dropout): Dropout(p=0.1, inplace=False)\n",
              "      )\n",
              "      (ff): FeedForward(\n",
              "        (layers): Sequential(\n",
              "          (0): Linear(in_features=768, out_features=3072, bias=True)\n",
              "          (1): GELU()\n",
              "          (2): Linear(in_features=3072, out_features=768, bias=True)\n",
              "        )\n",
              "      )\n",
              "      (norm1): LayerNorm()\n",
              "      (norm2): LayerNorm()\n",
              "      (drop_shortcut): Dropout(p=0.1, inplace=False)\n",
              "    )\n",
              "    (6): TransformerBlock(\n",
              "      (att): MultiHeadAttention2(\n",
              "        (W_query): Linear(in_features=768, out_features=768, bias=True)\n",
              "        (W_key): Linear(in_features=768, out_features=768, bias=True)\n",
              "        (W_value): Linear(in_features=768, out_features=768, bias=True)\n",
              "        (out_proj): Linear(in_features=768, out_features=768, bias=True)\n",
              "        (dropout): Dropout(p=0.1, inplace=False)\n",
              "      )\n",
              "      (ff): FeedForward(\n",
              "        (layers): Sequential(\n",
              "          (0): Linear(in_features=768, out_features=3072, bias=True)\n",
              "          (1): GELU()\n",
              "          (2): Linear(in_features=3072, out_features=768, bias=True)\n",
              "        )\n",
              "      )\n",
              "      (norm1): LayerNorm()\n",
              "      (norm2): LayerNorm()\n",
              "      (drop_shortcut): Dropout(p=0.1, inplace=False)\n",
              "    )\n",
              "    (7): TransformerBlock(\n",
              "      (att): MultiHeadAttention2(\n",
              "        (W_query): Linear(in_features=768, out_features=768, bias=True)\n",
              "        (W_key): Linear(in_features=768, out_features=768, bias=True)\n",
              "        (W_value): Linear(in_features=768, out_features=768, bias=True)\n",
              "        (out_proj): Linear(in_features=768, out_features=768, bias=True)\n",
              "        (dropout): Dropout(p=0.1, inplace=False)\n",
              "      )\n",
              "      (ff): FeedForward(\n",
              "        (layers): Sequential(\n",
              "          (0): Linear(in_features=768, out_features=3072, bias=True)\n",
              "          (1): GELU()\n",
              "          (2): Linear(in_features=3072, out_features=768, bias=True)\n",
              "        )\n",
              "      )\n",
              "      (norm1): LayerNorm()\n",
              "      (norm2): LayerNorm()\n",
              "      (drop_shortcut): Dropout(p=0.1, inplace=False)\n",
              "    )\n",
              "    (8): TransformerBlock(\n",
              "      (att): MultiHeadAttention2(\n",
              "        (W_query): Linear(in_features=768, out_features=768, bias=True)\n",
              "        (W_key): Linear(in_features=768, out_features=768, bias=True)\n",
              "        (W_value): Linear(in_features=768, out_features=768, bias=True)\n",
              "        (out_proj): Linear(in_features=768, out_features=768, bias=True)\n",
              "        (dropout): Dropout(p=0.1, inplace=False)\n",
              "      )\n",
              "      (ff): FeedForward(\n",
              "        (layers): Sequential(\n",
              "          (0): Linear(in_features=768, out_features=3072, bias=True)\n",
              "          (1): GELU()\n",
              "          (2): Linear(in_features=3072, out_features=768, bias=True)\n",
              "        )\n",
              "      )\n",
              "      (norm1): LayerNorm()\n",
              "      (norm2): LayerNorm()\n",
              "      (drop_shortcut): Dropout(p=0.1, inplace=False)\n",
              "    )\n",
              "    (9): TransformerBlock(\n",
              "      (att): MultiHeadAttention2(\n",
              "        (W_query): Linear(in_features=768, out_features=768, bias=True)\n",
              "        (W_key): Linear(in_features=768, out_features=768, bias=True)\n",
              "        (W_value): Linear(in_features=768, out_features=768, bias=True)\n",
              "        (out_proj): Linear(in_features=768, out_features=768, bias=True)\n",
              "        (dropout): Dropout(p=0.1, inplace=False)\n",
              "      )\n",
              "      (ff): FeedForward(\n",
              "        (layers): Sequential(\n",
              "          (0): Linear(in_features=768, out_features=3072, bias=True)\n",
              "          (1): GELU()\n",
              "          (2): Linear(in_features=3072, out_features=768, bias=True)\n",
              "        )\n",
              "      )\n",
              "      (norm1): LayerNorm()\n",
              "      (norm2): LayerNorm()\n",
              "      (drop_shortcut): Dropout(p=0.1, inplace=False)\n",
              "    )\n",
              "    (10): TransformerBlock(\n",
              "      (att): MultiHeadAttention2(\n",
              "        (W_query): Linear(in_features=768, out_features=768, bias=True)\n",
              "        (W_key): Linear(in_features=768, out_features=768, bias=True)\n",
              "        (W_value): Linear(in_features=768, out_features=768, bias=True)\n",
              "        (out_proj): Linear(in_features=768, out_features=768, bias=True)\n",
              "        (dropout): Dropout(p=0.1, inplace=False)\n",
              "      )\n",
              "      (ff): FeedForward(\n",
              "        (layers): Sequential(\n",
              "          (0): Linear(in_features=768, out_features=3072, bias=True)\n",
              "          (1): GELU()\n",
              "          (2): Linear(in_features=3072, out_features=768, bias=True)\n",
              "        )\n",
              "      )\n",
              "      (norm1): LayerNorm()\n",
              "      (norm2): LayerNorm()\n",
              "      (drop_shortcut): Dropout(p=0.1, inplace=False)\n",
              "    )\n",
              "    (11): TransformerBlock(\n",
              "      (att): MultiHeadAttention2(\n",
              "        (W_query): Linear(in_features=768, out_features=768, bias=True)\n",
              "        (W_key): Linear(in_features=768, out_features=768, bias=True)\n",
              "        (W_value): Linear(in_features=768, out_features=768, bias=True)\n",
              "        (out_proj): Linear(in_features=768, out_features=768, bias=True)\n",
              "        (dropout): Dropout(p=0.1, inplace=False)\n",
              "      )\n",
              "      (ff): FeedForward(\n",
              "        (layers): Sequential(\n",
              "          (0): Linear(in_features=768, out_features=3072, bias=True)\n",
              "          (1): GELU()\n",
              "          (2): Linear(in_features=3072, out_features=768, bias=True)\n",
              "        )\n",
              "      )\n",
              "      (norm1): LayerNorm()\n",
              "      (norm2): LayerNorm()\n",
              "      (drop_shortcut): Dropout(p=0.1, inplace=False)\n",
              "    )\n",
              "  )\n",
              "  (final_norm): LayerNorm()\n",
              "  (out_head): Linear(in_features=768, out_features=50257, bias=False)\n",
              ")"
            ]
          },
          "metadata": {},
          "execution_count": 192
        }
      ]
    },
    {
      "cell_type": "code",
      "source": [
        "def assign(left, right):\n",
        "    if left.shape != right.shape:\n",
        "        raise ValueError(f\"Shape mismatch. Left: {left.shape}, Right: {right.shape}\")\n",
        "    return torch.nn.Parameter(torch.tensor(right))\n"
      ],
      "metadata": {
        "id": "jvI8wrzHAxdK"
      },
      "execution_count": 193,
      "outputs": []
    },
    {
      "cell_type": "code",
      "source": [
        "import numpy as np\n",
        "\n",
        "def load_weights_into_gpt(gpt, params):\n",
        "    gpt.pos_emb.weight = assign(gpt.pos_emb.weight, params['wpe'])\n",
        "    gpt.tok_emb.weight = assign(gpt.tok_emb.weight, params['wte'])\n",
        "\n",
        "    for b in range(len(params[\"blocks\"])):\n",
        "        q_w, k_w, v_w = np.split(\n",
        "            (params[\"blocks\"][b][\"attn\"][\"c_attn\"])[\"w\"], 3, axis=-1)\n",
        "        gpt.trf_blocks[b].att.W_query.weight = assign(\n",
        "            gpt.trf_blocks[b].att.W_query.weight, q_w.T)\n",
        "        gpt.trf_blocks[b].att.W_key.weight = assign(\n",
        "            gpt.trf_blocks[b].att.W_key.weight, k_w.T)\n",
        "        gpt.trf_blocks[b].att.W_value.weight = assign(\n",
        "            gpt.trf_blocks[b].att.W_value.weight, v_w.T)\n",
        "\n",
        "        q_b, k_b, v_b = np.split(\n",
        "            (params[\"blocks\"][b][\"attn\"][\"c_attn\"])[\"b\"], 3, axis=-1)\n",
        "        gpt.trf_blocks[b].att.W_query.bias = assign(\n",
        "            gpt.trf_blocks[b].att.W_query.bias, q_b)\n",
        "        gpt.trf_blocks[b].att.W_key.bias = assign(\n",
        "            gpt.trf_blocks[b].att.W_key.bias, k_b)\n",
        "        gpt.trf_blocks[b].att.W_value.bias = assign(\n",
        "            gpt.trf_blocks[b].att.W_value.bias, v_b)\n",
        "\n",
        "        gpt.trf_blocks[b].att.out_proj.weight = assign(\n",
        "            gpt.trf_blocks[b].att.out_proj.weight,\n",
        "            params[\"blocks\"][b][\"attn\"][\"c_proj\"][\"w\"].T)\n",
        "        gpt.trf_blocks[b].att.out_proj.bias = assign(\n",
        "            gpt.trf_blocks[b].att.out_proj.bias,\n",
        "            params[\"blocks\"][b][\"attn\"][\"c_proj\"][\"b\"])\n",
        "\n",
        "        gpt.trf_blocks[b].ff.layers[0].weight = assign(\n",
        "            gpt.trf_blocks[b].ff.layers[0].weight,\n",
        "            params[\"blocks\"][b][\"mlp\"][\"c_fc\"][\"w\"].T)\n",
        "        gpt.trf_blocks[b].ff.layers[0].bias = assign(\n",
        "            gpt.trf_blocks[b].ff.layers[0].bias,\n",
        "            params[\"blocks\"][b][\"mlp\"][\"c_fc\"][\"b\"])\n",
        "        gpt.trf_blocks[b].ff.layers[2].weight = assign(\n",
        "            gpt.trf_blocks[b].ff.layers[2].weight,\n",
        "            params[\"blocks\"][b][\"mlp\"][\"c_proj\"][\"w\"].T)\n",
        "        gpt.trf_blocks[b].ff.layers[2].bias = assign(\n",
        "            gpt.trf_blocks[b].ff.layers[2].bias,\n",
        "            params[\"blocks\"][b][\"mlp\"][\"c_proj\"][\"b\"])\n",
        "\n",
        "        gpt.trf_blocks[b].norm1.scale = assign(\n",
        "            gpt.trf_blocks[b].norm1.scale,\n",
        "            params[\"blocks\"][b][\"ln_1\"][\"g\"])\n",
        "        gpt.trf_blocks[b].norm1.shift = assign(\n",
        "            gpt.trf_blocks[b].norm1.shift,\n",
        "            params[\"blocks\"][b][\"ln_1\"][\"b\"])\n",
        "        gpt.trf_blocks[b].norm2.scale = assign(\n",
        "            gpt.trf_blocks[b].norm2.scale,\n",
        "            params[\"blocks\"][b][\"ln_2\"][\"g\"])\n",
        "        gpt.trf_blocks[b].norm2.shift = assign(\n",
        "            gpt.trf_blocks[b].norm2.shift,\n",
        "            params[\"blocks\"][b][\"ln_2\"][\"b\"])\n",
        "\n",
        "    gpt.final_norm.scale = assign(gpt.final_norm.scale, params[\"g\"])\n",
        "    gpt.final_norm.shift = assign(gpt.final_norm.shift, params[\"b\"])\n",
        "    gpt.out_head.weight = assign(gpt.out_head.weight, params[\"wte\"])\n",
        "\n",
        "\n",
        "load_weights_into_gpt(gpt, params)\n",
        "gpt.to(device);"
      ],
      "metadata": {
        "id": "J5iuK_8OAzio"
      },
      "execution_count": 194,
      "outputs": []
    },
    {
      "cell_type": "code",
      "source": [
        "torch.manual_seed(123)\n",
        "\n",
        "token_ids = generate(\n",
        "    model=gpt,\n",
        "    idx=text_to_token_ids(\"Every effort moves you\", tokenizer).to(device),\n",
        "    max_new_tokens=25,\n",
        "    context_size=NEW_CONFIG[\"context_length\"],\n",
        "    top_k=50,\n",
        "    temperature=1.5\n",
        ")\n",
        "\n",
        "print(\"Output text:\\n\", token_ids_to_text(token_ids, tokenizer))"
      ],
      "metadata": {
        "colab": {
          "base_uri": "https://localhost:8080/"
        },
        "id": "cUF0oWz7Bkga",
        "outputId": "d4185029-6d65-4da8-fa60-9396ada07a1e"
      },
      "execution_count": 195,
      "outputs": [
        {
          "output_type": "stream",
          "name": "stdout",
          "text": [
            "Output text:\n",
            " Every effort moves you as far as the hand can go until the end of your turn unless something happens\n",
            "\n",
            "This would remove you from a battle\n"
          ]
        }
      ]
    },
    {
      "cell_type": "code",
      "source": [],
      "metadata": {
        "id": "czLkK1I2BqGy"
      },
      "execution_count": null,
      "outputs": []
    }
  ]
}